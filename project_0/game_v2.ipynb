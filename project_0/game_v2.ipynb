{
 "cells": [
  {
   "cell_type": "code",
   "execution_count": null,
   "metadata": {},
   "outputs": [],
   "source": [
    "# Игра угадай число\n",
    "\n",
    "import numpy as np\n",
    "\n",
    "number = np.random.randint(1, 101)  # загадываем число\n",
    "count = 0\n",
    "\n",
    "while True:\n",
    "    count += 1\n",
    "    predict_number = int(input(\"Угадай число от 1 до 100:  \"))\n",
    "    \n",
    "    if predict_number > number:\n",
    "        print(\"Число должно быть меньше!\")\n",
    "    elif predict_number < number:\n",
    "        print(\"Число должно быть больше\")\n",
    "    else:\n",
    "        print(f\"Вы угадали число! Это число = {number}, За {count} попыток\")\n",
    "        break  # конец игры"
   ]
  },
  {
   "cell_type": "code",
   "execution_count": null,
   "metadata": {},
   "outputs": [],
   "source": []
  }
 ],
 "metadata": {
  "kernelspec": {
   "display_name": "Python 3.8.9 64-bit",
   "language": "python",
   "name": "python3"
  },
  "language_info": {
   "name": "python",
   "version": "3.8.9"
  },
  "orig_nbformat": 4,
  "vscode": {
   "interpreter": {
    "hash": "9650cb4e16cdd4a8e8e2d128bf38d875813998db22a3c986335f89e0cb4d7bb2"
   }
  }
 },
 "nbformat": 4,
 "nbformat_minor": 2
}
