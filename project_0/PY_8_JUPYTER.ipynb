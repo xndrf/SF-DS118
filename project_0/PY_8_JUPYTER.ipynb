{
 "cells": [
  {
   "cell_type": "markdown",
   "metadata": {},
   "source": [
    "## Программа, где компьютер сам загадывает и отгадывает числа\n",
    "\n",
    "* Функция **random_predict** принимает загаданное число **number**;\n",
    "* В аргументах функции через двоеточие указываем тип данных для ввода *(int)*, через равно - стандартное значение этого типа данных. Стрелка *(->)* указывает, на тип данных который мы получим на выходе, в нашем случае это тип данных *(int)*;\n",
    "* Присваиваем значение переменной счетчика попыток **count**;\n",
    "* Задаем минимальную и максимальную границу чисел **min_num, max_num**;\n",
    "* Программа выполняет бинарный поиск загаданного числа. \n",
    "##### Пояснение введенных дополнительных операндов в программе:\n",
    "- min_num (minimum number) - минимальное число\n",
    "- max_num (maximum number) - максимальное число\n",
    "- g_num (guessed number) - угадываемое число"
   ]
  },
  {
   "cell_type": "code",
   "execution_count": 1,
   "metadata": {},
   "outputs": [],
   "source": [
    "def random_predict(number: int=1) -> int:\n",
    "    \"\"\"Алгорит угадывания числа не более чем за 20 попыток.\n",
    "    Args:\n",
    "        number (int, optional): Загаданное число. Defaults to 1.\n",
    "    Returns:\n",
    "        int: Количество попыток\n",
    "    \"\"\"\n",
    "    # Задаем начальное количество попыток\n",
    "    count = 0\n",
    "    min_num, max_num = 1, 101\n",
    "    #  Создаем цикл while\n",
    "    while True:\n",
    "        count += 1\n",
    "    # Создаем оператор-выражения if-else\n",
    "    # if g_num == number:\n",
    "    # min_num + (max_num - min_num)//2\n",
    "    # return count\n",
    "    # Записываем код более компактно (Синтаксический сахар):\n",
    "        g_num = min_num + (max_num - min_num)//2\n",
    "        if g_num == number:\n",
    "            return count\n",
    "    # Условную конструкцию if/else\n",
    "    # записываем в виде трехместного выражения:\n",
    "        min_num, max_num = ((g_num, max_num) if g_num < number else\n",
    "                            (min_num, g_num))"
   ]
  },
  {
   "cell_type": "markdown",
   "metadata": {},
   "source": [
    "* Cоздаем функцию **score_game** для генерации массива 1000 случайных чисел в диапазоне от 1 до 100;\n",
    "* Выполняем тестирование функции на предмет определения числа попыток, которые требуются для угадывания числа."
   ]
  },
  {
   "cell_type": "code",
   "execution_count": 2,
   "metadata": {},
   "outputs": [],
   "source": [
    "def score_game(random_predict) -> int:\n",
    "    count_ls = []  # список для сохранения количества попыток\n",
    "    np.random.seed(1)  # фиксируем сид для воспроизводимости\n",
    "    random_array = np.random.randint(1, 101, size=(1000))  # загадали список\n",
    "\n",
    "    for number in random_array:\n",
    "        count_ls.append(random_predict(number))\n",
    "\n",
    "    score = int(np.mean(count_ls))  # находим среднее количество попыток\n",
    "    print(f'Разработанный алгоритм угадывает число в среднем за: {score} попыток')\n",
    "    return score"
   ]
  },
  {
   "cell_type": "markdown",
   "metadata": {},
   "source": []
  },
  {
   "cell_type": "markdown",
   "metadata": {},
   "source": [
    "### Результаты работы программы"
   ]
  },
  {
   "cell_type": "code",
   "execution_count": 4,
   "metadata": {},
   "outputs": [
    {
     "name": "stdout",
     "output_type": "stream",
     "text": [
      "Ваш алгоритм угадывает число в среднем за: 5 попыток\n"
     ]
    },
    {
     "data": {
      "text/plain": [
       "5"
      ]
     },
     "execution_count": 4,
     "metadata": {},
     "output_type": "execute_result"
    }
   ],
   "source": [
    "from PY_8_Final_Task import score_game\n",
    "from PY_8_Final_Task import random_predict\n",
    "score_game(random_predict)"
   ]
  },
  {
   "cell_type": "markdown",
   "metadata": {},
   "source": [
    "### Алгоритм угадывания функции [PY_Final_Task.py](https://github.com/xndrf/SF-DS118/blob/master/project_0/PY_8_Final_Task.py)\n",
    "### Файл зависимостей [requirements.txt](https://github.com/xndrf/SF-DS118/blob/master/project_0/requirements.txt)\n",
    "### Описание проекта [README.md](https://github.com/xndrf/SF-DS118/blob/master/project_0/Readme.md)"
   ]
  }
 ],
 "metadata": {
  "kernelspec": {
   "display_name": "Python 3.8.9 64-bit",
   "language": "python",
   "name": "python3"
  },
  "language_info": {
   "codemirror_mode": {
    "name": "ipython",
    "version": 3
   },
   "file_extension": ".py",
   "mimetype": "text/x-python",
   "name": "python",
   "nbconvert_exporter": "python",
   "pygments_lexer": "ipython3",
   "version": "3.8.9"
  },
  "orig_nbformat": 4,
  "vscode": {
   "interpreter": {
    "hash": "9650cb4e16cdd4a8e8e2d128bf38d875813998db22a3c986335f89e0cb4d7bb2"
   }
  }
 },
 "nbformat": 4,
 "nbformat_minor": 2
}
