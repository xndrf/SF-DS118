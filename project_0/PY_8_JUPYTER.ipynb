{
 "cells": [
  {
   "cell_type": "code",
   "execution_count": 1,
   "metadata": {},
   "outputs": [
    {
     "name": "stdout",
     "output_type": "stream",
     "text": [
      "Разработанный алгоритм угадывает число в среднем за: 5 попыток\n"
     ]
    },
    {
     "data": {
      "text/plain": [
       "5"
      ]
     },
     "execution_count": 1,
     "metadata": {},
     "output_type": "execute_result"
    }
   ],
   "source": [
    "def random_predict(number: int=1) -> int:\n",
    "    \"\"\"Алгорит угадывания числа не более чем за 20 попыток.\n",
    "    Args:\n",
    "        number (int, optional): Загаданное число. Defaults to 1.\n",
    "    Returns:\n",
    "        int: Количество попыток\n",
    "    \"\"\"\n",
    "    # Задаем начальное количество попыток\n",
    "    count = 0\n",
    "    # Задаем минимальную и максимульную границу чисел\n",
    "    # Термины для справки (minimum number and maximum number)\n",
    "    min_num, max_num = 1, 101\n",
    "    #  Создаем цикл while\n",
    "    while True:\n",
    "        count += 1\n",
    "    # Термины для справки  guessed number - g_num:\n",
    "    # Создаем оператор-выражения if-else\n",
    "    # if g_num == number:\n",
    "    # min_num + (max_num - min_num)//2\n",
    "    # return count\n",
    "    # Записываем код более компактно (Синтаксический сахар):\n",
    "        g_num = min_num + (max_num - min_num)//2\n",
    "        if g_num == number:\n",
    "            return count\n",
    "    # Условную инструкцию if/else:\n",
    "    # if g_num < number:\n",
    "    # min_num, max_num = g_num, max_num\n",
    "    # else:\n",
    "    # min_num, max_num = min_num, g_num\n",
    "    # записываем в виде трехместном выражение if/else\n",
    "        min_num, max_num = ((g_num, max_num) if g_num < number else\n",
    "                            (min_num, g_num))"
   ]
  },
  {
   "cell_type": "code",
   "execution_count": null,
   "metadata": {},
   "outputs": [],
   "source": [
    "def score_game(random_predict) -> int:\n",
    "    count_ls = []  # список для сохранения количества попыток\n",
    "    np.random.seed(1)  # фиксируем сид для воспроизводимости\n",
    "    random_array = np.random.randint(1, 101, size=(1000))  # загадали список\n",
    "\n",
    "    for number in random_array:\n",
    "        count_ls.append(random_predict(number))\n",
    "\n",
    "    score = int(np.mean(count_ls))  # находим среднее количество попыток\n",
    "\n",
    "    print(f'Разработанный алгоритм угадывает число в среднем за: {score} попыток')\n",
    "    return(score)"
   ]
  },
  {
   "cell_type": "code",
   "execution_count": 5,
   "metadata": {},
   "outputs": [
    {
     "name": "stdout",
     "output_type": "stream",
     "text": [
      "Ваш алгоритм угадывает число в среднем за: 5 попыток\n"
     ]
    },
    {
     "data": {
      "text/plain": [
       "5"
      ]
     },
     "execution_count": 5,
     "metadata": {},
     "output_type": "execute_result"
    }
   ],
   "source": [
    "from PY_8_Final_Task import score_game\n",
    "from PY_8_Final_Task import random_predict\n",
    "score_game(random_predict)"
   ]
  }
 ],
 "metadata": {
  "kernelspec": {
   "display_name": "Python 3.8.9 64-bit",
   "language": "python",
   "name": "python3"
  },
  "language_info": {
   "codemirror_mode": {
    "name": "ipython",
    "version": 3
   },
   "file_extension": ".py",
   "mimetype": "text/x-python",
   "name": "python",
   "nbconvert_exporter": "python",
   "pygments_lexer": "ipython3",
   "version": "3.8.9"
  },
  "orig_nbformat": 4,
  "vscode": {
   "interpreter": {
    "hash": "9650cb4e16cdd4a8e8e2d128bf38d875813998db22a3c986335f89e0cb4d7bb2"
   }
  }
 },
 "nbformat": 4,
 "nbformat_minor": 2
}
