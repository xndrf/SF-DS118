{
 "cells": [
  {
   "cell_type": "code",
   "execution_count": null,
   "metadata": {},
   "outputs": [],
   "source": []
  },
  {
   "attachments": {},
   "cell_type": "markdown",
   "metadata": {},
   "source": [
    "#### [Горячие клавиши Visual Studio Code 1](https://www.nikomedvedev.ru/other/vscodeshortcuts/hotkeys.html)\n",
    "#### [Горячие клавиши Visual Studio Code 2](https://gist.github.com/kotano/ea9664eb0b97a1b1d87bef444b318176#vscode)\n",
    "#### [Горячие клавиши Visual Studio Code 3](https://htmlacademy.ru/blog/soft/hot-keys)\n",
    "#### [Краткое руководство NumPy](https://pyprog.pro/short_guide.html)\n",
    "###### [Настольна шпаргалка по Pandas](file:///C:/Users/admin/Downloads/Pandas_info.pdf) \n",
    "#### [Книга / справочник при работе с Pandas](https://itfy.org/threads/kniga-o-biblioteke-pandas-pandas-rabota-s-dannymi-abdraxmanov-m-i.1262/)\n",
    "#### [Введение в анализ данных с помощью Pandas на Habr](https://habr.com/ru/post/196980/)\n",
    "\n"
   ]
  }
 ],
 "metadata": {
  "kernelspec": {
   "display_name": "Python 3.8.9 64-bit",
   "language": "python",
   "name": "python3"
  },
  "language_info": {
   "name": "python",
   "version": "3.8.9 (tags/v3.8.9:a743f81, Apr  6 2021, 14:02:34) [MSC v.1928 64 bit (AMD64)]"
  },
  "orig_nbformat": 4,
  "vscode": {
   "interpreter": {
    "hash": "9650cb4e16cdd4a8e8e2d128bf38d875813998db22a3c986335f89e0cb4d7bb2"
   }
  }
 },
 "nbformat": 4,
 "nbformat_minor": 2
}
