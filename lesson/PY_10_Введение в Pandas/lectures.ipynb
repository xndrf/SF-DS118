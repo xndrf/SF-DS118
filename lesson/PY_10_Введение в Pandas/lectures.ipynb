{
 "cells": [
  {
   "cell_type": "markdown",
   "metadata": {},
   "source": [
    "# Pandas\n",
    "- является наиболее продвинутой и быстроразвивающейся библиотекой для анализа данных и их предобработки\n",
    "- Подробная документация [Pandas](https://pandas.pydata.org/pandas-docs/stable/index.html) с детальным описанием всех функций и примерами их использования"
   ]
  },
  {
   "cell_type": "markdown",
   "metadata": {},
   "source": [
    "# Что умее Pandas\n",
    "- Среди основных возможностей библиотеки, необходимых специалисту в Data Science, можно выделить следующие:\n",
    "\n",
    "1. Работа с различными форматами данных (csv, excel, json, sql и т. д.).\n",
    "\n",
    "1. Фильтрация данных (извлечение данных по условиям).\n",
    "\n",
    "1. Быстрые математические операции с таблицами и их столбцами.\n",
    "\n",
    "1. Использование методов статистического анализа.\n",
    "\n",
    "1. Группировка данных и построение сводных таблиц.\n",
    "\n",
    "1. Объединение нескольких таблиц.\n",
    "\n",
    "1. Встроенная визуализация (возможность построения графиков по данным)."
   ]
  },
  {
   "cell_type": "code",
   "execution_count": 18,
   "metadata": {},
   "outputs": [
    {
     "name": "stdout",
     "output_type": "stream",
     "text": [
      "1.5.2\n",
      "pandas\n"
     ]
    }
   ],
   "source": [
    "# Импорт Pandas\n",
    "import pandas as pd\n",
    "print(pd.__version__)\n",
    "print(pd.__name__)"
   ]
  },
  {
   "cell_type": "markdown",
   "metadata": {},
   "source": [
    "# Series как структура данных\n",
    "- Series — это упорядоченная изменяемая коллекция объектов, имеющая так называемые ассоциативные метки (индексы) (Единица хранения информации в Pandas). Грубо говоря это гибрид списка и словаря. \n",
    "- В отличии от списка, индексами могут быть не только порядковые номера, а фактически что угодно, например компаний, даты, идентификаторы, наименование продуктов."
   ]
  },
  {
   "cell_type": "code",
   "execution_count": 19,
   "metadata": {},
   "outputs": [
    {
     "name": "stderr",
     "output_type": "stream",
     "text": [
      "C:\\Users\\admin\\AppData\\Local\\Temp\\ipykernel_24140\\3435611868.py:2: FutureWarning: The default dtype for empty Series will be 'object' instead of 'float64' in a future version. Specify a dtype explicitly to silence this warning.\n",
      "  pd.Series()\n"
     ]
    },
    {
     "data": {
      "text/plain": [
       "Series([], dtype: float64)"
      ]
     },
     "execution_count": 19,
     "metadata": {},
     "output_type": "execute_result"
    }
   ],
   "source": [
    "# для создания Series используется команда \n",
    "pd.Series()"
   ]
  },
  {
   "cell_type": "code",
   "execution_count": 20,
   "metadata": {},
   "outputs": [
    {
     "name": "stdout",
     "output_type": "stream",
     "text": [
      "Способ 1 - из списка с использованием параметров функции pd.Series():\n"
     ]
    },
    {
     "data": {
      "text/plain": [
       "UK       Англия\n",
       "CA       Канада\n",
       "US          США\n",
       "RU       Россия\n",
       "UA      Украина\n",
       "BY     Беларусь\n",
       "KZ    Казахстан\n",
       "Name: countries, dtype: object"
      ]
     },
     "metadata": {},
     "output_type": "display_data"
    },
    {
     "name": "stdout",
     "output_type": "stream",
     "text": [
      "Способ 2 — из словаря, в котором ключами являются будущие метки, а значениями — будущие значения Series, при этом использование параметра name также возможно\n"
     ]
    },
    {
     "data": {
      "text/plain": [
       "UK       Англия\n",
       "CA       Канада\n",
       "US          США\n",
       "RU       Россия\n",
       "UA      Украина\n",
       "BY     Беларусь\n",
       "KZ    Казахстан\n",
       "Name: countries, dtype: object"
      ]
     },
     "metadata": {},
     "output_type": "display_data"
    }
   ],
   "source": [
    "# Рассмотрим два способа создания Series\n",
    "# Функция display() является аналогом функции print() в файлах формата.ipynb\n",
    "print('Способ 1 - из списка с использованием параметров функции pd.Series():')\n",
    "countries = pd.Series(\n",
    "    data = ['Англия', 'Канада', 'США', 'Россия', 'Украина', 'Беларусь', 'Казахстан'],\n",
    "    index = ['UK', 'CA', 'US', 'RU', 'UA', 'BY', 'KZ'],\n",
    "    name = 'countries'\n",
    ")\n",
    "display(countries)\n",
    "print('Способ 2 — из словаря, в котором ключами являются будущие метки, а значениями — будущие значения Series, при этом использование параметра name также возможно')\n",
    "countries = pd.Series({\n",
    "    'UK': 'Англия',\n",
    "    'CA': 'Канада',\n",
    "    'US' : 'США',\n",
    "    'RU': 'Россия',\n",
    "    'UA': 'Украина',\n",
    "    'BY': 'Беларусь',\n",
    "    'KZ': 'Казахстан'},\n",
    "    name = 'countries'\n",
    ")\n",
    "display(countries)\n"
   ]
  },
  {
   "cell_type": "markdown",
   "metadata": {},
   "source": [
    "- Типом данных object в Pandas обозначаются строки и смешанные типы данных(котежи, списки, текст, смешанный с числами и т.д.)"
   ]
  },
  {
   "cell_type": "markdown",
   "metadata": {},
   "source": [
    "# Доступ к данным в Series\n",
    "Доступ к элементам осуществляется с использованием [loc](https://pandas.pydata.org/pandas-docs/stable/reference/api/pandas.Series.loc.html) или [iloc](https://pandas.pydata.org/pandas-docs/stable/reference/api/pandas.Series.iloc.html).\n",
    "- .loc - передаются как один индекс, так и списоки, чтобы получить несколько элементов\n",
    "- .iloc - передаются как один индекс, так и диапозны чисел."
   ]
  },
  {
   "cell_type": "code",
   "execution_count": 21,
   "metadata": {},
   "outputs": [
    {
     "name": "stdout",
     "output_type": "stream",
     "text": [
      "Пример .loc\n",
      "США\n",
      "\n",
      "US       США\n",
      "RU    Россия\n",
      "UK    Англия\n",
      "Name: countries, dtype: object\n",
      "\n",
      "Пример .iloc\n",
      "Казахстан\n",
      "\n",
      "CA    Канада\n",
      "US       США\n",
      "RU    Россия\n",
      "Name: countries, dtype: object\n"
     ]
    }
   ],
   "source": [
    "print('Пример .loc')\n",
    "print(countries.loc['US'])  # Один индекс\n",
    "print()\n",
    "print(countries.loc[['US', 'RU', 'UK']])  # Список\n",
    "print()\n",
    "print('Пример .iloc')\n",
    "print(countries.iloc[6])  # Один индекс\n",
    "print()\n",
    "print(countries.iloc[1:4])  # Диапазон"
   ]
  },
  {
   "cell_type": "markdown",
   "metadata": {},
   "source": [
    "- На самом деле loc и iloc можно опустить и обращаться к элементам Series напрямую по индексам, например countries[[‘UK’, 'US', ‘UA’]] или countries[[0, 2, 4]]. Оба варианта являются равноправными для Series, однако в дальнейшем мы будем использовать эти операции при обращении к более сложной структуре — DataFrame, а в контексте этой структуры эти варианты уже неравноправны."
   ]
  },
  {
   "cell_type": "markdown",
   "metadata": {},
   "source": [
    "# DataFrame как структура данных\n",
    "- DataFrame является двумерной структурой и представляется в виде таблицы, в которой есть строки и столбцы: столбцами в DataFrame выступают объекты Series, а строки формируются из их элементов. Также в DataFrame есть метки (индексы), которые соответствуют каждой строке таблицы.\n",
    "##### Терминалогия\n",
    "- DataFrame и таблица - это синонимы. \n",
    "- Столбец таблицы и признак - это синонимы."
   ]
  },
  {
   "cell_type": "markdown",
   "metadata": {},
   "source": [
    "#### Создание DataFrame"
   ]
  },
  {
   "cell_type": "code",
   "execution_count": 22,
   "metadata": {},
   "outputs": [
    {
     "data": {
      "text/html": [
       "<div>\n",
       "<style scoped>\n",
       "    .dataframe tbody tr th:only-of-type {\n",
       "        vertical-align: middle;\n",
       "    }\n",
       "\n",
       "    .dataframe tbody tr th {\n",
       "        vertical-align: top;\n",
       "    }\n",
       "\n",
       "    .dataframe thead th {\n",
       "        text-align: right;\n",
       "    }\n",
       "</style>\n",
       "<table border=\"1\" class=\"dataframe\">\n",
       "  <thead>\n",
       "    <tr style=\"text-align: right;\">\n",
       "      <th></th>\n",
       "    </tr>\n",
       "  </thead>\n",
       "  <tbody>\n",
       "  </tbody>\n",
       "</table>\n",
       "</div>"
      ],
      "text/plain": [
       "Empty DataFrame\n",
       "Columns: []\n",
       "Index: []"
      ]
     },
     "execution_count": 22,
     "metadata": {},
     "output_type": "execute_result"
    }
   ],
   "source": [
    "pd.DataFrame() # создание функции DataFrame"
   ]
  },
  {
   "cell_type": "code",
   "execution_count": 23,
   "metadata": {},
   "outputs": [
    {
     "name": "stdout",
     "output_type": "stream",
     "text": [
      "Способ 1.\n",
      "Cоздания DataFrame — из словаря, ключами которого являются имена столбцов будущей таблицы, а значениями — списки, в которых хранится содержимое этих столбцов\n"
     ]
    },
    {
     "data": {
      "text/html": [
       "<div>\n",
       "<style scoped>\n",
       "    .dataframe tbody tr th:only-of-type {\n",
       "        vertical-align: middle;\n",
       "    }\n",
       "\n",
       "    .dataframe tbody tr th {\n",
       "        vertical-align: top;\n",
       "    }\n",
       "\n",
       "    .dataframe thead th {\n",
       "        text-align: right;\n",
       "    }\n",
       "</style>\n",
       "<table border=\"1\" class=\"dataframe\">\n",
       "  <thead>\n",
       "    <tr style=\"text-align: right;\">\n",
       "      <th></th>\n",
       "      <th>country</th>\n",
       "      <th>population</th>\n",
       "      <th>square</th>\n",
       "    </tr>\n",
       "  </thead>\n",
       "  <tbody>\n",
       "    <tr>\n",
       "      <th>UK</th>\n",
       "      <td>Англия</td>\n",
       "      <td>56.29</td>\n",
       "      <td>133396</td>\n",
       "    </tr>\n",
       "    <tr>\n",
       "      <th>CA</th>\n",
       "      <td>Канада</td>\n",
       "      <td>38.05</td>\n",
       "      <td>9984670</td>\n",
       "    </tr>\n",
       "    <tr>\n",
       "      <th>US</th>\n",
       "      <td>США</td>\n",
       "      <td>322.28</td>\n",
       "      <td>9826630</td>\n",
       "    </tr>\n",
       "    <tr>\n",
       "      <th>RU</th>\n",
       "      <td>Россия</td>\n",
       "      <td>146.24</td>\n",
       "      <td>17125191</td>\n",
       "    </tr>\n",
       "    <tr>\n",
       "      <th>UA</th>\n",
       "      <td>Украина</td>\n",
       "      <td>45.50</td>\n",
       "      <td>603628</td>\n",
       "    </tr>\n",
       "    <tr>\n",
       "      <th>BY</th>\n",
       "      <td>Беларусь</td>\n",
       "      <td>9.50</td>\n",
       "      <td>207600</td>\n",
       "    </tr>\n",
       "    <tr>\n",
       "      <th>KZ</th>\n",
       "      <td>Казахстан</td>\n",
       "      <td>17.04</td>\n",
       "      <td>2724902</td>\n",
       "    </tr>\n",
       "  </tbody>\n",
       "</table>\n",
       "</div>"
      ],
      "text/plain": [
       "      country  population    square\n",
       "UK     Англия       56.29    133396\n",
       "CA     Канада       38.05   9984670\n",
       "US        США      322.28   9826630\n",
       "RU     Россия      146.24  17125191\n",
       "UA    Украина       45.50    603628\n",
       "BY   Беларусь        9.50    207600\n",
       "KZ  Казахстан       17.04   2724902"
      ]
     },
     "metadata": {},
     "output_type": "display_data"
    },
    {
     "name": "stdout",
     "output_type": "stream",
     "text": [
      "\n",
      "Способ 2.\n",
      "Создание DataFrame - из вложенного списка, внутренние списки которого будут являться строками новой таблицы\n"
     ]
    },
    {
     "data": {
      "text/html": [
       "<div>\n",
       "<style scoped>\n",
       "    .dataframe tbody tr th:only-of-type {\n",
       "        vertical-align: middle;\n",
       "    }\n",
       "\n",
       "    .dataframe tbody tr th {\n",
       "        vertical-align: top;\n",
       "    }\n",
       "\n",
       "    .dataframe thead th {\n",
       "        text-align: right;\n",
       "    }\n",
       "</style>\n",
       "<table border=\"1\" class=\"dataframe\">\n",
       "  <thead>\n",
       "    <tr style=\"text-align: right;\">\n",
       "      <th></th>\n",
       "      <th>country</th>\n",
       "      <th>population</th>\n",
       "      <th>square</th>\n",
       "    </tr>\n",
       "  </thead>\n",
       "  <tbody>\n",
       "    <tr>\n",
       "      <th>UK</th>\n",
       "      <td>Англия</td>\n",
       "      <td>56.29</td>\n",
       "      <td>133396</td>\n",
       "    </tr>\n",
       "    <tr>\n",
       "      <th>CA</th>\n",
       "      <td>Канада</td>\n",
       "      <td>38.05</td>\n",
       "      <td>9984670</td>\n",
       "    </tr>\n",
       "    <tr>\n",
       "      <th>US</th>\n",
       "      <td>США</td>\n",
       "      <td>322.28</td>\n",
       "      <td>9826630</td>\n",
       "    </tr>\n",
       "    <tr>\n",
       "      <th>RU</th>\n",
       "      <td>Россия</td>\n",
       "      <td>146.24</td>\n",
       "      <td>17125191</td>\n",
       "    </tr>\n",
       "    <tr>\n",
       "      <th>UA</th>\n",
       "      <td>Украина</td>\n",
       "      <td>45.50</td>\n",
       "      <td>603628</td>\n",
       "    </tr>\n",
       "    <tr>\n",
       "      <th>BY</th>\n",
       "      <td>Беларусь</td>\n",
       "      <td>9.50</td>\n",
       "      <td>207600</td>\n",
       "    </tr>\n",
       "    <tr>\n",
       "      <th>KZ</th>\n",
       "      <td>Казахстан</td>\n",
       "      <td>17.04</td>\n",
       "      <td>2724902</td>\n",
       "    </tr>\n",
       "  </tbody>\n",
       "</table>\n",
       "</div>"
      ],
      "text/plain": [
       "      country  population    square\n",
       "UK     Англия       56.29    133396\n",
       "CA     Канада       38.05   9984670\n",
       "US        США      322.28   9826630\n",
       "RU     Россия      146.24  17125191\n",
       "UA    Украина       45.50    603628\n",
       "BY   Беларусь        9.50    207600\n",
       "KZ  Казахстан       17.04   2724902"
      ]
     },
     "metadata": {},
     "output_type": "display_data"
    }
   ],
   "source": [
    "print('Способ 1.') \n",
    "print('Cоздания DataFrame — из словаря, ключами которого являются имена столбцов будущей таблицы, а значениями — списки, в которых хранится содержимое этих столбцов')\n",
    "countries_df = pd.DataFrame({\n",
    "    'country': ['Англия', 'Канада', 'США', 'Россия', 'Украина', 'Беларусь', 'Казахстан'],\n",
    "    'population': [56.29, 38.05, 322.28, 146.24, 45.5, 9.5, 17.04],\n",
    "    'square': [133396, 9984670, 9826630, 17125191, 603628, 207600, 2724902]\n",
    "})\n",
    "countries_df.index = ['UK', 'CA', 'US', 'RU', 'UA', 'BY', 'KZ']\n",
    "display(countries_df)\n",
    "print()\n",
    "print('Способ 2.')\n",
    "print('Создание DataFrame - из вложенного списка, внутренние списки которого будут являться строками новой таблицы')\n",
    "countries_df = pd.DataFrame(\n",
    "    data = [\n",
    "        ['Англия', 56.29, 133396],\n",
    "        ['Канада', 38.05, 9984670],\n",
    "        ['США', 322.28, 9826630],\n",
    "        ['Россия', 146.24, 17125191],\n",
    "        ['Украина', 45.5, 603628],\n",
    "        ['Беларусь', 9.5, 207600],\n",
    "        ['Казахстан', 17.04, 2724902]\n",
    "    ],\n",
    "    columns= ['country', 'population', 'square'],\n",
    "    index = ['UK', 'CA', 'US', 'RU', 'UA', 'BY', 'KZ']\n",
    ")\n",
    "display(countries_df)\n",
    " "
   ]
  },
  {
   "cell_type": "markdown",
   "metadata": {},
   "source": [
    "# AXIS В DataFrame\n",
    "- DataFrame является двумерной структурой данных, что означает наличие двух возможных направлений движения в ней: вдоль строк и вдоль столбцов. (т.е. мы можем редактировать, как строки, так и столбцы. Например удалять их)\n",
    "\n",
    "- axis - ось, координата. Движение по строкам в таблице обозначается axis с индексом 0, а движение по столбцам — axis с индексом 1.\n",
    "Данный параметр заложен во все методы, которые могут работать в двух направлениях и по умолчанию в большинстве из них axis=0, то есть они выполняют операции со строками, если не задавать axis вручную.\n",
    "\n",
    "##### демонстрация направления axis в DataFrame:\n",
    "![Image of Yaktocat](https://i.stack.imgur.com/dcoE3.jpg)"
   ]
  },
  {
   "cell_type": "code",
   "execution_count": 24,
   "metadata": {},
   "outputs": [
    {
     "data": {
      "text/plain": [
       "'Считаем среднее по строкам(axis = 0) в каждом столбце:'"
      ]
     },
     "metadata": {},
     "output_type": "display_data"
    },
    {
     "name": "stderr",
     "output_type": "stream",
     "text": [
      "C:\\Users\\admin\\AppData\\Local\\Temp\\ipykernel_24140\\4110519065.py:2: FutureWarning: The default value of numeric_only in DataFrame.mean is deprecated. In a future version, it will default to False. In addition, specifying 'numeric_only=None' is deprecated. Select only valid columns or specify the value of numeric_only to silence this warning.\n",
      "  display(countries_df.mean(axis=0))\n"
     ]
    },
    {
     "data": {
      "text/plain": [
       "population    9.070000e+01\n",
       "square        5.800860e+06\n",
       "dtype: float64"
      ]
     },
     "metadata": {},
     "output_type": "display_data"
    },
    {
     "data": {
      "text/plain": [
       "'Считаем среднее по столбцам(axis = 1) в каждой строке'"
      ]
     },
     "metadata": {},
     "output_type": "display_data"
    },
    {
     "name": "stderr",
     "output_type": "stream",
     "text": [
      "C:\\Users\\admin\\AppData\\Local\\Temp\\ipykernel_24140\\4110519065.py:5: FutureWarning: Dropping of nuisance columns in DataFrame reductions (with 'numeric_only=None') is deprecated; in a future version this will raise TypeError.  Select only valid columns before calling the reduction.\n",
      "  display(countries_df.mean(axis=1))\n"
     ]
    },
    {
     "data": {
      "text/plain": [
       "UK      66726.145\n",
       "CA    4992354.025\n",
       "US    4913476.140\n",
       "RU    8562668.620\n",
       "UA     301836.750\n",
       "BY     103804.750\n",
       "KZ    1362459.520\n",
       "dtype: float64"
      ]
     },
     "metadata": {},
     "output_type": "display_data"
    },
    {
     "data": {
      "text/plain": [
       "'Обращаемся к DataFrame по имени столбца через точку:'"
      ]
     },
     "metadata": {},
     "output_type": "display_data"
    },
    {
     "data": {
      "text/plain": [
       "UK     56.29\n",
       "CA     38.05\n",
       "US    322.28\n",
       "RU    146.24\n",
       "UA     45.50\n",
       "BY      9.50\n",
       "KZ     17.04\n",
       "Name: population, dtype: float64"
      ]
     },
     "metadata": {},
     "output_type": "display_data"
    }
   ],
   "source": [
    "display('Считаем среднее по строкам(axis = 0) в каждом столбце:')\n",
    "display(countries_df.mean(axis=0))\n",
    "display()\n",
    "display('Считаем среднее по столбцам(axis = 1) в каждой строке')\n",
    "display(countries_df.mean(axis=1))\n",
    "display()\n",
    "display('Обращаемся к DataFrame по имени столбца через точку:')\n",
    "display(countries_df.population)"
   ]
  },
  {
   "cell_type": "markdown",
   "metadata": {},
   "source": [
    "#"
   ]
  },
  {
   "cell_type": "code",
   "execution_count": 25,
   "metadata": {},
   "outputs": [
    {
     "name": "stdout",
     "output_type": "stream",
     "text": [
      "Обращаемся к DataFrame по индексу и указанием имени столбца:\n",
      "UK     56.29\n",
      "CA     38.05\n",
      "US    322.28\n",
      "RU    146.24\n",
      "UA     45.50\n",
      "BY      9.50\n",
      "KZ     17.04\n",
      "Name: population, dtype: float64\n",
      "\n",
      "Несколько примеров использования loc и iloc:\n"
     ]
    },
    {
     "data": {
      "text/plain": [
       "133396"
      ]
     },
     "metadata": {},
     "output_type": "display_data"
    },
    {
     "name": "stdout",
     "output_type": "stream",
     "text": [
      "\n"
     ]
    },
    {
     "data": {
      "text/plain": [
       "population      146.24\n",
       "square        17125191\n",
       "Name: RU, dtype: object"
      ]
     },
     "metadata": {},
     "output_type": "display_data"
    },
    {
     "name": "stdout",
     "output_type": "stream",
     "text": [
      "\n"
     ]
    },
    {
     "data": {
      "text/html": [
       "<div>\n",
       "<style scoped>\n",
       "    .dataframe tbody tr th:only-of-type {\n",
       "        vertical-align: middle;\n",
       "    }\n",
       "\n",
       "    .dataframe tbody tr th {\n",
       "        vertical-align: top;\n",
       "    }\n",
       "\n",
       "    .dataframe thead th {\n",
       "        text-align: right;\n",
       "    }\n",
       "</style>\n",
       "<table border=\"1\" class=\"dataframe\">\n",
       "  <thead>\n",
       "    <tr style=\"text-align: right;\">\n",
       "      <th></th>\n",
       "      <th>population</th>\n",
       "      <th>square</th>\n",
       "    </tr>\n",
       "  </thead>\n",
       "  <tbody>\n",
       "    <tr>\n",
       "      <th>UA</th>\n",
       "      <td>45.50</td>\n",
       "      <td>603628</td>\n",
       "    </tr>\n",
       "    <tr>\n",
       "      <th>BY</th>\n",
       "      <td>9.50</td>\n",
       "      <td>207600</td>\n",
       "    </tr>\n",
       "    <tr>\n",
       "      <th>KZ</th>\n",
       "      <td>17.04</td>\n",
       "      <td>2724902</td>\n",
       "    </tr>\n",
       "  </tbody>\n",
       "</table>\n",
       "</div>"
      ],
      "text/plain": [
       "    population   square\n",
       "UA       45.50   603628\n",
       "BY        9.50   207600\n",
       "KZ       17.04  2724902"
      ]
     },
     "metadata": {},
     "output_type": "display_data"
    },
    {
     "name": "stdout",
     "output_type": "stream",
     "text": [
      "\n"
     ]
    },
    {
     "data": {
      "text/html": [
       "<div>\n",
       "<style scoped>\n",
       "    .dataframe tbody tr th:only-of-type {\n",
       "        vertical-align: middle;\n",
       "    }\n",
       "\n",
       "    .dataframe tbody tr th {\n",
       "        vertical-align: top;\n",
       "    }\n",
       "\n",
       "    .dataframe thead th {\n",
       "        text-align: right;\n",
       "    }\n",
       "</style>\n",
       "<table border=\"1\" class=\"dataframe\">\n",
       "  <thead>\n",
       "    <tr style=\"text-align: right;\">\n",
       "      <th></th>\n",
       "      <th>population</th>\n",
       "      <th>square</th>\n",
       "    </tr>\n",
       "  </thead>\n",
       "  <tbody>\n",
       "    <tr>\n",
       "      <th>UA</th>\n",
       "      <td>45.50</td>\n",
       "      <td>603628</td>\n",
       "    </tr>\n",
       "    <tr>\n",
       "      <th>BY</th>\n",
       "      <td>9.50</td>\n",
       "      <td>207600</td>\n",
       "    </tr>\n",
       "    <tr>\n",
       "      <th>KZ</th>\n",
       "      <td>17.04</td>\n",
       "      <td>2724902</td>\n",
       "    </tr>\n",
       "  </tbody>\n",
       "</table>\n",
       "</div>"
      ],
      "text/plain": [
       "    population   square\n",
       "UA       45.50   603628\n",
       "BY        9.50   207600\n",
       "KZ       17.04  2724902"
      ]
     },
     "metadata": {},
     "output_type": "display_data"
    }
   ],
   "source": [
    "print('Обращаемся к DataFrame по индексу и указанием имени столбца:')\n",
    "print(countries_df['population'])\n",
    "print()\n",
    "print('Несколько примеров использования loc и iloc:')\n",
    "display(countries_df.loc['UK', 'square'])\n",
    "print()\n",
    "display(countries_df.loc['RU', ['population', 'square']])\n",
    "print()\n",
    "display(countries_df.loc[['UA', 'BY', 'KZ'],['population', 'square']])\n",
    "print()\n",
    "display(countries_df.iloc[4:8, 1:3])"
   ]
  },
  {
   "cell_type": "markdown",
   "metadata": {},
   "source": [
    "# Работа с различными источниками данных в Pandas\n",
    "- В работе Data Scientist чаще всего сталкивается с уже собранными данными, хранящимися в виде файлов и других источников, таких как базы данных и web-источники. Проблема заключается в том, что каждый источник данных представляет разный формат: например, если данные приходят к вам из отдела бухгалтерии, то это, скорее всего, будет формат Excel-таблицы, результаты web-запросов чаще всего представлены в формате JSON или XML и так далее."
   ]
  },
  {
   "cell_type": "markdown",
   "metadata": {},
   "source": [
    "### ЗАПИСЬ В CSV-ФАЙЛ\n",
    "Предположим, что мы захотели сохранить созданный нами ранее DataFrame. Самым простым и распространённым источником табличных данных является формат [csv](https://freesoft.ru/blog/fayl-formata-csv-chem-otkryt-opisanie-osobennosti) (comma-separated values). В данном формате ячейки таблицы обозначаются некоторым разделителем, чаще всего запятой либо точкой с запятой.\n",
    "Экспорт данных в формат csv осуществляется с помощью метода **DataFrame to_csv()**.  \n",
    "\n"
   ]
  },
  {
   "cell_type": "markdown",
   "metadata": {},
   "source": [
    "#### Основные параметры метода DataFrame [to_csv()](https://pandas.pydata.org/pandas-docs/stable/reference/api/pandas.DataFrame.to_csv.html)\n",
    "- path_or_buf — путь до файла, в который будет записан DataFrame (например, data/my_data.csv);\n",
    "- sep — разделитель данных в выходном файле (по умолчанию ',');\n",
    "- decimal — разделитель чисел на целую и дробную части в выходном файле (по умолчанию '.');\n",
    "- columns — список столбцов, которые нужно записать в файл (по умолчанию записываются все столбцы);\n",
    "- index — параметр, определяющий, требуется ли создавать дополнительный столбец с индексами строк в файле (по умолчанию True).\n",
    "\n",
    "Заранее создадим папку data в директории, где лежит наш ноутбук. Теперь давайте сохраним наш DataFrame с информацией о странах в csv-файл countries.csv и положим файл в папку data. При этом укажем, что разделителем в нашем файле будет являться символ ';', а также то, что нам не нужен дополнительный столбец с индексами строк:\n",
    "\n"
   ]
  },
  {
   "cell_type": "code",
   "execution_count": 2,
   "metadata": {},
   "outputs": [],
   "source": [
    "import pandas as pd\n",
    "\n",
    "countries_df = pd.DataFrame({\n",
    "    'country': ['England', 'Canada', 'USA', 'Russia', 'Ukrain', 'Belarus', 'Kazahstan'],\n",
    "    'population': [56.29, 38.05, 322.28, 146.24, 45.5, 9.5, 17.04],\n",
    "    'square': [133396, 9984670, 9826630, 17125191, 603628, 207600, 2724902]\n",
    "})\n",
    "\n",
    "countries_df.to_csv('C:\\\\Users\\\\admin\\\\Desktop\\\\SF DS118\\\\data\\\\countries.csv', index=False, sep=';')"
   ]
  },
  {
   "cell_type": "markdown",
   "metadata": {},
   "source": [
    "### Чтение CSV-Фала\n",
    "- для этого используется функция модуля Pandas **read_csv**. Функция возвращает DataFrame И имеет несколько важных параметров.\n",
    "#### Основные параметры функции [read_csv()](https://pandas.pydata.org/docs/reference/api/pandas.read_csv.html)\n",
    "\n",
    "- filepath_or_buffer — путь до файла, который мы читаем;\n",
    "- sep — разделитель данных (по умолчанию ',');\n",
    "- decimal — разделитель чисел на целую и дробную часть в выходном файле (по умолчанию '.');\n",
    "- names — список с названиями столбцов для чтения;\n",
    "- skiprows — количество строк в файле, которые нужно пропустить (например, файл может содержать служебную информацию, которая нам не нужна).\n"
   ]
  },
  {
   "cell_type": "code",
   "execution_count": 34,
   "metadata": {},
   "outputs": [
    {
     "data": {
      "text/html": [
       "<div>\n",
       "<style scoped>\n",
       "    .dataframe tbody tr th:only-of-type {\n",
       "        vertical-align: middle;\n",
       "    }\n",
       "\n",
       "    .dataframe tbody tr th {\n",
       "        vertical-align: top;\n",
       "    }\n",
       "\n",
       "    .dataframe thead th {\n",
       "        text-align: right;\n",
       "    }\n",
       "</style>\n",
       "<table border=\"1\" class=\"dataframe\">\n",
       "  <thead>\n",
       "    <tr style=\"text-align: right;\">\n",
       "      <th></th>\n",
       "      <th>country</th>\n",
       "      <th>population</th>\n",
       "      <th>square</th>\n",
       "    </tr>\n",
       "  </thead>\n",
       "  <tbody>\n",
       "    <tr>\n",
       "      <th>0</th>\n",
       "      <td>England</td>\n",
       "      <td>56.29</td>\n",
       "      <td>133396</td>\n",
       "    </tr>\n",
       "    <tr>\n",
       "      <th>1</th>\n",
       "      <td>Canada</td>\n",
       "      <td>38.05</td>\n",
       "      <td>9984670</td>\n",
       "    </tr>\n",
       "    <tr>\n",
       "      <th>2</th>\n",
       "      <td>USA</td>\n",
       "      <td>322.28</td>\n",
       "      <td>9826630</td>\n",
       "    </tr>\n",
       "    <tr>\n",
       "      <th>3</th>\n",
       "      <td>Russia</td>\n",
       "      <td>146.24</td>\n",
       "      <td>17125191</td>\n",
       "    </tr>\n",
       "    <tr>\n",
       "      <th>4</th>\n",
       "      <td>Ukrain</td>\n",
       "      <td>45.50</td>\n",
       "      <td>603628</td>\n",
       "    </tr>\n",
       "    <tr>\n",
       "      <th>5</th>\n",
       "      <td>Belarus</td>\n",
       "      <td>9.50</td>\n",
       "      <td>207600</td>\n",
       "    </tr>\n",
       "    <tr>\n",
       "      <th>6</th>\n",
       "      <td>Kazahstan</td>\n",
       "      <td>17.04</td>\n",
       "      <td>2724902</td>\n",
       "    </tr>\n",
       "  </tbody>\n",
       "</table>\n",
       "</div>"
      ],
      "text/plain": [
       "     country  population    square\n",
       "0    England       56.29    133396\n",
       "1     Canada       38.05   9984670\n",
       "2        USA      322.28   9826630\n",
       "3     Russia      146.24  17125191\n",
       "4     Ukrain       45.50    603628\n",
       "5    Belarus        9.50    207600\n",
       "6  Kazahstan       17.04   2724902"
      ]
     },
     "metadata": {},
     "output_type": "display_data"
    }
   ],
   "source": [
    "# проверяем, что ранее сохраненный нами файл был создан верно\n",
    "countries_data = pd.read_csv('C:\\\\Users\\\\admin\\\\Desktop\\\\SF DS118\\\\data\\\\countries.csv', sep=';')\n",
    "display(countries_data)"
   ]
  },
  {
   "cell_type": "markdown",
   "metadata": {},
   "source": [
    "# ЧТЕНИЕ CSV-ФАЙЛА ПО ССЫЛКЕ\n",
    "На самом деле файл с данными не обязательно должен храниться у вас на компьютере. Если он находится в открытом доступе по ссылке (например, на Google Диске или GitHub), его можно прочитать и из интернета — для этого достаточно в функции read_csv() вместо пути до файла указать ссылку на файл. Например:"
   ]
  },
  {
   "cell_type": "code",
   "execution_count": 35,
   "metadata": {},
   "outputs": [
    {
     "data": {
      "text/html": [
       "<div>\n",
       "<style scoped>\n",
       "    .dataframe tbody tr th:only-of-type {\n",
       "        vertical-align: middle;\n",
       "    }\n",
       "\n",
       "    .dataframe tbody tr th {\n",
       "        vertical-align: top;\n",
       "    }\n",
       "\n",
       "    .dataframe thead th {\n",
       "        text-align: right;\n",
       "    }\n",
       "</style>\n",
       "<table border=\"1\" class=\"dataframe\">\n",
       "  <thead>\n",
       "    <tr style=\"text-align: right;\">\n",
       "      <th></th>\n",
       "      <th>Unnamed: 0</th>\n",
       "      <th>Suburb</th>\n",
       "      <th>Address</th>\n",
       "      <th>Rooms</th>\n",
       "      <th>Type</th>\n",
       "      <th>Price</th>\n",
       "      <th>Method</th>\n",
       "      <th>SellerG</th>\n",
       "      <th>Date</th>\n",
       "      <th>Distance</th>\n",
       "      <th>...</th>\n",
       "      <th>Bathroom</th>\n",
       "      <th>Car</th>\n",
       "      <th>Landsize</th>\n",
       "      <th>BuildingArea</th>\n",
       "      <th>YearBuilt</th>\n",
       "      <th>CouncilArea</th>\n",
       "      <th>Lattitude</th>\n",
       "      <th>Longtitude</th>\n",
       "      <th>Regionname</th>\n",
       "      <th>Propertycount</th>\n",
       "    </tr>\n",
       "  </thead>\n",
       "  <tbody>\n",
       "    <tr>\n",
       "      <th>0</th>\n",
       "      <td>1</td>\n",
       "      <td>Abbotsford</td>\n",
       "      <td>85 Turner St</td>\n",
       "      <td>2</td>\n",
       "      <td>h</td>\n",
       "      <td>1480000.0</td>\n",
       "      <td>S</td>\n",
       "      <td>Biggin</td>\n",
       "      <td>3/12/2016</td>\n",
       "      <td>2.5</td>\n",
       "      <td>...</td>\n",
       "      <td>1.0</td>\n",
       "      <td>1.0</td>\n",
       "      <td>202.0</td>\n",
       "      <td>NaN</td>\n",
       "      <td>NaN</td>\n",
       "      <td>Yarra</td>\n",
       "      <td>-37.79960</td>\n",
       "      <td>144.99840</td>\n",
       "      <td>Northern Metropolitan</td>\n",
       "      <td>4019.0</td>\n",
       "    </tr>\n",
       "    <tr>\n",
       "      <th>1</th>\n",
       "      <td>2</td>\n",
       "      <td>Abbotsford</td>\n",
       "      <td>25 Bloomburg St</td>\n",
       "      <td>2</td>\n",
       "      <td>h</td>\n",
       "      <td>1035000.0</td>\n",
       "      <td>S</td>\n",
       "      <td>Biggin</td>\n",
       "      <td>4/02/2016</td>\n",
       "      <td>2.5</td>\n",
       "      <td>...</td>\n",
       "      <td>1.0</td>\n",
       "      <td>0.0</td>\n",
       "      <td>156.0</td>\n",
       "      <td>79.0</td>\n",
       "      <td>1900.0</td>\n",
       "      <td>Yarra</td>\n",
       "      <td>-37.80790</td>\n",
       "      <td>144.99340</td>\n",
       "      <td>Northern Metropolitan</td>\n",
       "      <td>4019.0</td>\n",
       "    </tr>\n",
       "    <tr>\n",
       "      <th>2</th>\n",
       "      <td>4</td>\n",
       "      <td>Abbotsford</td>\n",
       "      <td>5 Charles St</td>\n",
       "      <td>3</td>\n",
       "      <td>h</td>\n",
       "      <td>1465000.0</td>\n",
       "      <td>SP</td>\n",
       "      <td>Biggin</td>\n",
       "      <td>4/03/2017</td>\n",
       "      <td>2.5</td>\n",
       "      <td>...</td>\n",
       "      <td>2.0</td>\n",
       "      <td>0.0</td>\n",
       "      <td>134.0</td>\n",
       "      <td>150.0</td>\n",
       "      <td>1900.0</td>\n",
       "      <td>Yarra</td>\n",
       "      <td>-37.80930</td>\n",
       "      <td>144.99440</td>\n",
       "      <td>Northern Metropolitan</td>\n",
       "      <td>4019.0</td>\n",
       "    </tr>\n",
       "    <tr>\n",
       "      <th>3</th>\n",
       "      <td>5</td>\n",
       "      <td>Abbotsford</td>\n",
       "      <td>40 Federation La</td>\n",
       "      <td>3</td>\n",
       "      <td>h</td>\n",
       "      <td>850000.0</td>\n",
       "      <td>PI</td>\n",
       "      <td>Biggin</td>\n",
       "      <td>4/03/2017</td>\n",
       "      <td>2.5</td>\n",
       "      <td>...</td>\n",
       "      <td>2.0</td>\n",
       "      <td>1.0</td>\n",
       "      <td>94.0</td>\n",
       "      <td>NaN</td>\n",
       "      <td>NaN</td>\n",
       "      <td>Yarra</td>\n",
       "      <td>-37.79690</td>\n",
       "      <td>144.99690</td>\n",
       "      <td>Northern Metropolitan</td>\n",
       "      <td>4019.0</td>\n",
       "    </tr>\n",
       "    <tr>\n",
       "      <th>4</th>\n",
       "      <td>6</td>\n",
       "      <td>Abbotsford</td>\n",
       "      <td>55a Park St</td>\n",
       "      <td>4</td>\n",
       "      <td>h</td>\n",
       "      <td>1600000.0</td>\n",
       "      <td>VB</td>\n",
       "      <td>Nelson</td>\n",
       "      <td>4/06/2016</td>\n",
       "      <td>2.5</td>\n",
       "      <td>...</td>\n",
       "      <td>1.0</td>\n",
       "      <td>2.0</td>\n",
       "      <td>120.0</td>\n",
       "      <td>142.0</td>\n",
       "      <td>2014.0</td>\n",
       "      <td>Yarra</td>\n",
       "      <td>-37.80720</td>\n",
       "      <td>144.99410</td>\n",
       "      <td>Northern Metropolitan</td>\n",
       "      <td>4019.0</td>\n",
       "    </tr>\n",
       "    <tr>\n",
       "      <th>...</th>\n",
       "      <td>...</td>\n",
       "      <td>...</td>\n",
       "      <td>...</td>\n",
       "      <td>...</td>\n",
       "      <td>...</td>\n",
       "      <td>...</td>\n",
       "      <td>...</td>\n",
       "      <td>...</td>\n",
       "      <td>...</td>\n",
       "      <td>...</td>\n",
       "      <td>...</td>\n",
       "      <td>...</td>\n",
       "      <td>...</td>\n",
       "      <td>...</td>\n",
       "      <td>...</td>\n",
       "      <td>...</td>\n",
       "      <td>...</td>\n",
       "      <td>...</td>\n",
       "      <td>...</td>\n",
       "      <td>...</td>\n",
       "      <td>...</td>\n",
       "    </tr>\n",
       "    <tr>\n",
       "      <th>18391</th>\n",
       "      <td>23540</td>\n",
       "      <td>Williamstown</td>\n",
       "      <td>8/2 Thompson St</td>\n",
       "      <td>2</td>\n",
       "      <td>t</td>\n",
       "      <td>622500.0</td>\n",
       "      <td>SP</td>\n",
       "      <td>Greg</td>\n",
       "      <td>26/08/2017</td>\n",
       "      <td>6.8</td>\n",
       "      <td>...</td>\n",
       "      <td>2.0</td>\n",
       "      <td>1.0</td>\n",
       "      <td>NaN</td>\n",
       "      <td>89.0</td>\n",
       "      <td>2010.0</td>\n",
       "      <td>NaN</td>\n",
       "      <td>-37.86393</td>\n",
       "      <td>144.90484</td>\n",
       "      <td>Western Metropolitan</td>\n",
       "      <td>6380.0</td>\n",
       "    </tr>\n",
       "    <tr>\n",
       "      <th>18392</th>\n",
       "      <td>23541</td>\n",
       "      <td>Williamstown</td>\n",
       "      <td>96 Verdon St</td>\n",
       "      <td>4</td>\n",
       "      <td>h</td>\n",
       "      <td>2500000.0</td>\n",
       "      <td>PI</td>\n",
       "      <td>Sweeney</td>\n",
       "      <td>26/08/2017</td>\n",
       "      <td>6.8</td>\n",
       "      <td>...</td>\n",
       "      <td>1.0</td>\n",
       "      <td>5.0</td>\n",
       "      <td>866.0</td>\n",
       "      <td>157.0</td>\n",
       "      <td>1920.0</td>\n",
       "      <td>NaN</td>\n",
       "      <td>-37.85908</td>\n",
       "      <td>144.89299</td>\n",
       "      <td>Western Metropolitan</td>\n",
       "      <td>6380.0</td>\n",
       "    </tr>\n",
       "    <tr>\n",
       "      <th>18393</th>\n",
       "      <td>23544</td>\n",
       "      <td>Yallambie</td>\n",
       "      <td>17 Amaroo Wy</td>\n",
       "      <td>4</td>\n",
       "      <td>h</td>\n",
       "      <td>1100000.0</td>\n",
       "      <td>S</td>\n",
       "      <td>Buckingham</td>\n",
       "      <td>26/08/2017</td>\n",
       "      <td>12.7</td>\n",
       "      <td>...</td>\n",
       "      <td>3.0</td>\n",
       "      <td>2.0</td>\n",
       "      <td>NaN</td>\n",
       "      <td>NaN</td>\n",
       "      <td>NaN</td>\n",
       "      <td>NaN</td>\n",
       "      <td>-37.72006</td>\n",
       "      <td>145.10547</td>\n",
       "      <td>Northern Metropolitan</td>\n",
       "      <td>1369.0</td>\n",
       "    </tr>\n",
       "    <tr>\n",
       "      <th>18394</th>\n",
       "      <td>23545</td>\n",
       "      <td>Yarraville</td>\n",
       "      <td>6 Agnes St</td>\n",
       "      <td>4</td>\n",
       "      <td>h</td>\n",
       "      <td>1285000.0</td>\n",
       "      <td>SP</td>\n",
       "      <td>Village</td>\n",
       "      <td>26/08/2017</td>\n",
       "      <td>6.3</td>\n",
       "      <td>...</td>\n",
       "      <td>1.0</td>\n",
       "      <td>1.0</td>\n",
       "      <td>362.0</td>\n",
       "      <td>112.0</td>\n",
       "      <td>1920.0</td>\n",
       "      <td>NaN</td>\n",
       "      <td>-37.81188</td>\n",
       "      <td>144.88449</td>\n",
       "      <td>Western Metropolitan</td>\n",
       "      <td>6543.0</td>\n",
       "    </tr>\n",
       "    <tr>\n",
       "      <th>18395</th>\n",
       "      <td>23546</td>\n",
       "      <td>Yarraville</td>\n",
       "      <td>33 Freeman St</td>\n",
       "      <td>4</td>\n",
       "      <td>h</td>\n",
       "      <td>1050000.0</td>\n",
       "      <td>VB</td>\n",
       "      <td>Village</td>\n",
       "      <td>26/08/2017</td>\n",
       "      <td>6.3</td>\n",
       "      <td>...</td>\n",
       "      <td>2.0</td>\n",
       "      <td>2.0</td>\n",
       "      <td>NaN</td>\n",
       "      <td>139.0</td>\n",
       "      <td>1950.0</td>\n",
       "      <td>NaN</td>\n",
       "      <td>-37.81829</td>\n",
       "      <td>144.87404</td>\n",
       "      <td>Western Metropolitan</td>\n",
       "      <td>6543.0</td>\n",
       "    </tr>\n",
       "  </tbody>\n",
       "</table>\n",
       "<p>18396 rows × 22 columns</p>\n",
       "</div>"
      ],
      "text/plain": [
       "       Unnamed: 0        Suburb           Address  Rooms Type      Price  \\\n",
       "0               1    Abbotsford      85 Turner St      2    h  1480000.0   \n",
       "1               2    Abbotsford   25 Bloomburg St      2    h  1035000.0   \n",
       "2               4    Abbotsford      5 Charles St      3    h  1465000.0   \n",
       "3               5    Abbotsford  40 Federation La      3    h   850000.0   \n",
       "4               6    Abbotsford       55a Park St      4    h  1600000.0   \n",
       "...           ...           ...               ...    ...  ...        ...   \n",
       "18391       23540  Williamstown   8/2 Thompson St      2    t   622500.0   \n",
       "18392       23541  Williamstown      96 Verdon St      4    h  2500000.0   \n",
       "18393       23544     Yallambie      17 Amaroo Wy      4    h  1100000.0   \n",
       "18394       23545    Yarraville        6 Agnes St      4    h  1285000.0   \n",
       "18395       23546    Yarraville     33 Freeman St      4    h  1050000.0   \n",
       "\n",
       "      Method     SellerG        Date  Distance  ...  Bathroom  Car  Landsize  \\\n",
       "0          S      Biggin   3/12/2016       2.5  ...       1.0  1.0     202.0   \n",
       "1          S      Biggin   4/02/2016       2.5  ...       1.0  0.0     156.0   \n",
       "2         SP      Biggin   4/03/2017       2.5  ...       2.0  0.0     134.0   \n",
       "3         PI      Biggin   4/03/2017       2.5  ...       2.0  1.0      94.0   \n",
       "4         VB      Nelson   4/06/2016       2.5  ...       1.0  2.0     120.0   \n",
       "...      ...         ...         ...       ...  ...       ...  ...       ...   \n",
       "18391     SP        Greg  26/08/2017       6.8  ...       2.0  1.0       NaN   \n",
       "18392     PI     Sweeney  26/08/2017       6.8  ...       1.0  5.0     866.0   \n",
       "18393      S  Buckingham  26/08/2017      12.7  ...       3.0  2.0       NaN   \n",
       "18394     SP     Village  26/08/2017       6.3  ...       1.0  1.0     362.0   \n",
       "18395     VB     Village  26/08/2017       6.3  ...       2.0  2.0       NaN   \n",
       "\n",
       "       BuildingArea  YearBuilt  CouncilArea  Lattitude Longtitude  \\\n",
       "0               NaN        NaN        Yarra  -37.79960  144.99840   \n",
       "1              79.0     1900.0        Yarra  -37.80790  144.99340   \n",
       "2             150.0     1900.0        Yarra  -37.80930  144.99440   \n",
       "3               NaN        NaN        Yarra  -37.79690  144.99690   \n",
       "4             142.0     2014.0        Yarra  -37.80720  144.99410   \n",
       "...             ...        ...          ...        ...        ...   \n",
       "18391          89.0     2010.0          NaN  -37.86393  144.90484   \n",
       "18392         157.0     1920.0          NaN  -37.85908  144.89299   \n",
       "18393           NaN        NaN          NaN  -37.72006  145.10547   \n",
       "18394         112.0     1920.0          NaN  -37.81188  144.88449   \n",
       "18395         139.0     1950.0          NaN  -37.81829  144.87404   \n",
       "\n",
       "                  Regionname  Propertycount  \n",
       "0      Northern Metropolitan         4019.0  \n",
       "1      Northern Metropolitan         4019.0  \n",
       "2      Northern Metropolitan         4019.0  \n",
       "3      Northern Metropolitan         4019.0  \n",
       "4      Northern Metropolitan         4019.0  \n",
       "...                      ...            ...  \n",
       "18391   Western Metropolitan         6380.0  \n",
       "18392   Western Metropolitan         6380.0  \n",
       "18393  Northern Metropolitan         1369.0  \n",
       "18394   Western Metropolitan         6543.0  \n",
       "18395   Western Metropolitan         6543.0  \n",
       "\n",
       "[18396 rows x 22 columns]"
      ]
     },
     "metadata": {},
     "output_type": "display_data"
    }
   ],
   "source": [
    "data = pd.read_csv('https://raw.githubusercontent.com/esabunor/MLWorkspace/master/melb_data.csv')\n",
    "display(data)"
   ]
  },
  {
   "cell_type": "markdown",
   "metadata": {},
   "source": [
    "#### ЗАПИСЬ И ЧТЕНИЕ В ДРУГИХ ФОРМАТАХ\n",
    "##### Методы для записи таблиц **в файлы отличных** от csv форматов:\n",
    "\n",
    "- to_excel() — запись DataFrame в формат Excel-таблицы (.xlsx);\n",
    "- to_json() — запись DataFrame в формат JSON (.json);\n",
    "- to_xml() — запись DataFrame в формат XML-документа (.xml);\n",
    "- to_sql() — запись DataFrame в базу данных SQL (для реализации этого метода необходимо установить соединение с базой данных).\n",
    "\n",
    "##### Методы для чтения таблиц **из файлов в отличных** от csv форматах:\n",
    "\n",
    "- read_excel() — чтение из формата Excel-таблицы (.xlsx) в DataFrame;\n",
    "- read_json() — чтение из формата JSON (.json) в DataFrame;\n",
    "- read_xml() — чтение из формата XML-документа (.xml) в DataFrame;\n",
    "- read_sql() — чтение из базы данных SQL в DataFrame (также необходимо установить соединение с базой данных)."
   ]
  },
  {
   "cell_type": "markdown",
   "metadata": {},
   "source": [
    "# Исследование структуры DataFrame\n",
    "- Для вывода первых и последних строк у DataFrame есть методы head() и tail(), которые возвращают n первых и n последних строк таблицы соответственно (по умолчанию n = 5).\n"
   ]
  },
  {
   "cell_type": "code",
   "execution_count": 43,
   "metadata": {},
   "outputs": [
    {
     "data": {
      "text/html": [
       "<div>\n",
       "<style scoped>\n",
       "    .dataframe tbody tr th:only-of-type {\n",
       "        vertical-align: middle;\n",
       "    }\n",
       "\n",
       "    .dataframe tbody tr th {\n",
       "        vertical-align: top;\n",
       "    }\n",
       "\n",
       "    .dataframe thead th {\n",
       "        text-align: right;\n",
       "    }\n",
       "</style>\n",
       "<table border=\"1\" class=\"dataframe\">\n",
       "  <thead>\n",
       "    <tr style=\"text-align: right;\">\n",
       "      <th></th>\n",
       "      <th>index</th>\n",
       "      <th>Suburb</th>\n",
       "      <th>Address</th>\n",
       "      <th>Rooms</th>\n",
       "      <th>Type</th>\n",
       "      <th>Price</th>\n",
       "      <th>Method</th>\n",
       "      <th>SellerG</th>\n",
       "      <th>Date</th>\n",
       "      <th>Distance</th>\n",
       "      <th>...</th>\n",
       "      <th>Car</th>\n",
       "      <th>Landsize</th>\n",
       "      <th>BuildingArea</th>\n",
       "      <th>YearBuilt</th>\n",
       "      <th>CouncilArea</th>\n",
       "      <th>Lattitude</th>\n",
       "      <th>Longtitude</th>\n",
       "      <th>Regionname</th>\n",
       "      <th>Propertycount</th>\n",
       "      <th>Coordinates</th>\n",
       "    </tr>\n",
       "  </thead>\n",
       "  <tbody>\n",
       "    <tr>\n",
       "      <th>0</th>\n",
       "      <td>0</td>\n",
       "      <td>Abbotsford</td>\n",
       "      <td>85 Turner St</td>\n",
       "      <td>2</td>\n",
       "      <td>h</td>\n",
       "      <td>1480000.0</td>\n",
       "      <td>S</td>\n",
       "      <td>Biggin</td>\n",
       "      <td>3/12/2016</td>\n",
       "      <td>2.5</td>\n",
       "      <td>...</td>\n",
       "      <td>1.0</td>\n",
       "      <td>202.0</td>\n",
       "      <td>126.0</td>\n",
       "      <td>1970.0</td>\n",
       "      <td>Yarra</td>\n",
       "      <td>-37.7996</td>\n",
       "      <td>144.9984</td>\n",
       "      <td>Northern Metropolitan</td>\n",
       "      <td>4019.0</td>\n",
       "      <td>-37.7996, 144.9984</td>\n",
       "    </tr>\n",
       "    <tr>\n",
       "      <th>1</th>\n",
       "      <td>1</td>\n",
       "      <td>Abbotsford</td>\n",
       "      <td>25 Bloomburg St</td>\n",
       "      <td>2</td>\n",
       "      <td>h</td>\n",
       "      <td>1035000.0</td>\n",
       "      <td>S</td>\n",
       "      <td>Biggin</td>\n",
       "      <td>4/02/2016</td>\n",
       "      <td>2.5</td>\n",
       "      <td>...</td>\n",
       "      <td>0.0</td>\n",
       "      <td>156.0</td>\n",
       "      <td>79.0</td>\n",
       "      <td>1900.0</td>\n",
       "      <td>Yarra</td>\n",
       "      <td>-37.8079</td>\n",
       "      <td>144.9934</td>\n",
       "      <td>Northern Metropolitan</td>\n",
       "      <td>4019.0</td>\n",
       "      <td>-37.8079, 144.9934</td>\n",
       "    </tr>\n",
       "    <tr>\n",
       "      <th>2</th>\n",
       "      <td>2</td>\n",
       "      <td>Abbotsford</td>\n",
       "      <td>5 Charles St</td>\n",
       "      <td>3</td>\n",
       "      <td>h</td>\n",
       "      <td>1465000.0</td>\n",
       "      <td>SP</td>\n",
       "      <td>Biggin</td>\n",
       "      <td>4/03/2017</td>\n",
       "      <td>2.5</td>\n",
       "      <td>...</td>\n",
       "      <td>0.0</td>\n",
       "      <td>134.0</td>\n",
       "      <td>150.0</td>\n",
       "      <td>1900.0</td>\n",
       "      <td>Yarra</td>\n",
       "      <td>-37.8093</td>\n",
       "      <td>144.9944</td>\n",
       "      <td>Northern Metropolitan</td>\n",
       "      <td>4019.0</td>\n",
       "      <td>-37.8093, 144.9944</td>\n",
       "    </tr>\n",
       "    <tr>\n",
       "      <th>3</th>\n",
       "      <td>3</td>\n",
       "      <td>Abbotsford</td>\n",
       "      <td>40 Federation La</td>\n",
       "      <td>3</td>\n",
       "      <td>h</td>\n",
       "      <td>850000.0</td>\n",
       "      <td>PI</td>\n",
       "      <td>Biggin</td>\n",
       "      <td>4/03/2017</td>\n",
       "      <td>2.5</td>\n",
       "      <td>...</td>\n",
       "      <td>1.0</td>\n",
       "      <td>94.0</td>\n",
       "      <td>126.0</td>\n",
       "      <td>1970.0</td>\n",
       "      <td>Yarra</td>\n",
       "      <td>-37.7969</td>\n",
       "      <td>144.9969</td>\n",
       "      <td>Northern Metropolitan</td>\n",
       "      <td>4019.0</td>\n",
       "      <td>-37.7969, 144.9969</td>\n",
       "    </tr>\n",
       "    <tr>\n",
       "      <th>4</th>\n",
       "      <td>4</td>\n",
       "      <td>Abbotsford</td>\n",
       "      <td>55a Park St</td>\n",
       "      <td>4</td>\n",
       "      <td>h</td>\n",
       "      <td>1600000.0</td>\n",
       "      <td>VB</td>\n",
       "      <td>Nelson</td>\n",
       "      <td>4/06/2016</td>\n",
       "      <td>2.5</td>\n",
       "      <td>...</td>\n",
       "      <td>2.0</td>\n",
       "      <td>120.0</td>\n",
       "      <td>142.0</td>\n",
       "      <td>2014.0</td>\n",
       "      <td>Yarra</td>\n",
       "      <td>-37.8072</td>\n",
       "      <td>144.9941</td>\n",
       "      <td>Northern Metropolitan</td>\n",
       "      <td>4019.0</td>\n",
       "      <td>-37.8072, 144.9941</td>\n",
       "    </tr>\n",
       "  </tbody>\n",
       "</table>\n",
       "<p>5 rows × 23 columns</p>\n",
       "</div>"
      ],
      "text/plain": [
       "   index      Suburb           Address  Rooms Type      Price Method SellerG  \\\n",
       "0      0  Abbotsford      85 Turner St      2    h  1480000.0      S  Biggin   \n",
       "1      1  Abbotsford   25 Bloomburg St      2    h  1035000.0      S  Biggin   \n",
       "2      2  Abbotsford      5 Charles St      3    h  1465000.0     SP  Biggin   \n",
       "3      3  Abbotsford  40 Federation La      3    h   850000.0     PI  Biggin   \n",
       "4      4  Abbotsford       55a Park St      4    h  1600000.0     VB  Nelson   \n",
       "\n",
       "        Date  Distance  ...  Car  Landsize  BuildingArea  YearBuilt  \\\n",
       "0  3/12/2016       2.5  ...  1.0     202.0         126.0     1970.0   \n",
       "1  4/02/2016       2.5  ...  0.0     156.0          79.0     1900.0   \n",
       "2  4/03/2017       2.5  ...  0.0     134.0         150.0     1900.0   \n",
       "3  4/03/2017       2.5  ...  1.0      94.0         126.0     1970.0   \n",
       "4  4/06/2016       2.5  ...  2.0     120.0         142.0     2014.0   \n",
       "\n",
       "   CouncilArea  Lattitude  Longtitude             Regionname  Propertycount  \\\n",
       "0        Yarra   -37.7996    144.9984  Northern Metropolitan         4019.0   \n",
       "1        Yarra   -37.8079    144.9934  Northern Metropolitan         4019.0   \n",
       "2        Yarra   -37.8093    144.9944  Northern Metropolitan         4019.0   \n",
       "3        Yarra   -37.7969    144.9969  Northern Metropolitan         4019.0   \n",
       "4        Yarra   -37.8072    144.9941  Northern Metropolitan         4019.0   \n",
       "\n",
       "          Coordinates  \n",
       "0  -37.7996, 144.9984  \n",
       "1  -37.8079, 144.9934  \n",
       "2  -37.8093, 144.9944  \n",
       "3  -37.7969, 144.9969  \n",
       "4  -37.8072, 144.9941  \n",
       "\n",
       "[5 rows x 23 columns]"
      ]
     },
     "metadata": {},
     "output_type": "display_data"
    },
    {
     "name": "stdout",
     "output_type": "stream",
     "text": [
      "\n"
     ]
    },
    {
     "data": {
      "text/html": [
       "<div>\n",
       "<style scoped>\n",
       "    .dataframe tbody tr th:only-of-type {\n",
       "        vertical-align: middle;\n",
       "    }\n",
       "\n",
       "    .dataframe tbody tr th {\n",
       "        vertical-align: top;\n",
       "    }\n",
       "\n",
       "    .dataframe thead th {\n",
       "        text-align: right;\n",
       "    }\n",
       "</style>\n",
       "<table border=\"1\" class=\"dataframe\">\n",
       "  <thead>\n",
       "    <tr style=\"text-align: right;\">\n",
       "      <th></th>\n",
       "      <th>index</th>\n",
       "      <th>Suburb</th>\n",
       "      <th>Address</th>\n",
       "      <th>Rooms</th>\n",
       "      <th>Type</th>\n",
       "      <th>Price</th>\n",
       "      <th>Method</th>\n",
       "      <th>SellerG</th>\n",
       "      <th>Date</th>\n",
       "      <th>Distance</th>\n",
       "      <th>...</th>\n",
       "      <th>Car</th>\n",
       "      <th>Landsize</th>\n",
       "      <th>BuildingArea</th>\n",
       "      <th>YearBuilt</th>\n",
       "      <th>CouncilArea</th>\n",
       "      <th>Lattitude</th>\n",
       "      <th>Longtitude</th>\n",
       "      <th>Regionname</th>\n",
       "      <th>Propertycount</th>\n",
       "      <th>Coordinates</th>\n",
       "    </tr>\n",
       "  </thead>\n",
       "  <tbody>\n",
       "    <tr>\n",
       "      <th>13573</th>\n",
       "      <td>13573</td>\n",
       "      <td>Werribee</td>\n",
       "      <td>5 Nuragi Ct</td>\n",
       "      <td>4</td>\n",
       "      <td>h</td>\n",
       "      <td>635000.0</td>\n",
       "      <td>S</td>\n",
       "      <td>hockingstuart</td>\n",
       "      <td>26/08/2017</td>\n",
       "      <td>14.7</td>\n",
       "      <td>...</td>\n",
       "      <td>1.0</td>\n",
       "      <td>662.0</td>\n",
       "      <td>172.0</td>\n",
       "      <td>1980.0</td>\n",
       "      <td>NaN</td>\n",
       "      <td>-37.89327</td>\n",
       "      <td>144.64789</td>\n",
       "      <td>Western Metropolitan</td>\n",
       "      <td>16166.0</td>\n",
       "      <td>-37.89327, 144.64789</td>\n",
       "    </tr>\n",
       "    <tr>\n",
       "      <th>13574</th>\n",
       "      <td>13574</td>\n",
       "      <td>Westmeadows</td>\n",
       "      <td>9 Black St</td>\n",
       "      <td>3</td>\n",
       "      <td>h</td>\n",
       "      <td>582000.0</td>\n",
       "      <td>S</td>\n",
       "      <td>Red</td>\n",
       "      <td>26/08/2017</td>\n",
       "      <td>16.5</td>\n",
       "      <td>...</td>\n",
       "      <td>2.0</td>\n",
       "      <td>256.0</td>\n",
       "      <td>126.0</td>\n",
       "      <td>1970.0</td>\n",
       "      <td>NaN</td>\n",
       "      <td>-37.67917</td>\n",
       "      <td>144.89390</td>\n",
       "      <td>Northern Metropolitan</td>\n",
       "      <td>2474.0</td>\n",
       "      <td>-37.67917, 144.8939</td>\n",
       "    </tr>\n",
       "    <tr>\n",
       "      <th>13575</th>\n",
       "      <td>13575</td>\n",
       "      <td>Wheelers Hill</td>\n",
       "      <td>12 Strada Cr</td>\n",
       "      <td>4</td>\n",
       "      <td>h</td>\n",
       "      <td>1245000.0</td>\n",
       "      <td>S</td>\n",
       "      <td>Barry</td>\n",
       "      <td>26/08/2017</td>\n",
       "      <td>16.7</td>\n",
       "      <td>...</td>\n",
       "      <td>2.0</td>\n",
       "      <td>652.0</td>\n",
       "      <td>126.0</td>\n",
       "      <td>1981.0</td>\n",
       "      <td>NaN</td>\n",
       "      <td>-37.90562</td>\n",
       "      <td>145.16761</td>\n",
       "      <td>South-Eastern Metropolitan</td>\n",
       "      <td>7392.0</td>\n",
       "      <td>-37.90562, 145.16761</td>\n",
       "    </tr>\n",
       "    <tr>\n",
       "      <th>13576</th>\n",
       "      <td>13576</td>\n",
       "      <td>Williamstown</td>\n",
       "      <td>77 Merrett Dr</td>\n",
       "      <td>3</td>\n",
       "      <td>h</td>\n",
       "      <td>1031000.0</td>\n",
       "      <td>SP</td>\n",
       "      <td>Williams</td>\n",
       "      <td>26/08/2017</td>\n",
       "      <td>6.8</td>\n",
       "      <td>...</td>\n",
       "      <td>2.0</td>\n",
       "      <td>333.0</td>\n",
       "      <td>133.0</td>\n",
       "      <td>1995.0</td>\n",
       "      <td>NaN</td>\n",
       "      <td>-37.85927</td>\n",
       "      <td>144.87904</td>\n",
       "      <td>Western Metropolitan</td>\n",
       "      <td>6380.0</td>\n",
       "      <td>-37.85927, 144.87904</td>\n",
       "    </tr>\n",
       "    <tr>\n",
       "      <th>13577</th>\n",
       "      <td>13577</td>\n",
       "      <td>Williamstown</td>\n",
       "      <td>83 Power St</td>\n",
       "      <td>3</td>\n",
       "      <td>h</td>\n",
       "      <td>1170000.0</td>\n",
       "      <td>S</td>\n",
       "      <td>Raine</td>\n",
       "      <td>26/08/2017</td>\n",
       "      <td>6.8</td>\n",
       "      <td>...</td>\n",
       "      <td>4.0</td>\n",
       "      <td>436.0</td>\n",
       "      <td>126.0</td>\n",
       "      <td>1997.0</td>\n",
       "      <td>NaN</td>\n",
       "      <td>-37.85274</td>\n",
       "      <td>144.88738</td>\n",
       "      <td>Western Metropolitan</td>\n",
       "      <td>6380.0</td>\n",
       "      <td>-37.85274, 144.88738</td>\n",
       "    </tr>\n",
       "    <tr>\n",
       "      <th>13578</th>\n",
       "      <td>13578</td>\n",
       "      <td>Williamstown</td>\n",
       "      <td>96 Verdon St</td>\n",
       "      <td>4</td>\n",
       "      <td>h</td>\n",
       "      <td>2500000.0</td>\n",
       "      <td>PI</td>\n",
       "      <td>Sweeney</td>\n",
       "      <td>26/08/2017</td>\n",
       "      <td>6.8</td>\n",
       "      <td>...</td>\n",
       "      <td>5.0</td>\n",
       "      <td>866.0</td>\n",
       "      <td>157.0</td>\n",
       "      <td>1920.0</td>\n",
       "      <td>NaN</td>\n",
       "      <td>-37.85908</td>\n",
       "      <td>144.89299</td>\n",
       "      <td>Western Metropolitan</td>\n",
       "      <td>6380.0</td>\n",
       "      <td>-37.85908, 144.89299</td>\n",
       "    </tr>\n",
       "    <tr>\n",
       "      <th>13579</th>\n",
       "      <td>13579</td>\n",
       "      <td>Yarraville</td>\n",
       "      <td>6 Agnes St</td>\n",
       "      <td>4</td>\n",
       "      <td>h</td>\n",
       "      <td>1285000.0</td>\n",
       "      <td>SP</td>\n",
       "      <td>Village</td>\n",
       "      <td>26/08/2017</td>\n",
       "      <td>6.3</td>\n",
       "      <td>...</td>\n",
       "      <td>1.0</td>\n",
       "      <td>362.0</td>\n",
       "      <td>112.0</td>\n",
       "      <td>1920.0</td>\n",
       "      <td>NaN</td>\n",
       "      <td>-37.81188</td>\n",
       "      <td>144.88449</td>\n",
       "      <td>Western Metropolitan</td>\n",
       "      <td>6543.0</td>\n",
       "      <td>-37.81188, 144.88449</td>\n",
       "    </tr>\n",
       "  </tbody>\n",
       "</table>\n",
       "<p>7 rows × 23 columns</p>\n",
       "</div>"
      ],
      "text/plain": [
       "       index         Suburb        Address  Rooms Type      Price Method  \\\n",
       "13573  13573       Werribee    5 Nuragi Ct      4    h   635000.0      S   \n",
       "13574  13574    Westmeadows     9 Black St      3    h   582000.0      S   \n",
       "13575  13575  Wheelers Hill   12 Strada Cr      4    h  1245000.0      S   \n",
       "13576  13576   Williamstown  77 Merrett Dr      3    h  1031000.0     SP   \n",
       "13577  13577   Williamstown    83 Power St      3    h  1170000.0      S   \n",
       "13578  13578   Williamstown   96 Verdon St      4    h  2500000.0     PI   \n",
       "13579  13579     Yarraville     6 Agnes St      4    h  1285000.0     SP   \n",
       "\n",
       "             SellerG        Date  Distance  ...  Car  Landsize  BuildingArea  \\\n",
       "13573  hockingstuart  26/08/2017      14.7  ...  1.0     662.0         172.0   \n",
       "13574            Red  26/08/2017      16.5  ...  2.0     256.0         126.0   \n",
       "13575          Barry  26/08/2017      16.7  ...  2.0     652.0         126.0   \n",
       "13576       Williams  26/08/2017       6.8  ...  2.0     333.0         133.0   \n",
       "13577          Raine  26/08/2017       6.8  ...  4.0     436.0         126.0   \n",
       "13578        Sweeney  26/08/2017       6.8  ...  5.0     866.0         157.0   \n",
       "13579        Village  26/08/2017       6.3  ...  1.0     362.0         112.0   \n",
       "\n",
       "       YearBuilt  CouncilArea  Lattitude  Longtitude  \\\n",
       "13573     1980.0          NaN  -37.89327   144.64789   \n",
       "13574     1970.0          NaN  -37.67917   144.89390   \n",
       "13575     1981.0          NaN  -37.90562   145.16761   \n",
       "13576     1995.0          NaN  -37.85927   144.87904   \n",
       "13577     1997.0          NaN  -37.85274   144.88738   \n",
       "13578     1920.0          NaN  -37.85908   144.89299   \n",
       "13579     1920.0          NaN  -37.81188   144.88449   \n",
       "\n",
       "                       Regionname  Propertycount           Coordinates  \n",
       "13573        Western Metropolitan        16166.0  -37.89327, 144.64789  \n",
       "13574       Northern Metropolitan         2474.0   -37.67917, 144.8939  \n",
       "13575  South-Eastern Metropolitan         7392.0  -37.90562, 145.16761  \n",
       "13576        Western Metropolitan         6380.0  -37.85927, 144.87904  \n",
       "13577        Western Metropolitan         6380.0  -37.85274, 144.88738  \n",
       "13578        Western Metropolitan         6380.0  -37.85908, 144.89299  \n",
       "13579        Western Metropolitan         6543.0  -37.81188, 144.88449  \n",
       "\n",
       "[7 rows x 23 columns]"
      ]
     },
     "execution_count": 43,
     "metadata": {},
     "output_type": "execute_result"
    }
   ],
   "source": [
    "# Выведем 5 строк нашей таблицы\n",
    "display(melb_data.head())\n",
    "print()\n",
    "# Выведем 7 последних строк нашей таблицы\n",
    "melb_data.tail(7)"
   ]
  },
  {
   "cell_type": "markdown",
   "metadata": {},
   "source": [
    "- Чтобы узнать размерность таблицы, можно воспользоваться атрибутой shape, который возвращает кортеж с количеством строк и столбцов:"
   ]
  },
  {
   "cell_type": "code",
   "execution_count": 45,
   "metadata": {},
   "outputs": [
    {
     "data": {
      "text/plain": [
       "(13580, 23)"
      ]
     },
     "execution_count": 45,
     "metadata": {},
     "output_type": "execute_result"
    }
   ],
   "source": [
    "melb_data.shape\n",
    "# Таким образом, в наших данных содержится информация о 13 580 объектах недвижимости, и их описывают 23 признака."
   ]
  },
  {
   "cell_type": "markdown",
   "metadata": {},
   "source": [
    "##### Для более детальной информации о столбцах аблицы, используется метод DataFrame **info()**\n",
    "- Данный метод выводит:\n",
    "\n",
    "1. Информацию об индексах;\n",
    "1. Информацию об общем количестве столбцов;\n",
    "1. Таблицу, в которой содержится информация об именах столбцов (Column), количестве непустых значений (Non-Null Count) в каждом столбце и типе данных столбца (Dtype), количестве столбцов, в которых используется определённый тип данных;\n",
    "1. Количество оперативной памяти в мегабайтах, которое тратится на хранение данных."
   ]
  },
  {
   "cell_type": "code",
   "execution_count": 46,
   "metadata": {},
   "outputs": [
    {
     "name": "stdout",
     "output_type": "stream",
     "text": [
      "<class 'pandas.core.frame.DataFrame'>\n",
      "RangeIndex: 13580 entries, 0 to 13579\n",
      "Data columns (total 23 columns):\n",
      " #   Column         Non-Null Count  Dtype  \n",
      "---  ------         --------------  -----  \n",
      " 0   index          13580 non-null  int64  \n",
      " 1   Suburb         13580 non-null  object \n",
      " 2   Address        13580 non-null  object \n",
      " 3   Rooms          13580 non-null  int64  \n",
      " 4   Type           13580 non-null  object \n",
      " 5   Price          13580 non-null  float64\n",
      " 6   Method         13580 non-null  object \n",
      " 7   SellerG        13580 non-null  object \n",
      " 8   Date           13580 non-null  object \n",
      " 9   Distance       13580 non-null  float64\n",
      " 10  Postcode       13580 non-null  int64  \n",
      " 11  Bedroom        13580 non-null  float64\n",
      " 12  Bathroom       13580 non-null  float64\n",
      " 13  Car            13580 non-null  float64\n",
      " 14  Landsize       13580 non-null  float64\n",
      " 15  BuildingArea   13580 non-null  float64\n",
      " 16  YearBuilt      13580 non-null  float64\n",
      " 17  CouncilArea    12211 non-null  object \n",
      " 18  Lattitude      13580 non-null  float64\n",
      " 19  Longtitude     13580 non-null  float64\n",
      " 20  Regionname     13580 non-null  object \n",
      " 21  Propertycount  13580 non-null  float64\n",
      " 22  Coordinates    13580 non-null  object \n",
      "dtypes: float64(11), int64(3), object(9)\n",
      "memory usage: 2.4+ MB\n"
     ]
    }
   ],
   "source": [
    "melb_data.info()"
   ]
  },
  {
   "cell_type": "markdown",
   "metadata": {},
   "source": [
    "Из вывода метода info() становится понятно, что в нашей таблице есть столбец CouncilArea с пропущенными значениями — количество непустых значений в столбце меньше, чем количество строк в таблице (12211 < 13580).\n",
    "\n",
    "**Пустыми, или пропущенными, значениями называются значения в ячейках таблицы, которые не заполнены по какой-либо причине, то есть на их месте стоит пустое место. В Pandas такие значения обозначаются символом [NaN (Not-a-Number)](https://pythonru.com/biblioteki/not-a-number-vse-o-nan-pd-5)**"
   ]
  },
  {
   "cell_type": "markdown",
   "metadata": {},
   "source": [
    "# Изменение типа данных в столбце\n",
    "\n",
    "Если присмотреться внимательнее к выводу метода info(), а конкретнее — к типам данных столбцов, становится понятно, что некоторые признаки кодируются не совсем корректными типами данных. \n",
    "Например, данные в столбцах, которые отражают количество, должны, по идее, выражаться целым числом (Car, Bedroom, Bathroom и Propertyсount), однако кодируются float64 — числом с плавающей запятой размером 64 бита.\n",
    "\n",
    "Наконец, данные в столбце с годом постройки (YearBuilt) также представлены в формате чисел с плавающей точкой.\n",
    "\n",
    "Чтобы исправить это, можно воспользоваться методом **astype()**, который позволяет преобразовать тип данных столбца:\n",
    "\n"
   ]
  },
  {
   "cell_type": "code",
   "execution_count": 47,
   "metadata": {},
   "outputs": [
    {
     "name": "stdout",
     "output_type": "stream",
     "text": [
      "<class 'pandas.core.frame.DataFrame'>\n",
      "RangeIndex: 13580 entries, 0 to 13579\n",
      "Data columns (total 23 columns):\n",
      " #   Column         Non-Null Count  Dtype  \n",
      "---  ------         --------------  -----  \n",
      " 0   index          13580 non-null  int64  \n",
      " 1   Suburb         13580 non-null  object \n",
      " 2   Address        13580 non-null  object \n",
      " 3   Rooms          13580 non-null  int64  \n",
      " 4   Type           13580 non-null  object \n",
      " 5   Price          13580 non-null  float64\n",
      " 6   Method         13580 non-null  object \n",
      " 7   SellerG        13580 non-null  object \n",
      " 8   Date           13580 non-null  object \n",
      " 9   Distance       13580 non-null  float64\n",
      " 10  Postcode       13580 non-null  int64  \n",
      " 11  Bedroom        13580 non-null  int64  \n",
      " 12  Bathroom       13580 non-null  int64  \n",
      " 13  Car            13580 non-null  int64  \n",
      " 14  Landsize       13580 non-null  float64\n",
      " 15  BuildingArea   13580 non-null  float64\n",
      " 16  YearBuilt      13580 non-null  int64  \n",
      " 17  CouncilArea    12211 non-null  object \n",
      " 18  Lattitude      13580 non-null  float64\n",
      " 19  Longtitude     13580 non-null  float64\n",
      " 20  Regionname     13580 non-null  object \n",
      " 21  Propertycount  13580 non-null  int64  \n",
      " 22  Coordinates    13580 non-null  object \n",
      "dtypes: float64(6), int64(8), object(9)\n",
      "memory usage: 2.4+ MB\n"
     ]
    }
   ],
   "source": [
    "melb_data['Car'] = melb_data['Car'].astype('int64')\n",
    "melb_data['Bedroom'] = melb_data['Bedroom'].astype('int64')\n",
    "melb_data['Bathroom'] = melb_data['Bathroom'].astype('int64')\n",
    "melb_data['Propertycount'] = melb_data['Propertycount'].astype('int64')\n",
    "melb_data['YearBuilt'] = melb_data['YearBuilt'].astype('int64')\n",
    "melb_data.info()"
   ]
  },
  {
   "cell_type": "markdown",
   "metadata": {},
   "source": [
    "В данном коде мы при помощи метода [astype()](https://dfedorov.spb.ru/pandas/Обзор%20типов%20данных%20pandas.html) последовательно переопределяем столбцы на них же самих, только с изменённым типом данных: int64 — целочисленное число размером 64 бита.\n",
    "\n",
    "**Примечание. При работе с очень большими объёмами данных такая перекодировка может сыграть большую роль, позволяя сэкономить объём занимаемой таблицей памяти.**"
   ]
  },
  {
   "cell_type": "markdown",
   "metadata": {},
   "source": [
    "# Получение описательной статистики\n",
    "\n",
    "-  Часто при работе с таблицей нужно быстро посмотреть на основные статистические свойства её столбцов. Для этого можно воспользоваться методом DataFrame describe().\n",
    "\n",
    "- По умолчанию метод работает с числовыми (int64 и float64) столбцами и показывает число непустых значений (count), среднее (mean), стандартное отклонение (std), минимальное значение (min),  квартили уровней 0.25, 0.5 (медиана) и 0.75 (25%, 50%, 75%) и максимальное значение (max) для каждого столбца исходной таблицы.\n",
    "\n",
    "- Термины для ознакомления: [Стандартное отклонение](https://ru.wikipedia.org/wiki/Среднеквадратическое_отклонение) и [Квартили](https://rus.financedjournal.com/quartile)"
   ]
  },
  {
   "cell_type": "markdown",
   "metadata": {},
   "source": [
    "В качестве примера выведем на экран значение статистических параметров только для столбцов Distance (расстояние от объекта недвижимости до центра Мельбурна), BuildingArea (площадь здания) и Price (цена объекта):"
   ]
  },
  {
   "cell_type": "code",
   "execution_count": 48,
   "metadata": {},
   "outputs": [
    {
     "data": {
      "text/html": [
       "<div>\n",
       "<style scoped>\n",
       "    .dataframe tbody tr th:only-of-type {\n",
       "        vertical-align: middle;\n",
       "    }\n",
       "\n",
       "    .dataframe tbody tr th {\n",
       "        vertical-align: top;\n",
       "    }\n",
       "\n",
       "    .dataframe thead th {\n",
       "        text-align: right;\n",
       "    }\n",
       "</style>\n",
       "<table border=\"1\" class=\"dataframe\">\n",
       "  <thead>\n",
       "    <tr style=\"text-align: right;\">\n",
       "      <th></th>\n",
       "      <th>Distance</th>\n",
       "      <th>BuildingArea</th>\n",
       "      <th>Price</th>\n",
       "    </tr>\n",
       "  </thead>\n",
       "  <tbody>\n",
       "    <tr>\n",
       "      <th>count</th>\n",
       "      <td>13580.000000</td>\n",
       "      <td>13580.000000</td>\n",
       "      <td>1.358000e+04</td>\n",
       "    </tr>\n",
       "    <tr>\n",
       "      <th>mean</th>\n",
       "      <td>10.137776</td>\n",
       "      <td>139.633972</td>\n",
       "      <td>1.075684e+06</td>\n",
       "    </tr>\n",
       "    <tr>\n",
       "      <th>std</th>\n",
       "      <td>5.868725</td>\n",
       "      <td>392.217403</td>\n",
       "      <td>6.393107e+05</td>\n",
       "    </tr>\n",
       "    <tr>\n",
       "      <th>min</th>\n",
       "      <td>0.000000</td>\n",
       "      <td>0.000000</td>\n",
       "      <td>8.500000e+04</td>\n",
       "    </tr>\n",
       "    <tr>\n",
       "      <th>25%</th>\n",
       "      <td>6.100000</td>\n",
       "      <td>122.000000</td>\n",
       "      <td>6.500000e+05</td>\n",
       "    </tr>\n",
       "    <tr>\n",
       "      <th>50%</th>\n",
       "      <td>9.200000</td>\n",
       "      <td>126.000000</td>\n",
       "      <td>9.030000e+05</td>\n",
       "    </tr>\n",
       "    <tr>\n",
       "      <th>75%</th>\n",
       "      <td>13.000000</td>\n",
       "      <td>129.940000</td>\n",
       "      <td>1.330000e+06</td>\n",
       "    </tr>\n",
       "    <tr>\n",
       "      <th>max</th>\n",
       "      <td>48.100000</td>\n",
       "      <td>44515.000000</td>\n",
       "      <td>9.000000e+06</td>\n",
       "    </tr>\n",
       "  </tbody>\n",
       "</table>\n",
       "</div>"
      ],
      "text/plain": [
       "           Distance  BuildingArea         Price\n",
       "count  13580.000000  13580.000000  1.358000e+04\n",
       "mean      10.137776    139.633972  1.075684e+06\n",
       "std        5.868725    392.217403  6.393107e+05\n",
       "min        0.000000      0.000000  8.500000e+04\n",
       "25%        6.100000    122.000000  6.500000e+05\n",
       "50%        9.200000    126.000000  9.030000e+05\n",
       "75%       13.000000    129.940000  1.330000e+06\n",
       "max       48.100000  44515.000000  9.000000e+06"
      ]
     },
     "execution_count": 48,
     "metadata": {},
     "output_type": "execute_result"
    }
   ],
   "source": [
    "melb_data.describe().loc[:, ['Distance', 'BuildingArea' , 'Price']]"
   ]
  },
  {
   "cell_type": "markdown",
   "metadata": {},
   "source": [
    "Выводы которые мы можем сделать из полученной таблицы:\n",
    "\n",
    "1. Столбец Distance (расстояние до центра города)\n",
    "\n",
    "- В нашем наборе данных представлены объекты, удалённые от центра города на расстояние до 48 километров\n",
    "\n",
    "1. Столбец BuildingArea (площадь здания)\n",
    "\n",
    "- В нашей таблице представлены участки, на которых отсутствует само здание (его площадь равна 0), то есть владельцы продавали участок земли без строений на нём.\n",
    "- Большая часть объектов (75%) имеет площадь здания до 130 квадратных метров, однако в нашей таблице есть настоящий дворец (судя по его размерам) с площадью в 44 515 квадратных метров.\n",
    "\n",
    "1. Столбец Price (цена)\n",
    "\n",
    "- Диапазон цен на недвижимость в Мельбурне варьируется от 85 тысяч до 9 миллионов австралийских долларов."
   ]
  },
  {
   "cell_type": "markdown",
   "metadata": {},
   "source": [
    "#### Метод **describe()** можно применять не только к числовым признакам. С помощью параметра include можно указать тип данных, для которого нужно вывести описательную информацию:\n",
    "Например, для типа данных object метод describe() возвращает DataFrame, в котором указаны:\n",
    "\n",
    "- количество непустых строк (count);\n",
    "- количество уникальных значений (unique);\n",
    "- самое частое значение — мода —  (top);\n",
    "- частота — объём использования — этого значения (freq) для каждого столбца типа object исходной таблицы."
   ]
  },
  {
   "cell_type": "code",
   "execution_count": 49,
   "metadata": {},
   "outputs": [
    {
     "data": {
      "text/html": [
       "<div>\n",
       "<style scoped>\n",
       "    .dataframe tbody tr th:only-of-type {\n",
       "        vertical-align: middle;\n",
       "    }\n",
       "\n",
       "    .dataframe tbody tr th {\n",
       "        vertical-align: top;\n",
       "    }\n",
       "\n",
       "    .dataframe thead th {\n",
       "        text-align: right;\n",
       "    }\n",
       "</style>\n",
       "<table border=\"1\" class=\"dataframe\">\n",
       "  <thead>\n",
       "    <tr style=\"text-align: right;\">\n",
       "      <th></th>\n",
       "      <th>Suburb</th>\n",
       "      <th>Address</th>\n",
       "      <th>Type</th>\n",
       "      <th>Method</th>\n",
       "      <th>SellerG</th>\n",
       "      <th>Date</th>\n",
       "      <th>CouncilArea</th>\n",
       "      <th>Regionname</th>\n",
       "      <th>Coordinates</th>\n",
       "    </tr>\n",
       "  </thead>\n",
       "  <tbody>\n",
       "    <tr>\n",
       "      <th>count</th>\n",
       "      <td>13580</td>\n",
       "      <td>13580</td>\n",
       "      <td>13580</td>\n",
       "      <td>13580</td>\n",
       "      <td>13580</td>\n",
       "      <td>13580</td>\n",
       "      <td>12211</td>\n",
       "      <td>13580</td>\n",
       "      <td>13580</td>\n",
       "    </tr>\n",
       "    <tr>\n",
       "      <th>unique</th>\n",
       "      <td>314</td>\n",
       "      <td>13378</td>\n",
       "      <td>3</td>\n",
       "      <td>5</td>\n",
       "      <td>268</td>\n",
       "      <td>58</td>\n",
       "      <td>33</td>\n",
       "      <td>8</td>\n",
       "      <td>13097</td>\n",
       "    </tr>\n",
       "    <tr>\n",
       "      <th>top</th>\n",
       "      <td>Reservoir</td>\n",
       "      <td>36 Aberfeldie St</td>\n",
       "      <td>h</td>\n",
       "      <td>S</td>\n",
       "      <td>Nelson</td>\n",
       "      <td>27/05/2017</td>\n",
       "      <td>Moreland</td>\n",
       "      <td>Southern Metropolitan</td>\n",
       "      <td>-37.8361, 144.9966</td>\n",
       "    </tr>\n",
       "    <tr>\n",
       "      <th>freq</th>\n",
       "      <td>359</td>\n",
       "      <td>3</td>\n",
       "      <td>9449</td>\n",
       "      <td>9022</td>\n",
       "      <td>1565</td>\n",
       "      <td>473</td>\n",
       "      <td>1163</td>\n",
       "      <td>4695</td>\n",
       "      <td>12</td>\n",
       "    </tr>\n",
       "  </tbody>\n",
       "</table>\n",
       "</div>"
      ],
      "text/plain": [
       "           Suburb           Address   Type Method SellerG        Date  \\\n",
       "count       13580             13580  13580  13580   13580       13580   \n",
       "unique        314             13378      3      5     268          58   \n",
       "top     Reservoir  36 Aberfeldie St      h      S  Nelson  27/05/2017   \n",
       "freq          359                 3   9449   9022    1565         473   \n",
       "\n",
       "       CouncilArea             Regionname         Coordinates  \n",
       "count        12211                  13580               13580  \n",
       "unique          33                      8               13097  \n",
       "top       Moreland  Southern Metropolitan  -37.8361, 144.9966  \n",
       "freq          1163                   4695                  12  "
      ]
     },
     "execution_count": 49,
     "metadata": {},
     "output_type": "execute_result"
    }
   ],
   "source": [
    "melb_data.describe(include=['object'])"
   ]
  },
  {
   "cell_type": "markdown",
   "metadata": {},
   "source": [
    "Выводы которые мы можем сделать из полученной таблицы:\n",
    "\n",
    "- **Столбец Suburb (пригород)**.\n",
    "Наибольшее количество проданных объектов (359) находилось в пригороде Reservoir.\n",
    "- **Столбец Type (тип здания)**.\n",
    "Самый популярный тип дома — h (дом, вилла, коттедж).\n",
    "- **Столбец SellerG (риелтор)**.\n",
    "В наших данных нам известно о 268 различных риэлторских компаниях, однако самой главной «акулой» в этом бизнесе является компания - - Nelson — они продали 1 565 различных домов.\n",
    "- **Столбец Date (дата продажи)**.\n",
    "В нашей таблице содержится информация за 58 дней, при этом наибольшее число продаж (473) пришлось на 27 мая 2017 года."
   ]
  },
  {
   "cell_type": "markdown",
   "metadata": {},
   "source": [
    "#### Получение частоты уникальных значений в столбце\n",
    "- Для определения сколько раз в столбце повторяется каждый из вариантов значений (т.е. найти частоту для каждого уникального знания), используется метод **value_counts()**.\n",
    "- **value_counts()** - возвращает объект Series, в котором в качестве индексов выступают уникальные категории столбца, а значениями — соответствующая им частота."
   ]
  },
  {
   "cell_type": "code",
   "execution_count": 50,
   "metadata": {},
   "outputs": [
    {
     "data": {
      "text/plain": [
       "Southern Metropolitan         4695\n",
       "Northern Metropolitan         3890\n",
       "Western Metropolitan          2948\n",
       "Eastern Metropolitan          1471\n",
       "South-Eastern Metropolitan     450\n",
       "Eastern Victoria                53\n",
       "Northern Victoria               41\n",
       "Western Victoria                32\n",
       "Name: Regionname, dtype: int64"
      ]
     },
     "execution_count": 50,
     "metadata": {},
     "output_type": "execute_result"
    }
   ],
   "source": [
    "melb_data['Regionname'].value_counts()"
   ]
  },
  {
   "cell_type": "markdown",
   "metadata": {},
   "source": [
    "Чтобы сделать вывод более интерпретируемым и понятным, можно воспользоваться параметром normalize. При установке значения этого параметра на True результат будет представляться в виде доли (относительной частоты):"
   ]
  },
  {
   "cell_type": "code",
   "execution_count": 54,
   "metadata": {},
   "outputs": [
    {
     "data": {
      "text/plain": [
       "Southern Metropolitan         0.345729\n",
       "Northern Metropolitan         0.286451\n",
       "Western Metropolitan          0.217084\n",
       "Eastern Metropolitan          0.108321\n",
       "South-Eastern Metropolitan    0.033137\n",
       "Eastern Victoria              0.003903\n",
       "Northern Victoria             0.003019\n",
       "Western Victoria              0.002356\n",
       "Name: Regionname, dtype: float64"
      ]
     },
     "execution_count": 54,
     "metadata": {},
     "output_type": "execute_result"
    }
   ],
   "source": [
    "melb_data['Regionname'].value_counts(normalize=True)"
   ]
  },
  {
   "cell_type": "markdown",
   "metadata": {},
   "source": [
    "Вывод по таблице будет следующим - наименьшее количество объектов (менее 1%) было продано в районах Victoria, а наибольшее — в районах Metropolitan."
   ]
  },
  {
   "cell_type": "markdown",
   "metadata": {},
   "source": [
    "# Агрегирующие методы\n",
    "\n",
    "Агрегирующим в Pandas называется метод, который для каждого столбца возвращает только одно значение — показатель (например, вычисление медианы, максимума, среднего и так далее).\n",
    "##### Статистические параметры:\n",
    "- .count()\tКоличество непустых значений\n",
    "- .mean()\tСреднее значение\n",
    "- .min()\tМинимальное значение\n",
    "- .max()\tМаксимальное значение\n",
    "- .var()\tДисперсия\n",
    "- .std()\tСтандартное отклонение\n",
    "- .sum()\tСумма\n",
    "- .quantile(x)\tКвантиль уровня x\n",
    "- .nunique()\tЧисло уникальных значений\n",
    "- ..median  Медиана\n",
    "\n",
    "Если один из этих методов применить ко всему DataFrame, то в результате его работы будет получен объект типа Series, в котором в качестве индексов будут выступать наименования столбцов, а в качестве значений — статистический показатель. В случае применения метода к отдельному столбцу результатом вычислений станет число.\n",
    "\n",
    "В каждый метод можно передать некоторые параметры, среди которых:\n",
    "\n",
    "- axis  — определяет, подсчитывать параметр по строкам или по столбцам;\n",
    "- numeric_only — определяет, вычислять параметры только по числовым столбцам/строкам или нет (True/False)."
   ]
  },
  {
   "cell_type": "code",
   "execution_count": 58,
   "metadata": {},
   "outputs": [
    {
     "name": "stdout",
     "output_type": "stream",
     "text": [
      "1075684.079455081\n",
      "10\n",
      "Total income of real estate agencies: 1752934775.88\n",
      "0.21205713983546193\n"
     ]
    }
   ],
   "source": [
    "# Вычислим среднюю цена на объекты недвижимости\n",
    "print(melb_data['Price'].mean())\n",
    "# Найдем максимальное количество парковочных мест:\n",
    "print(melb_data['Car'].max())\n",
    "# А теперь представим, что риэлторская ставка для всех компаний за продажу недвижимости составляет 12%. \n",
    "# Найдём общую прибыльность риэлторского бизнеса в Мельбурне. Результат округлим до сотых:\n",
    "rate = 0.12\n",
    "income = melb_data['Price'].sum() * rate\n",
    "print('Total income of real estate agencies:', round(income, 2))\n",
    "#Найдём, насколько медианная площадь территории отличается от её среднего значения. \n",
    "# Вычислим модуль разницы между медианой и средним и разделим результат на среднее, чтобы получить отклонение в долях:\n",
    "landsize_median = melb_data['Landsize'].median() \n",
    "landsize_mean =  melb_data['Landsize'].mean()\n",
    "print(abs(landsize_median - landsize_mean)/landsize_mean)"
   ]
  },
  {
   "cell_type": "markdown",
   "metadata": {},
   "source": [
    "# Модальное значение \n",
    "В статистике значение, которое чаще встречается в предоставленном наборе значений данных, известно как mode. Другими словами, число или значение, которое имеет высокую частоту или появляется повторно, известно как режим или модальное значение. Модальное значение является одним из трех показателей Центральной тенденции.\n",
    "\n",
    "- Статический показатель моды вычисляется с помощью метода **mode().**\n",
    "- Модальных значений может быть несколько, то есть несколько значений могут встречаться одинаковое количество раз. Поэтому метод mode(), в отличие от агрегирующих методов, возвращает не одно число, а серию.\n",
    "- Метод mode() может быть использован не только с числовыми столбцами, но и со столбцами типа object. "
   ]
  },
  {
   "cell_type": "code",
   "execution_count": 60,
   "metadata": {},
   "outputs": [
    {
     "name": "stdout",
     "output_type": "stream",
     "text": [
      "0    3\n",
      "Name: Rooms, dtype: int64\n"
     ]
    },
    {
     "data": {
      "text/plain": [
       "0    Southern Metropolitan\n",
       "Name: Regionname, dtype: object"
      ]
     },
     "execution_count": 60,
     "metadata": {},
     "output_type": "execute_result"
    }
   ],
   "source": [
    "# Вычислим какое число комнат чаще всего представленно на рынке недвижимости\n",
    "print(melb_data['Rooms'].mode())\n",
    "# Найдем наиболее распространенное назваание района:\n",
    "melb_data['Regionname'].mode()"
   ]
  },
  {
   "cell_type": "markdown",
   "metadata": {},
   "source": [
    "# Фильтрация данных в DataFrame\n",
    "- Под фильтрацией в DataFrame подразумевается получение новой таблицы путём вырезания строк, не удовлетворяющих поставленному условию. \n",
    "Классической фильтрацией в DataFrame является фильтрация с помощью масок\n",
    "- Маской называется Series, которая состоит из булевых значений, при этом значения True соответствуют тем индексам, для которых заданное условие выполняется, в противном случае ставится значение False (например, цена > 2 млн).\n"
   ]
  },
  {
   "cell_type": "code",
   "execution_count": 71,
   "metadata": {},
   "outputs": [
    {
     "data": {
      "text/plain": [
       "0        False\n",
       "1        False\n",
       "2        False\n",
       "3        False\n",
       "4        False\n",
       "         ...  \n",
       "13575    False\n",
       "13576    False\n",
       "13577    False\n",
       "13578     True\n",
       "13579    False\n",
       "Name: Price, Length: 13580, dtype: bool"
      ]
     },
     "metadata": {},
     "output_type": "display_data"
    }
   ],
   "source": [
    "# Создадим маску и положим её в переменную с именем mask. Синтаксис очень прост:\n",
    "mask = melb_data['Price'] > 2000000\n",
    "display(mask)"
   ]
  },
  {
   "cell_type": "markdown",
   "metadata": {},
   "source": [
    "Для фильтрации нужно просто подставить переменную mask в индексацию DataFrame. Маска показывает, какие строки нужно оставлять в результирующем наборе, а какие — убирать. Выведем первые пять строк отфильтрованной таблицы:"
   ]
  },
  {
   "cell_type": "code",
   "execution_count": 72,
   "metadata": {},
   "outputs": [
    {
     "data": {
      "text/html": [
       "<div>\n",
       "<style scoped>\n",
       "    .dataframe tbody tr th:only-of-type {\n",
       "        vertical-align: middle;\n",
       "    }\n",
       "\n",
       "    .dataframe tbody tr th {\n",
       "        vertical-align: top;\n",
       "    }\n",
       "\n",
       "    .dataframe thead th {\n",
       "        text-align: right;\n",
       "    }\n",
       "</style>\n",
       "<table border=\"1\" class=\"dataframe\">\n",
       "  <thead>\n",
       "    <tr style=\"text-align: right;\">\n",
       "      <th></th>\n",
       "      <th>index</th>\n",
       "      <th>Suburb</th>\n",
       "      <th>Address</th>\n",
       "      <th>Rooms</th>\n",
       "      <th>Type</th>\n",
       "      <th>Price</th>\n",
       "      <th>Method</th>\n",
       "      <th>SellerG</th>\n",
       "      <th>Date</th>\n",
       "      <th>Distance</th>\n",
       "      <th>...</th>\n",
       "      <th>Car</th>\n",
       "      <th>Landsize</th>\n",
       "      <th>BuildingArea</th>\n",
       "      <th>YearBuilt</th>\n",
       "      <th>CouncilArea</th>\n",
       "      <th>Lattitude</th>\n",
       "      <th>Longtitude</th>\n",
       "      <th>Regionname</th>\n",
       "      <th>Propertycount</th>\n",
       "      <th>Coordinates</th>\n",
       "    </tr>\n",
       "  </thead>\n",
       "  <tbody>\n",
       "    <tr>\n",
       "      <th>80</th>\n",
       "      <td>80</td>\n",
       "      <td>Albert Park</td>\n",
       "      <td>112 Beaconsfield Pde</td>\n",
       "      <td>3</td>\n",
       "      <td>h</td>\n",
       "      <td>2850000.0</td>\n",
       "      <td>PI</td>\n",
       "      <td>Buxton</td>\n",
       "      <td>4/03/2017</td>\n",
       "      <td>3.3</td>\n",
       "      <td>...</td>\n",
       "      <td>0</td>\n",
       "      <td>211.0</td>\n",
       "      <td>198.0</td>\n",
       "      <td>1890</td>\n",
       "      <td>Port Phillip</td>\n",
       "      <td>-37.8481</td>\n",
       "      <td>144.9499</td>\n",
       "      <td>Southern Metropolitan</td>\n",
       "      <td>3280</td>\n",
       "      <td>-37.8481, 144.9499</td>\n",
       "    </tr>\n",
       "    <tr>\n",
       "      <th>85</th>\n",
       "      <td>85</td>\n",
       "      <td>Albert Park</td>\n",
       "      <td>104 Richardson St</td>\n",
       "      <td>4</td>\n",
       "      <td>h</td>\n",
       "      <td>2300000.0</td>\n",
       "      <td>S</td>\n",
       "      <td>Marshall</td>\n",
       "      <td>7/05/2016</td>\n",
       "      <td>3.3</td>\n",
       "      <td>...</td>\n",
       "      <td>1</td>\n",
       "      <td>153.0</td>\n",
       "      <td>180.0</td>\n",
       "      <td>1880</td>\n",
       "      <td>Port Phillip</td>\n",
       "      <td>-37.8447</td>\n",
       "      <td>144.9523</td>\n",
       "      <td>Southern Metropolitan</td>\n",
       "      <td>3280</td>\n",
       "      <td>-37.8447, 144.9523</td>\n",
       "    </tr>\n",
       "    <tr>\n",
       "      <th>88</th>\n",
       "      <td>88</td>\n",
       "      <td>Albert Park</td>\n",
       "      <td>29 Faussett St</td>\n",
       "      <td>2</td>\n",
       "      <td>h</td>\n",
       "      <td>2120000.0</td>\n",
       "      <td>S</td>\n",
       "      <td>Greg</td>\n",
       "      <td>10/09/2016</td>\n",
       "      <td>3.3</td>\n",
       "      <td>...</td>\n",
       "      <td>1</td>\n",
       "      <td>199.0</td>\n",
       "      <td>107.0</td>\n",
       "      <td>1900</td>\n",
       "      <td>Port Phillip</td>\n",
       "      <td>-37.8422</td>\n",
       "      <td>144.9554</td>\n",
       "      <td>Southern Metropolitan</td>\n",
       "      <td>3280</td>\n",
       "      <td>-37.8422, 144.9554</td>\n",
       "    </tr>\n",
       "    <tr>\n",
       "      <th>92</th>\n",
       "      <td>92</td>\n",
       "      <td>Albert Park</td>\n",
       "      <td>2 Dundas Pl</td>\n",
       "      <td>3</td>\n",
       "      <td>h</td>\n",
       "      <td>2615000.0</td>\n",
       "      <td>S</td>\n",
       "      <td>Cayzer</td>\n",
       "      <td>10/12/2016</td>\n",
       "      <td>3.3</td>\n",
       "      <td>...</td>\n",
       "      <td>1</td>\n",
       "      <td>177.0</td>\n",
       "      <td>181.0</td>\n",
       "      <td>1880</td>\n",
       "      <td>Port Phillip</td>\n",
       "      <td>-37.8415</td>\n",
       "      <td>144.9585</td>\n",
       "      <td>Southern Metropolitan</td>\n",
       "      <td>3280</td>\n",
       "      <td>-37.8415, 144.9585</td>\n",
       "    </tr>\n",
       "    <tr>\n",
       "      <th>93</th>\n",
       "      <td>93</td>\n",
       "      <td>Albert Park</td>\n",
       "      <td>23 Finlay St</td>\n",
       "      <td>5</td>\n",
       "      <td>h</td>\n",
       "      <td>2100000.0</td>\n",
       "      <td>S</td>\n",
       "      <td>Greg</td>\n",
       "      <td>10/12/2016</td>\n",
       "      <td>3.3</td>\n",
       "      <td>...</td>\n",
       "      <td>1</td>\n",
       "      <td>237.0</td>\n",
       "      <td>126.0</td>\n",
       "      <td>1970</td>\n",
       "      <td>Port Phillip</td>\n",
       "      <td>-37.8436</td>\n",
       "      <td>144.9557</td>\n",
       "      <td>Southern Metropolitan</td>\n",
       "      <td>3280</td>\n",
       "      <td>-37.8436, 144.9557</td>\n",
       "    </tr>\n",
       "  </tbody>\n",
       "</table>\n",
       "<p>5 rows × 23 columns</p>\n",
       "</div>"
      ],
      "text/plain": [
       "    index       Suburb               Address  Rooms Type      Price Method  \\\n",
       "80     80  Albert Park  112 Beaconsfield Pde      3    h  2850000.0     PI   \n",
       "85     85  Albert Park     104 Richardson St      4    h  2300000.0      S   \n",
       "88     88  Albert Park        29 Faussett St      2    h  2120000.0      S   \n",
       "92     92  Albert Park           2 Dundas Pl      3    h  2615000.0      S   \n",
       "93     93  Albert Park          23 Finlay St      5    h  2100000.0      S   \n",
       "\n",
       "     SellerG        Date  Distance  ...  Car  Landsize  BuildingArea  \\\n",
       "80    Buxton   4/03/2017       3.3  ...    0     211.0         198.0   \n",
       "85  Marshall   7/05/2016       3.3  ...    1     153.0         180.0   \n",
       "88      Greg  10/09/2016       3.3  ...    1     199.0         107.0   \n",
       "92    Cayzer  10/12/2016       3.3  ...    1     177.0         181.0   \n",
       "93      Greg  10/12/2016       3.3  ...    1     237.0         126.0   \n",
       "\n",
       "    YearBuilt   CouncilArea  Lattitude  Longtitude             Regionname  \\\n",
       "80       1890  Port Phillip   -37.8481    144.9499  Southern Metropolitan   \n",
       "85       1880  Port Phillip   -37.8447    144.9523  Southern Metropolitan   \n",
       "88       1900  Port Phillip   -37.8422    144.9554  Southern Metropolitan   \n",
       "92       1880  Port Phillip   -37.8415    144.9585  Southern Metropolitan   \n",
       "93       1970  Port Phillip   -37.8436    144.9557  Southern Metropolitan   \n",
       "\n",
       "    Propertycount         Coordinates  \n",
       "80           3280  -37.8481, 144.9499  \n",
       "85           3280  -37.8447, 144.9523  \n",
       "88           3280  -37.8422, 144.9554  \n",
       "92           3280  -37.8415, 144.9585  \n",
       "93           3280  -37.8436, 144.9557  \n",
       "\n",
       "[5 rows x 23 columns]"
      ]
     },
     "metadata": {},
     "output_type": "display_data"
    }
   ],
   "source": [
    "display(melb_data[mask].head())"
   ]
  },
  {
   "cell_type": "markdown",
   "metadata": {},
   "source": [
    "В результате выполнения фильтрации возвращается новый DataFrame, полученный из исходного, при этом исходная таблица melb_data остаётся без изменений.\n",
    "\n",
    "Также вовсе не обязательно заносить маску в отдельную переменную — можно сразу вставлять условие в операцию индексации DataFrame, например:\n",
    "- melb_data[melb_data['Price'] > 2000000]"
   ]
  },
  {
   "cell_type": "markdown",
   "metadata": {},
   "source": [
    "##### Решим несколько примеров:"
   ]
  },
  {
   "cell_type": "code",
   "execution_count": 75,
   "metadata": {},
   "outputs": [
    {
     "data": {
      "text/plain": [
       "5881"
      ]
     },
     "execution_count": 75,
     "metadata": {},
     "output_type": "execute_result"
    }
   ],
   "source": [
    "# Найдем количество зданий с тремя комнатами.\n",
    "melb_data[melb_data['Rooms'] == 3].shape[0]  # обратимся к результирующей таблице по столбцу Rooms и найдём число строк в ней с помощью атрибута shape"
   ]
  },
  {
   "cell_type": "markdown",
   "metadata": {},
   "source": [
    "#### Условия можно комбинировать, используя операторы & (логическое И) и | (логическое ИЛИ). Условия при этом заключаются в скобки."
   ]
  },
  {
   "cell_type": "code",
   "execution_count": 81,
   "metadata": {},
   "outputs": [
    {
     "data": {
      "text/plain": [
       "3"
      ]
     },
     "execution_count": 81,
     "metadata": {},
     "output_type": "execute_result"
    }
   ],
   "source": [
    "# Усложним прошлый пример и найдём число трёхкомнатных домов с ценой менее 300 тысяч:\n",
    "melb_data[(melb_data['Rooms'] == 3) & (melb_data['Price'] < 300000)].shape[0]"
   ]
  },
  {
   "cell_type": "code",
   "execution_count": 82,
   "metadata": {},
   "outputs": [
    {
     "data": {
      "text/plain": [
       "68"
      ]
     },
     "execution_count": 82,
     "metadata": {},
     "output_type": "execute_result"
    }
   ],
   "source": [
    "# Теперь нас будут интересовать дома с ценой менее 300 тысяч, у которых либо число комнат равно 3 либо площадь домов более 100 квадратных метров\n",
    "melb_data[((melb_data['Rooms'] == 3) | (melb_data['BuildingArea'] > 100)) & (melb_data['Price'] < 300000)].shape[0]"
   ]
  },
  {
   "cell_type": "markdown",
   "metadata": {},
   "source": [
    "#####  Обратите внимание, что использование привычных операторов and и or будет неверным и приведёт к ошибке, так как они выполняют логические операции между двумя булевыми числами. В нашем случае слева и справа от оператора стоят маски (объекты Series), для которых логическую операцию надо совершить поэлементно, а операторы and и or для такого не предназначены."
   ]
  },
  {
   "cell_type": "markdown",
   "metadata": {},
   "source": [
    "- Фильтрацию часто сочетают со статистическими методами. Найдём максимальное количество комнат в таунхаусах. Так как в результате фильтрации получается DataFrame, то обратимся к нему по столбцу Rooms и найдём максимальное значение:"
   ]
  },
  {
   "cell_type": "code",
   "execution_count": 83,
   "metadata": {},
   "outputs": [
    {
     "data": {
      "text/plain": [
       "5"
      ]
     },
     "execution_count": 83,
     "metadata": {},
     "output_type": "execute_result"
    }
   ],
   "source": [
    "melb_data[melb_data['Type'] == 't']['Rooms'].max()"
   ]
  },
  {
   "cell_type": "code",
   "execution_count": 84,
   "metadata": {},
   "outputs": [
    {
     "data": {
      "text/plain": [
       "126.0"
      ]
     },
     "execution_count": 84,
     "metadata": {},
     "output_type": "execute_result"
    }
   ],
   "source": [
    "# Найдём медианную площадь здания у объектов, чья цена выше средней.\n",
    "mean_price = melb_data['Price'].mean()\n",
    "melb_data[melb_data['Price'] > mean_price]['BuildingArea'].median()"
   ]
  },
  {
   "cell_type": "markdown",
   "metadata": {},
   "source": [
    "##### Фильтрация находит применение в очистке данных.\n",
    "- Под очисткой данных понимается удаление из данных аномальных значений (выбросов), пропусков и данных, которые не несут информацию.\n",
    "\n",
    "- Причин появления таких дефектов в данных множество: неправильная передача по сети, неверная выгрузка из базы, человеческий фактор и т. д.\n",
    "\n",
    "- Проблема аномальных значений состоит в том, что если мы обучаем модель на данных, содержащих выбросы, то мы имеем немалый шанс получить менее верный прогноз, чего нам, конечно же, не хотелось бы."
   ]
  }
 ],
 "metadata": {
  "kernelspec": {
   "display_name": "Python 3.8.9 64-bit",
   "language": "python",
   "name": "python3"
  },
  "language_info": {
   "codemirror_mode": {
    "name": "ipython",
    "version": 3
   },
   "file_extension": ".py",
   "mimetype": "text/x-python",
   "name": "python",
   "nbconvert_exporter": "python",
   "pygments_lexer": "ipython3",
   "version": "3.8.9"
  },
  "orig_nbformat": 4,
  "vscode": {
   "interpreter": {
    "hash": "9650cb4e16cdd4a8e8e2d128bf38d875813998db22a3c986335f89e0cb4d7bb2"
   }
  }
 },
 "nbformat": 4,
 "nbformat_minor": 2
}
