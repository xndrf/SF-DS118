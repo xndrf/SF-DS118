{
 "cells": [
  {
   "attachments": {},
   "cell_type": "markdown",
   "metadata": {},
   "source": [
    "# Задание 5.7\n",
    "Напишите бесконечный итератор по списку.\n",
    "\n",
    "Для этого создайте генератор с названием inf_iter, который принимает на вход список и возвращает элементы из него через yield.\n",
    "\n",
    "Когда элементы в списке заканчиваются, генератор снова возвращает элементы из списка, начиная с нулевого.\n",
    "> Подсказка\n",
    "\n",
    "В теле генератора организуйте бесконечный цикл (внутри бесконечного цикла реализуется цикл  for). В цикле for пройдитесь по списку и выдавайте его элементы с помощью yield. Так вы получите циклический доступ к элементам списка."
   ]
  },
  {
   "cell_type": "code",
   "execution_count": 19,
   "metadata": {},
   "outputs": [],
   "source": [
    "def inf_iter(l_in):\n",
    "    while True:\n",
    "        for elem in l_in:\n",
    "            yield elem"
   ]
  },
  {
   "attachments": {},
   "cell_type": "markdown",
   "metadata": {},
   "source": [
    "# Задание 5.8\n",
    "Напишите генератор group_gen(n). Генератор должен при каждом вызове выдавать порядковый номер от 1 до n. После достижения n генератор должен снова возвращать номера, начиная с 1.\n",
    "\n",
    "> Подсказка\n",
    "\n",
    "В теле генератора организуйте бесконечный цикл (внутри бесконечного цикла реализуется цикл  for). В цикле for пройдитесь по диапазону от 1 до n+1 и выдавайте его элементы с помощью yield. Так вы получите циклический доступ к элементам списка."
   ]
  },
  {
   "cell_type": "code",
   "execution_count": 29,
   "metadata": {},
   "outputs": [
    {
     "name": "stdout",
     "output_type": "stream",
     "text": [
      "1\n",
      "2\n",
      "3\n",
      "4\n",
      "1\n"
     ]
    }
   ],
   "source": [
    "def my_group_gen(n):\n",
    "    while True:\n",
    "       for i in range(1, n+1):\n",
    "           yield i\n",
    "a = my_group_gen(4)\n",
    "print(next(a))\n",
    "print(next(a))\n",
    "print(next(a))\n",
    "print(next(a))\n",
    "print(next(a))"
   ]
  },
  {
   "attachments": {},
   "cell_type": "markdown",
   "metadata": {},
   "source": [
    "# Задание 6.1\n",
    "Представьте, что пытаетесь выгрузить несколько новостей с сайта. У вас есть список путей до интересующих вас статей. Пример такого списка:\n",
    "\n",
    "> docs = [\n",
    "    '//doc/5041434?query=data%20science',\n",
    "    '//doc/5041567?query=data%20science',\n",
    "    '//doc/4283670?query=data%20science',\n",
    "    '//doc/3712659?query=data%20science',\n",
    "    '//doc/4997267?query=data%20science',\n",
    "    '//doc/4372673?query=data%20science',\n",
    "    '//doc/3779060?query=data%20science',\n",
    "    '//doc/3495410?query=data%20science',\n",
    "    '//doc/4308832?query=data%20science',\n",
    "    '//doc/4079881?query=data%20science'\n",
    "]\n",
    "Как вы видите, представленные ссылки на статьи неполные — в них не хватает адреса самого сайта.\n",
    "\n",
    "Ваша задача — составить новый список links, в котором будут храниться полные ссылки до статей на сайте Коммерсант. Например, полная ссылка до первой статьи будет иметь вид: https://www.kommersant.ru//doc/5041434?query=data%20science\n",
    "\n",
    "Для решения задачи используйте функцию map(). К каждому элементу списка docs примените функцию-преобразование, которая добавляет к ссылке на начальную страницу сайта путь до статьи из списка docs.\n",
    "\n",
    "Результат работы функции map() оберните в список и занесите в переменную links.\n",
    "\n",
    "Важно: При отправке решения на проверку также создайте переменную docs и занесите в нее список, указанный ваше."
   ]
  },
  {
   "cell_type": "code",
   "execution_count": 40,
   "metadata": {},
   "outputs": [
    {
     "name": "stdout",
     "output_type": "stream",
     "text": [
      "['https://www.kommersant.ru//doc/5041434?query=data%20science', 'https://www.kommersant.ru//doc/5041567?query=data%20science', 'https://www.kommersant.ru//doc/4283670?query=data%20science', 'https://www.kommersant.ru//doc/3712659?query=data%20science', 'https://www.kommersant.ru//doc/4997267?query=data%20science', 'https://www.kommersant.ru//doc/4372673?query=data%20science', 'https://www.kommersant.ru//doc/3779060?query=data%20science', 'https://www.kommersant.ru//doc/3495410?query=data%20science', 'https://www.kommersant.ru//doc/4308832?query=data%20science', 'https://www.kommersant.ru//doc/4079881?query=data%20science']\n"
     ]
    }
   ],
   "source": [
    "#\n",
    "# Решения 1\n",
    "docs = [\n",
    "    '//doc/5041434?query=data%20science',\n",
    "    '//doc/5041567?query=data%20science',\n",
    "    '//doc/4283670?query=data%20science',\n",
    "    '//doc/3712659?query=data%20science',\n",
    "    '//doc/4997267?query=data%20science',\n",
    "    '//doc/4372673?query=data%20science',\n",
    "    '//doc/3779060?query=data%20science',\n",
    "    '//doc/3495410?query=data%20science',\n",
    "    '//doc/4308832?query=data%20science',\n",
    "    '//doc/4079881?query=data%20science'\n",
    "]\n",
    "\n",
    "def add_to_beginning(docs, start='https://www.kommersant.ru'):\n",
    "    return start + docs\n",
    "\n",
    "\n",
    "links = list(map(add_to_beginning, docs))\n",
    "print(links)"
   ]
  },
  {
   "cell_type": "code",
   "execution_count": 42,
   "metadata": {},
   "outputs": [
    {
     "name": "stdout",
     "output_type": "stream",
     "text": [
      "['https://www.kommersant.ru//doc/5041434?query=data%20science', 'https://www.kommersant.ru//doc/5041567?query=data%20science', 'https://www.kommersant.ru//doc/4283670?query=data%20science', 'https://www.kommersant.ru//doc/3712659?query=data%20science', 'https://www.kommersant.ru//doc/4997267?query=data%20science', 'https://www.kommersant.ru//doc/4372673?query=data%20science', 'https://www.kommersant.ru//doc/3779060?query=data%20science', 'https://www.kommersant.ru//doc/3495410?query=data%20science', 'https://www.kommersant.ru//doc/4308832?query=data%20science', 'https://www.kommersant.ru//doc/4079881?query=data%20science']\n"
     ]
    }
   ],
   "source": [
    "# Решение 2\n",
    "main_link = 'https://www.kommersant.ru'\n",
    "docs = [\n",
    "            '//doc/5041434?query=data%20science',\n",
    "            '//doc/5041567?query=data%20science',\n",
    "            '//doc/4283670?query=data%20science',\n",
    "            '//doc/3712659?query=data%20science',\n",
    "            '//doc/4997267?query=data%20science',\n",
    "            '//doc/4372673?query=data%20science',\n",
    "            '//doc/3779060?query=data%20science',\n",
    "            '//doc/3495410?query=data%20science',\n",
    "            '//doc/4308832?query=data%20science',\n",
    "            '//doc/4079881?query=data%20science'\n",
    "        ]\n",
    "links = list(map(lambda x: main_link + x, docs))\n",
    "print(links)"
   ]
  },
  {
   "attachments": {},
   "cell_type": "markdown",
   "metadata": {},
   "source": [
    "# Задание 6.2\n",
    "Вы — сотрудник отдела разработки в МФЦ. МФЦ предоставляет некоторый спектр услуг многодетным семьям. Необходимо написать функционал, который позволяет отфильтровать среди всех запрашиваемых пользователем услуг (их количество произвольное) только те, которые предоставляются многодетным семьям.\n",
    "\n",
    "Список услуг, предоставляемых многодетным семьям:\n",
    "\n",
    "family_list = [\n",
    "    'certificate of a large family',\n",
    "    'social card',\n",
    "    'maternity capital',\n",
    "    'parking permit',\n",
    "    'tax benefit',\n",
    "    'reimbursement of expenses',\n",
    "    \"compensation for the purchase of children's goods\"\n",
    "    ]\n",
    "Определите функцию family(), на вход которой подаётся произвольное количество аргументов (строки с названием услуг МФЦ), а в результате возвращается список услуг, которые могут быть оказаны только многодетной семье.\n",
    "\n",
    "Для фильтрации входного списка аргументов используйте функцию filter().\n",
    "\n",
    "Подсказка 1\n",
    "Для передачи произвольного количества аргументов в функцию в виде списка используется *:\n",
    "\n",
    "def family(*arg):\n",
    "    pass\n",
    "Подсказка 2\n",
    "В функцию filter() передайте функцию, которая возвращает True, если её аргумент есть в списке family_list, и False — в противном случае.\n",
    "\n",
    "Пример работы функции:\n",
    "\n",
    "print(family('newborn registration', 'parking permit', 'maternity capital', 'tax benefit', 'medical policy'))\n",
    "\n",
    "#Должно быть выведено:\n",
    "['parking permit', 'maternity capital', 'tax benefit']"
   ]
  },
  {
   "cell_type": "code",
   "execution_count": 44,
   "metadata": {},
   "outputs": [
    {
     "name": "stdout",
     "output_type": "stream",
     "text": [
      "['parking permit', 'maternity capital', 'tax benefit']\n"
     ]
    }
   ],
   "source": [
    "def family (*args):\n",
    "    family_list = [\n",
    "    'certificate of a large family',\n",
    "    'social card',\n",
    "    'maternity capital',\n",
    "    'parking permit',\n",
    "    'tax benefit',\n",
    "    'reimbursement of expenses',\n",
    "    \"compensation for the purchase of children's goods\"\n",
    "    ]\n",
    "    return list(filter(lambda x: x in family_list, args))\n",
    "print(family('newborn registration', 'parking permit', 'maternity capital', 'tax benefit', 'medical policy'))"
   ]
  },
  {
   "attachments": {},
   "cell_type": "markdown",
   "metadata": {},
   "source": [
    "# Задание 6.3\n",
    "Мы вновь занимаемся регистрацией пользователей. В нашем распоряжении имеется список кортежей reg. В каждом кортеже хранится информация о зарегистрированном пользователе и его дате рождения в формате (Фамилия, Имя, день, месяц, год):\n",
    "\n",
    "reg = [('Ivanov', 'Sergej', 24, 9, 1995),\n",
    "      ('Smith', 'John', 13, 2, 2003),\n",
    "      ('Petrova', 'Maria', 13, 3, 2003)]\n",
    "\n",
    "Выберите из списка reg только те записи, в которых год рождения пользователя 2000 и больше (2001, 2002 и т. д.). Из оставшихся записей составьте новый список кортежей, в котором фамилия и имя объединены в одну строку по следующему шаблону Фамилия И. (обратите внимание на точку после сокращения имени).\n",
    "\n",
    "Например, для представленного списка reg результирующий список кортежей new_reg должен иметь вид:\n",
    "\n",
    "new_reg = [('Smith J.', 13, 2, 2003), ('Petrova M.', 13, 3, 2003)]\n",
    "Для решения задачи используйте конвейер из filter()и map().\n",
    "\n",
    "Примечание. Обратите внимание, что нам дана двумерная структура, то есть функции фильтрации и преобразования, указываемые в аргументах в filter() и map(), принимают на вход один кортеж и должны обрабатывать его.\n",
    "\n",
    "В результате работы вашей программы должен быть создан обновлённый список кортежей с именем переменной new_reg.\n",
    "\n",
    "- Подсказка 1\n",
    "Для фильтрации объявите функцию, которая будет возвращать True, если последний элемент входного кортежа > 2000, и False — в противном случае. Передайте эту функцию в аргументы filter() вместе со списком кортежей reg.\n",
    "\n",
    "- Подсказка 2\n",
    "Для преобразования отфильтрованных записей создайте функцию, которая будет принимать на вход кортеж. В теле этой функции создавайте новый кортеж (Фамилия И., день, месяц, год) и возвращайте этот кортеж.\n",
    "\n",
    "Примените функцию к каждому элементу списка кортежей reg с помощью map()."
   ]
  },
  {
   "cell_type": "code",
   "execution_count": 50,
   "metadata": {},
   "outputs": [
    {
     "name": "stdout",
     "output_type": "stream",
     "text": [
      "[('Smith J.', 13, 2, 2003), ('Petrova M.', 13, 3, 2003)]\n"
     ]
    }
   ],
   "source": [
    "# Объявляем функцию-преобразование для кортежа\n",
    "reg = [('Ivanov', 'Sergej', 24, 9, 1995),\n",
    "      ('Smith', 'John', 13, 2, 2003),\n",
    "      ('Petrova', 'Maria', 13, 3, 2003)]\n",
    "\n",
    "def update_tuple(arg):\n",
    "    # Выделяем фамилию из кортежа\n",
    "    surname = arg[0]\n",
    "    # Выделяем имя из кортежа\n",
    "    name = arg[1]\n",
    "    # Создаём новую запись: фамилия + пробел + первая буква имени + точка\n",
    "    new_surname = surname + ' ' + name[0] + '.'\n",
    "    # Возвращаем обновлённый кортеж\n",
    "    return (new_surname, arg[2], arg[3], arg[4])\n",
    "\n",
    "# Фильтруем записи по условию, что последний элемент кортежа >= 2000\n",
    "filter_reg = filter(lambda x: x[-1] >= 2000, reg)\n",
    "# Применяем функцию-преобразование к каждому кортежу из списка и создаём новый список\n",
    "new_reg = list(map(update_tuple, filter_reg))\n",
    "print(new_reg)\n",
    "\n"
   ]
  },
  {
   "attachments": {},
   "cell_type": "markdown",
   "metadata": {},
   "source": [
    "# Задание 6.4\n",
    "\n",
    "Перед вами стоит задача разбить пользователей на три группы, чтобы в дальнейшем проводить А/B/C-тестирование. Например, первой группе вы выдаёте первый вариант интерфейса вашего приложения, второй группе — второй, третьей группе — третий. Затем вы будете сравнивать реакцию пользователей и делать вывод, какой интерфейс лучше.\n",
    "\n",
    "Для генерации групп дан генератор group_gen. Аргументом данного генератора является число n — число групп (у нас n = 3). При каждом вызове  генератора он возвращает число от 1 до n. После достижения n генератор снова возвращает номера групп, начиная с 1.\n",
    "\n",
    "def group_gen(n=3):\n",
    "    while True:\n",
    "        for i in range(1, n+1):\n",
    "            yield i\n",
    "Пример списка пользователей:\n",
    "\n",
    "users = ['Smith J.', 'Petrova M.', 'Lubimov M.', 'Holov J.']\n",
    "Напишите функцию print_groups, которая принимает список с именами пользователей. Используя генератор групп group_gen, печатайте на экран:\n",
    "\n",
    "<Фамилия И.> in group <номер группы по порядку>.\n",
    "\n",
    "Например для списка users вывод будет таким:\n",
    "\n",
    "Smith J. in group 1\n",
    "Petrova M. in group 2\n",
    "Lubimov M. in group 3\n",
    "Holov J. in group 1\n",
    "Указание. Используйте функцию zip() для одновременной работы со списком и генератором."
   ]
  },
  {
   "cell_type": "code",
   "execution_count": 56,
   "metadata": {},
   "outputs": [
    {
     "name": "stdout",
     "output_type": "stream",
     "text": [
      "Smith J. in group 1\n",
      "Petrova M. in group 2\n",
      "Lubimov M. in group 3\n",
      "Holov J. in group 1\n"
     ]
    }
   ],
   "source": [
    "def group_gen(n=3):\n",
    "    while True:\n",
    "        for i in range(1, n+1):\n",
    "            yield i\n",
    "\n",
    "users = ['Smith J.', 'Petrova M.', 'Lubimov M.', 'Holov J.']\n",
    "\n",
    "def print_groups(users):\n",
    "    # Создаём цикл по списку и генератору одновременно\n",
    "    for user, group in zip(users, group_gen()):\n",
    "        # Выводим пользователя и его группу в заданном формате\n",
    "        print(user, 'in group', group)\n",
    "\n",
    "print_groups(users)\n"
   ]
  },
  {
   "attachments": {},
   "cell_type": "markdown",
   "metadata": {},
   "source": [
    "# Задание 7.3\n",
    "\n",
    "Напишите функцию-декоратор-логгер logger(name).\n",
    "\n",
    "При создании декоратора передаётся имя логгера, которое выводится при каждом запуске декорируемой функции.\n",
    "\n",
    "Декорированная функция должна печатать:\n",
    "\n",
    "- перед запуском основной:\n",
    "<имя логгера>: Function <имя декорируемой функции> started\n",
    "- после запуска основной:\n",
    "<имя логгера>: Function <имя декорируемой функции> finished\n",
    "\n",
    "> Примечание. Узнать имя функции из переменной func, переданной в декоратор, можно с помощью конструкции func.__name__. Это так называемые «магические» атрибуты у объектов в Python (о них мы поговорим в модуле по ООП). Обратите внимание, что name обрамлён двумя символами нижнего подчёркивания \"_\" слева и справа"
   ]
  },
  {
   "cell_type": "code",
   "execution_count": 20,
   "metadata": {},
   "outputs": [
    {
     "name": "stdout",
     "output_type": "stream",
     "text": [
      "MainLogger: Function root started\n",
      "MainLogger: Function root finished\n",
      "5.0\n",
      "\n",
      "MyLoger1: Function foo started\n",
      "MyLoger1: Function foo finished\n",
      "25\n",
      "\n",
      "MyLoger2: Function foo started\n",
      "MyLoger2: Function foo finished\n",
      "7\n",
      "\n",
      "MyLoger3: Function foo started\n",
      "MyLoger3: Function foo finished\n",
      "3\n"
     ]
    }
   ],
   "source": [
    "def logger(name):\n",
    "\n",
    "    def decorator(func):\n",
    "\n",
    "        def decorated_func(*args, **kwargs):\n",
    "            print (name + ':', 'Function', func.__name__, 'started')\n",
    "            res = func(*args, **kwargs)\n",
    "            print (name + ':', 'Function', func.__name__, 'finished')\n",
    "            return res\n",
    "\n",
    "        return decorated_func\n",
    "\n",
    "    return decorator\n",
    "\n",
    "\n",
    "@logger('MainLogger')\n",
    "def root(val, n=2):\n",
    "    res = val ** (1/n)\n",
    "    return res\n",
    "\n",
    "print(root(25))\n",
    "print()\n",
    "\n",
    "@logger('MyLoger1')\n",
    "def foo(x, y):\n",
    "        return x**y\n",
    "\n",
    "\n",
    "\n",
    "print(foo(x = 5, y = 2))\n",
    "print()\n",
    "\n",
    "@logger('MyLoger2')\n",
    "def foo(x, y):\n",
    "        return x+y\n",
    "\n",
    "\n",
    "\n",
    "print(foo(x = 5, y = 2))\n",
    "\n",
    "print()\n",
    "\n",
    "@logger('MyLoger3')\n",
    "def foo(x, y):\n",
    "        return x-y\n",
    "\n",
    "\n",
    "\n",
    "print(foo(x = 5, y = 2))"
   ]
  }
 ],
 "metadata": {
  "kernelspec": {
   "display_name": "Python 3.8.9 64-bit",
   "language": "python",
   "name": "python3"
  },
  "language_info": {
   "codemirror_mode": {
    "name": "ipython",
    "version": 3
   },
   "file_extension": ".py",
   "mimetype": "text/x-python",
   "name": "python",
   "nbconvert_exporter": "python",
   "pygments_lexer": "ipython3",
   "version": "3.8.9"
  },
  "orig_nbformat": 4,
  "vscode": {
   "interpreter": {
    "hash": "9650cb4e16cdd4a8e8e2d128bf38d875813998db22a3c986335f89e0cb4d7bb2"
   }
  }
 },
 "nbformat": 4,
 "nbformat_minor": 2
}
