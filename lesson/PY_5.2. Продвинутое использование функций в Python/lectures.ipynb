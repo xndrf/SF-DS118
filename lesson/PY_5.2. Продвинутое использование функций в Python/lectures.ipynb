{
 "cells": [
  {
   "attachments": {},
   "cell_type": "markdown",
   "metadata": {},
   "source": [
    "# СОКРАЩЁННАЯ ЗАПИСЬ ГЕНЕРАТОРОВ\n",
    "\n",
    "Давайте рассмотрим пример.\n",
    "\n",
    "Представим ситуацию, мы забыли таблицу квадратов чисел и, чтобы её вспомнить, мы хотим сгенерировать квадраты натуральных чисел от 1 до 10. Напишем для этого генератор square_gen:"
   ]
  },
  {
   "cell_type": "code",
   "execution_count": 1,
   "metadata": {},
   "outputs": [
    {
     "name": "stdout",
     "output_type": "stream",
     "text": [
      "<class 'generator'>\n"
     ]
    }
   ],
   "source": [
    "# Объявляем генератор square_gen\n",
    "def square_gen():\n",
    "    # Создаём цикл для последовательности от 1 до 10\n",
    "    for x in range(1, 11):\n",
    "        # Выдаём квадрат числа\n",
    "        yield x ** 2\n",
    "gen = square_gen()\n",
    "print(type(gen))\n",
    "# Будет выведено:\n",
    "# <class 'generator'>"
   ]
  },
  {
   "attachments": {},
   "cell_type": "markdown",
   "metadata": {},
   "source": [
    "- Отлично, генератор создан. Можно даже обернуть сгенерированные числа в список:"
   ]
  },
  {
   "cell_type": "code",
   "execution_count": 2,
   "metadata": {},
   "outputs": [
    {
     "name": "stdout",
     "output_type": "stream",
     "text": [
      "[1, 4, 9, 16, 25, 36, 49, 64, 81, 100]\n"
     ]
    }
   ],
   "source": [
    "square_list = list(gen)\n",
    "print(square_list)\n",
    "# Будет выведено\n",
    "# [1, 4, 9, 16, 25, 36, 49, 64, 81, 100]"
   ]
  },
  {
   "attachments": {},
   "cell_type": "markdown",
   "metadata": {},
   "source": [
    "Но не кажется ли вам, что для такой простой задачи мы написали слишком много кода? Оказывается, можно решить её одной строкой кода с помощью сокращённой формы генератора."
   ]
  },
  {
   "attachments": {},
   "cell_type": "markdown",
   "metadata": {},
   "source": [
    "> Для сокращённой формы генератора используются круглые скобки. В них указывается элемент, который должен быть возвращён из генератора с помощью yield, а затем записывается цикл."
   ]
  },
  {
   "attachments": {},
   "cell_type": "markdown",
   "metadata": {},
   "source": [
    "Схема перехода от общей формы генератора к сокращенной:\n",
    "\n",
    "\n",
    "![Image of Yaktocat](https://lms.skillfactory.ru/assets/courseware/v1/898ceae7417e6b3f244e396f0667c42c/asset-v1:SkillFactory+DSPR-2.0+14JULY2021+type@asset+block/dst3-u1-md5.2_4_4.png)"
   ]
  },
  {
   "cell_type": "code",
   "execution_count": 8,
   "metadata": {},
   "outputs": [
    {
     "name": "stdout",
     "output_type": "stream",
     "text": [
      "[1, 4, 9, 16, 25, 36, 49, 64, 81, 100]\n"
     ]
    }
   ],
   "source": [
    "square_gen = (x**2 for x in range(1,11))\n",
    "square_list = list(square_gen)\n",
    "print(square_list)"
   ]
  },
  {
   "attachments": {},
   "cell_type": "markdown",
   "metadata": {},
   "source": [
    "> Важное замечание: можно генерировать списки сразу, без необходимости применения функции list() к объекту-генератору. Достаточно написать выражение для генератора в квадратных скобках, а не в круглых. Такая конструкция называется генератором списка:"
   ]
  },
  {
   "cell_type": "code",
   "execution_count": 9,
   "metadata": {},
   "outputs": [
    {
     "name": "stdout",
     "output_type": "stream",
     "text": [
      "<class 'list'>\n",
      "[27, 216, 729, 1728, 3375]\n"
     ]
    }
   ],
   "source": [
    "# Создаём генератор списка кубов чисел, которые делятся на 3\n",
    "triple_cubes_list = [x**3 for x in range(1,16) if x % 3 == 0]\n",
    "print(type(triple_cubes_list))\n",
    "print(triple_cubes_list)\n",
    "# Будет напечатано:\n",
    "# <class 'list'>\n",
    "# [27, 216, 729, 1728, 3375]"
   ]
  },
  {
   "attachments": {},
   "cell_type": "markdown",
   "metadata": {},
   "source": [
    "> То же самое работает и для множества — достаточно написать фигурные скобки вместо круглых. Такая запись будет называться генератором множества:"
   ]
  },
  {
   "cell_type": "code",
   "execution_count": 10,
   "metadata": {},
   "outputs": [
    {
     "name": "stdout",
     "output_type": "stream",
     "text": [
      "<class 'set'>\n",
      "{1728, 3375, 216, 729, 27}\n"
     ]
    }
   ],
   "source": [
    "# Создаём генератор множества кубов чисел, которые делятся на 3\n",
    "triple_cubes_set = {x**3 for x in range(1,16) if x % 3 == 0}\n",
    "print(type(triple_cubes_set))\n",
    "print(triple_cubes_set)\n",
    "# Будет напечатано:\n",
    "# <class 'set'>\n",
    "# {1728, 3375, 216, 729, 27}"
   ]
  },
  {
   "attachments": {},
   "cell_type": "markdown",
   "metadata": {},
   "source": [
    "> А вот кортеж так получить не выйдет, поскольку круглые скобки используются для создания генераторов. Но и эту проблему можно решить — достаточно окружить выражение для генератора функцией tuple(). Такая запись будет называться генератором кортежей:"
   ]
  },
  {
   "cell_type": "code",
   "execution_count": 11,
   "metadata": {},
   "outputs": [
    {
     "name": "stdout",
     "output_type": "stream",
     "text": [
      "<class 'tuple'>\n",
      "(27, 216, 729, 1728, 3375)\n"
     ]
    }
   ],
   "source": [
    "triple_cubes_tuple = tuple(x**3 for x in range(1,16) if x % 3 == 0)\n",
    "print(type(triple_cubes_tuple))\n",
    "print(triple_cubes_tuple)\n",
    "# Будет напечатано:\n",
    "# <class 'tuple'>\n",
    "# (27, 216, 729, 1728, 3375)"
   ]
  },
  {
   "attachments": {},
   "cell_type": "markdown",
   "metadata": {},
   "source": [
    "# Функции map(), filter(), zip(), reduce()\n",
    "\n",
    "- map()\n",
    "\n",
    "Начнём, как и всегда, с примера.\n",
    "\n",
    "В задачах обработки естественного языка иногда имеет значение не только само слово, но и его длина.\n",
    "\n",
    "Перед нами стоит следующая небольшая задача: вычислить длину каждого слова из нашего набора данных, чтобы в дальнейшем использовать эту информацию для анализа текста.\n",
    "\n",
    "Пусть нам дан список names с именами. Давайте составим новый список длин имён lens_list из списка names. Самое простое решение — воспользоваться циклом."
   ]
  },
  {
   "cell_type": "code",
   "execution_count": 12,
   "metadata": {},
   "outputs": [
    {
     "name": "stdout",
     "output_type": "stream",
     "text": [
      "[4, 6, 5, 9, 8, 3]\n"
     ]
    }
   ],
   "source": [
    "names = ['Ivan', 'Nikita', 'Simon', 'Margarita', 'Vasilisa', 'Kim']\n",
    "\n",
    "# Создаём пустой список, куда будем заносить результаты\n",
    "lens_list = []\n",
    "# Создаём цикл по элементам списка names\n",
    "for name in names:\n",
    "    # Вычисляем длину текущего слова\n",
    "    length = len(name)\n",
    "    # Добавляем вычисленную длину слова в список\n",
    "    lens_list.append(length)\n",
    " \n",
    "print(lens_list)\n",
    "# [4, 6, 5, 9, 8, 3]"
   ]
  },
  {
   "attachments": {},
   "cell_type": "markdown",
   "metadata": {},
   "source": [
    "- Напишем функцию get_length, которая возвращает длину переданного в неё слова:"
   ]
  },
  {
   "cell_type": "code",
   "execution_count": 13,
   "metadata": {},
   "outputs": [],
   "source": [
    "# Объявляем функцию для вычисления длины\n",
    "def get_length(word):\n",
    "    return len(word)"
   ]
  },
  {
   "attachments": {},
   "cell_type": "markdown",
   "metadata": {},
   "source": [
    "Теперь применим эту функцию к списку names с помощью специальной встроенной в Python функции map(). Она позволяет преобразовать каждый элемент итерируемого объекта по заданной функции.\n",
    "\n",
    "Аргументы функции map():\n",
    "\n",
    "Функция, которую необходимо применить к каждому элементу.\n",
    "Итерируемый объект (например, список).\n",
    " Функция map() возвращает объект типа map."
   ]
  },
  {
   "cell_type": "code",
   "execution_count": 14,
   "metadata": {},
   "outputs": [
    {
     "name": "stdout",
     "output_type": "stream",
     "text": [
      "True\n"
     ]
    }
   ],
   "source": [
    "# Объявляем функцию для вычисления длины\n",
    "def get_length(word):\n",
    "    return len(word)\n",
    "# Применяем функцию get_length к каждому элементу списка\n",
    "lens = map(get_length, names)\n",
    "# Проверим, что переменная lens — это объект типа map:\n",
    "# Для этого воспользуемся функцией isinstance\n",
    "print(isinstance(lens, map))"
   ]
  },
  {
   "attachments": {},
   "cell_type": "markdown",
   "metadata": {},
   "source": [
    "Ниже представлена схема работы функции map() на нашем примере:\n",
    "\n",
    "![map](https://lms.skillfactory.ru/assets/courseware/v1/91672636108444210af25a6addb3e981/asset-v1:SkillFactory+DSPR-2.0+14JULY2021+type@asset+block/dst3-u1-md5.2_5_1.png)"
   ]
  },
  {
   "attachments": {},
   "cell_type": "markdown",
   "metadata": {},
   "source": [
    "Объект типа map на самом деле является разновидностью итератора, а значит можно получить его элементы, последовательно применяя функцию next():"
   ]
  },
  {
   "cell_type": "code",
   "execution_count": 15,
   "metadata": {},
   "outputs": [
    {
     "name": "stdout",
     "output_type": "stream",
     "text": [
      "4\n",
      "6\n",
      "5\n"
     ]
    }
   ],
   "source": [
    "# Последовательно получаем элементы итератора map\n",
    "print(next(lens))\n",
    "print(next(lens))\n",
    "print(next(lens))"
   ]
  },
  {
   "attachments": {},
   "cell_type": "markdown",
   "metadata": {},
   "source": [
    "Кроме того, объекты итератора можно сразу занести в список, обернув результат работы функции map() в функцию list():"
   ]
  },
  {
   "cell_type": "code",
   "execution_count": 16,
   "metadata": {},
   "outputs": [
    {
     "name": "stdout",
     "output_type": "stream",
     "text": [
      "[4, 6, 5, 9, 8, 3]\n"
     ]
    }
   ],
   "source": [
    "# Оборачиваем содержимое итератора map в список\n",
    "lens_list = list(map(get_length, names))\n",
    "print(lens_list)"
   ]
  },
  {
   "attachments": {},
   "cell_type": "markdown",
   "metadata": {},
   "source": [
    "> Вероятно, вы обратили внимание, что функция get_length является очень простой и короткой: она в одну строку выполняет действие и возвращает значение."
   ]
  },
  {
   "attachments": {},
   "cell_type": "markdown",
   "metadata": {},
   "source": [
    "Чтобы не создавать такую функцию отдельно в исходном коде скрипта, напишем аналогичную ей lambda-функцию и применим её с помощью map. Сразу же воспользуемся функцией list(), чтобы получить весь список значений из итератора map:"
   ]
  },
  {
   "cell_type": "code",
   "execution_count": 17,
   "metadata": {},
   "outputs": [
    {
     "name": "stdout",
     "output_type": "stream",
     "text": [
      "[4, 6, 5, 9, 8, 3]\n"
     ]
    }
   ],
   "source": [
    "lens = list(map(lambda x: len(x), names))\n",
    "print(lens)"
   ]
  },
  {
   "attachments": {},
   "cell_type": "markdown",
   "metadata": {},
   "source": [
    "#### **ФУНКЦИЯ FILTER**\n",
    "\n",
    "→ Часто требуется отобрать из итератора элементы, удовлетворяющие определённому условию.\n",
    "\n",
    "Например, из списка оценок нашей видеоигры от пользователей необходимо выделить только те оценки, которые выше 70 баллов. Такая операция называется фильтрацией — мы отсекаем данные, которые не проходят фильтр. "
   ]
  },
  {
   "attachments": {},
   "cell_type": "markdown",
   "metadata": {},
   "source": [
    "Ранее с помощью функции map() мы получили список длин имён lens_list = [4, 6, 5, 9, 8, 3]. Теперь давайте создадим новый список even_list, в котором будут содержаться только чётные числа из списка lens_list."
   ]
  },
  {
   "cell_type": "code",
   "execution_count": 23,
   "metadata": {},
   "outputs": [
    {
     "name": "stdout",
     "output_type": "stream",
     "text": [
      "[4, 6, 8]\n"
     ]
    }
   ],
   "source": [
    "# Попробуем решить задачу с помощью цикла:\n",
    "lens_list = [4, 6, 5, 9, 8, 3]\n",
    "even_list = []\n",
    "# Создаём цикл по элементам списка\n",
    "for item in lens_list:\n",
    "    # Проверяем условие, что текущий элемент списка чётный\n",
    "    if item % 2 == 0: # Если условие выполняется,\n",
    "        # добавляем элемент в новый список\n",
    "        even_list .append(item)\n",
    "\n",
    "    \n",
    "print(even_list)"
   ]
  },
  {
   "attachments": {},
   "cell_type": "markdown",
   "metadata": {},
   "source": [
    "> Однако эту задачу можно решить с помощью специальной встроенной в Python функции filter(). Она позволит отфильтровать переданный ей итерируемый объект и оставить в нём только те элементы, которые удовлетворяют условию.\n",
    "\n",
    "> Её использование аналогично применению функции map().\n",
    "\n",
    "> Аргументы функции filter():\n",
    "\n",
    "1. Функция, которая должна возвращать True, если условие выполнено, иначе возвращается False.\n",
    "1. Итератор, с которым производится действие.\n",
    "\n",
    "- Функция filter() возвращает объект типа filter."
   ]
  },
  {
   "attachments": {},
   "cell_type": "markdown",
   "metadata": {},
   "source": [
    "Напишем функцию, которая возвращает True, если число делится на 2 без остатка, то есть является чётным. В противном случае функция возвращает False:"
   ]
  },
  {
   "cell_type": "code",
   "execution_count": 31,
   "metadata": {},
   "outputs": [
    {
     "name": "stdout",
     "output_type": "stream",
     "text": [
      "True\n",
      "[4, 6, 8]\n"
     ]
    }
   ],
   "source": [
    "# Объявляем функцию для проверки чётности числа\n",
    "def is_even(num):\n",
    "    if num % 2 == 0:\n",
    "        return True\n",
    "    return False\n",
    "\n",
    "\n",
    "lens_list = [4, 6, 5, 9, 8, 3]\n",
    "# Применяем функцию is_even к каждому элементу списка\n",
    "even = filter(is_even, lens_list)\n",
    "# Убедимся, что even — объект типа filter\n",
    "print(isinstance(even, filter))\n",
    "print(list(even))"
   ]
  },
  {
   "attachments": {},
   "cell_type": "markdown",
   "metadata": {},
   "source": [
    "#### **ИЛИ**:"
   ]
  },
  {
   "cell_type": "code",
   "execution_count": 34,
   "metadata": {},
   "outputs": [
    {
     "name": "stdout",
     "output_type": "stream",
     "text": [
      "[4, 6, 8]\n"
     ]
    }
   ],
   "source": [
    "lens_list = [4, 6, 5, 9, 8, 3] \n",
    "# Применяем lambda-функцию к каждому элементу списка\n",
    "even = filter(lambda x: x % 2 == 0, lens_list)\n",
    "print(list(even))"
   ]
  },
  {
   "attachments": {},
   "cell_type": "markdown",
   "metadata": {},
   "source": [
    "#### Конвейры из Map и Filter\n",
    "- Пример:\n",
    "\n",
    "Нам задан список имён names:\n",
    "\n",
    "> names = ['Ivan', 'Nikita', 'Simon', 'Margarita', 'Vasilisa', 'Kim']\n",
    "\n",
    "Допустим, вначале мы хотим отобрать только те имена, которые состоят из пяти и более букв, а затем посчитать, сколько раз в таких словах встречается буква А. \n",
    "\n",
    "1. Отфильтруем наш список по условию len(x) >= 5 с помощью функции filter(). \n",
    "1. Напишем функцию, которая приводит имя к верхнему регистру с помощью метода строки upper(), а затем методом строки count() вычисляет количество символов 'A'. Функция возвращает кортеж (имя, число букв 'A'). Нашу функцию-преобразование применим к отфильтрованным данным с помощью map().\n",
    "1. Конечный результат обернём в список с помощью функции list().\n",
    "- Наш конвейер, состоящий из filter() и map(), будет иметь вид:"
   ]
  },
  {
   "cell_type": "code",
   "execution_count": 35,
   "metadata": {},
   "outputs": [
    {
     "name": "stdout",
     "output_type": "stream",
     "text": [
      "[('Nikita', 1), ('Simon', 0), ('Margarita', 3), ('Vasilisa', 2)]\n"
     ]
    }
   ],
   "source": [
    "# Отбираем имена из пяти и более букв\n",
    "long_names = filter(lambda x: len(x) >= 5, names)\n",
    "# Все отобранные имена переводим в верхний регистр и считаем число букв А в них\n",
    "# Результат сохраняем в виде кортежа (имя, число букв \"A\")\n",
    "count_a = map(lambda x: (x, x.upper().count('A')), long_names)\n",
    "# Переводим объект map в list и печатаем его\n",
    "print(list(count_a))"
   ]
  },
  {
   "attachments": {},
   "cell_type": "markdown",
   "metadata": {},
   "source": [
    "> Выгодное отличие использования конвейеров без создания списков от итераторов заключается в повышении быстродействия скрипта. Вы не тратите время на распаковку содержимого итератора в список, и это существенно повышает производительность"
   ]
  },
  {
   "attachments": {},
   "cell_type": "markdown",
   "metadata": {},
   "source": [
    "Те же самые действия мы могли выполнить и с помощью цикла, в котором пустой список заполняется кортежами из двух элементов"
   ]
  },
  {
   "cell_type": "code",
   "execution_count": 36,
   "metadata": {},
   "outputs": [
    {
     "name": "stdout",
     "output_type": "stream",
     "text": [
      "[('Nikita', 1), ('Simon', 0), ('Margarita', 3), ('Vasilisa', 2)]\n"
     ]
    }
   ],
   "source": [
    "names = ['Ivan', 'Nikita', 'Simon', 'Margarita', 'Vasilisa', 'Kim']\n",
    "# Создаём пустой список, в который будем добавлять результаты\n",
    "count_a = list()\n",
    "# Создаём цикл по элементам списка names\n",
    "for name in names:\n",
    "    # Проверяем условие, что длина имени больше либо равна 5\n",
    "    if len(name) >= 5:\n",
    "        # Добавляем в итоговый список кортеж (имя, число букв \"A\")\n",
    "        count_a.append((name, name.upper().count('A')))\n",
    "print(count_a)"
   ]
  },
  {
   "attachments": {},
   "cell_type": "markdown",
   "metadata": {},
   "source": [
    "#### Функция Zip\n",
    "- Иногда возникает необходимость одновременно получать и обрабатывать элементы из нескольких последовательностей. Представьте, что перед вами несколько параллельных линий конвейера, по каждой из которых идёт отдельная продукция, и вам необходимо следить за каждой из этих линий.\n",
    "\n",
    "> Для такого совместного использования нескольких коллекций объектов предусмотрена функция zip(). Она принимает в качестве аргументов через запятую итерируемые объекты.\n",
    "\n",
    "> Результат работы функции zip() — специальный итератор zip. При требовании получить следующий объект (вызове next()) итератор выдаёт кортеж, в котором по порядку перечислено по одному объекту из каждого аргумента.\n",
    "\n",
    "> В итоге мы получаем параллельную обработку нескольких коллекций объектов сразу.\n",
    "\n",
    "Рассмотрим пример задачи.\n",
    "\n",
    "Пусть данные о фамилиях и именах студентов по каким-то причинам хранятся в разных местах, например в двух разных списках. Нам бы хотелось вывести их попарно на экран.\n",
    "\n",
    "Создадим два списка: в одном будут фамилии, в другом — имена студентов.\n",
    "\n",
    "Чтобы напечатать их попарно, получим из них объект zip и пройдёмся по нему в цикле for. На каждой итерации цикла объект zip будет возвращать кортеж из двух элементов — фамилии и имени. Для удобства кортеж из элементов zip мы сразу же распаковываем в цикле в понятные переменные surname и name.\n",
    "\n",
    "Итоговый код:"
   ]
  },
  {
   "cell_type": "code",
   "execution_count": 37,
   "metadata": {},
   "outputs": [
    {
     "name": "stdout",
     "output_type": "stream",
     "text": [
      "Ivanov Sergej\n",
      "Smirnov Ivan\n",
      "Kuznetsova Maria\n",
      "Nikitina Elena\n"
     ]
    }
   ],
   "source": [
    "surnames = ['Ivanov', 'Smirnov', 'Kuznetsova', 'Nikitina']\n",
    "names = ['Sergej', 'Ivan', 'Maria', 'Elena']\n",
    "# Создаём цикл по элементам итератора zip — кортежам из фамилий и имён\n",
    "for surname, name in zip(surnames, names):\n",
    "    print(surname, name)"
   ]
  },
  {
   "attachments": {},
   "cell_type": "markdown",
   "metadata": {},
   "source": [
    "- В функцию zip() подаются два списка: surnames и names. В результате zip() создаёт из двух этих объектов специальный итератор. \n",
    "\n",
    "- При каждом новом обращении к полученному zip-итератору с помощью next() он выдаёт следующую пару элементов (кортеж) из каждого списка. Пары образуются последовательно: например, первый элемент из списка surnames образует пару с первым элементом из списка names и т. д."
   ]
  },
  {
   "attachments": {},
   "cell_type": "markdown",
   "metadata": {},
   "source": [
    "> Важное замечание: zip перестаёт выдавать элементы тогда, когда заканчиваются элементы в самом коротком итераторе."
   ]
  },
  {
   "attachments": {},
   "cell_type": "markdown",
   "metadata": {},
   "source": [
    "#### ДОПОЛНИТЕЛЬНЫЕ ВОЗМОЖНОСТИ\n",
    "\n",
    "В Python существуют дополнительные возможности для решения задач с помощью итераторов и функций. Например, они собраны в модуле [functools](https://docs.python.org/3/library/functools.html).\n",
    "\n",
    "\n",
    " В этом юните в качестве примера разберём функцию reduce() из этого модуля.\n",
    "\n",
    "reduce(), как и map() или filter(), в качестве первого аргумента принимает функцию, в качестве второго — итерируемый объект (например, список).\n",
    "\n",
    "reduce() выполняет следующие действия:\n",
    "\n",
    "1. Берёт первый и второй элементы из итератора, применяет к ним переданную функцию.\n",
    "\n",
    "2. Запоминает значение, которое получено в шаге 1, и подставляет его в качестве первого аргумента в функцию. В качестве второго аргумента reduce() получает следующий элемент из генератора. \n",
    "\n",
    "3. Действие 2 повторяется до тех пор, пока в итерируемом объекте есть элементы.\n",
    "\n",
    "4. Функция reduce() возвращает последнее значение, которое вернула функция.\n",
    "\n",
    "- Рассмотрим работу данной функции на примере — применим с помощью reduce() lambda-функцию произведения двух аргументов к списку чисел от 1 до 5, полученному с помощью функции range(1, 6):"
   ]
  },
  {
   "cell_type": "code",
   "execution_count": 39,
   "metadata": {},
   "outputs": [
    {
     "name": "stdout",
     "output_type": "stream",
     "text": [
      "120\n"
     ]
    }
   ],
   "source": [
    "# Импортируем модуль functools\n",
    "from functools import reduce\n",
    "\n",
    "iterable = list(range(1, 6))\n",
    "# Применяем lambda-функцию для вычисления к произведения к списку\n",
    "reduced = reduce(lambda x,y: x*y, iterable)\n",
    "print(reduced)"
   ]
  },
  {
   "attachments": {},
   "cell_type": "markdown",
   "metadata": {},
   "source": [
    "Как это произошло:\n",
    "\n",
    "1. Были умножены первые два элемента из итератора: .\n",
    "\n",
    "2. Затем результат (число 2) умножили на следующий элемент — число 3.\n",
    "\n",
    "Получили: .\n",
    "\n",
    "3. Затем действие 2 повторялось с новыми числами:\n",
    "\n",
    "4. Наконец, reduce() вернула результат, полученный в ходе последнего запуска функции.\n",
    "\n",
    "Ниже представлена схема работы функции reduce() на нашем примере:\n",
    "\n",
    "\n",
    "![ad](https://lms.skillfactory.ru/assets/courseware/v1/78a1d913f97336c2c3390266ee5f0da9/asset-v1:SkillFactory+DSPR-2.0+14JULY2021+type@asset+block/dst3-u1-md5.2_5_4.png)"
   ]
  },
  {
   "attachments": {},
   "cell_type": "markdown",
   "metadata": {},
   "source": [
    "# Декораторы\n",
    "\n",
    "- Декораторы — это функции, которые изменяют поведение основной функции таким образом, что она продолжает принимать и возвращать те же значения, однако её функционал расширяется."
   ]
  },
  {
   "attachments": {},
   "cell_type": "markdown",
   "metadata": {},
   "source": [
    "Рассмотрим пример из жизни.\n",
    "\n",
    "- Когда вы думаете, как добраться из дома до того или иного места, вы обычно начинаете продумывать свой маршрут от подъезда, а не от двери квартиры, потому что процедура выхода из дома всегда стандартная вне зависимости от того, куда вы направляетесь. \n",
    "\n",
    "- Точно так же бывает удобно создать функцию, которая могла бы одинаковым образом расширять функционал переданных в неё функций.\n",
    "\n",
    "- Создадим простейшую функцию-декоратор. Она будет изменять переданную в неё функцию следующим образом: вначале будут печататься переданные на вход аргументы, вычисляться результат, а затем функция будет печатать его на экран и возвращать в исходный код основного скрипта:"
   ]
  },
  {
   "cell_type": "code",
   "execution_count": 2,
   "metadata": {},
   "outputs": [],
   "source": [
    "# Декорирующая функция принимает в качестве\n",
    "# аргумента название функции\n",
    "def simple_decorator(func):\n",
    " \n",
    "    # Функция, в которой происходит модификация поведения\n",
    "    # функции func. Она будет принимать те же аргументы,\n",
    "    # что и функция func, которую декорирует decorated_function.\n",
    "    # Чтобы принять все возможные аргументы, используем сочетание\n",
    "    # *args и *kwargs.\n",
    "    def decorated_function(*args, **kwargs):\n",
    "        # Печатаем принятые аргументы\n",
    "        print(\"Input:\")\n",
    "        print(\"Positional:\", args)\n",
    "        print(\"Named:\", kwargs)\n",
    "        # С помощью конструкции *args/**kwargs\n",
    "        # считаем результат выполнения функции func\n",
    "        result = func(*args, **kwargs)\n",
    "        # Печатаем результат выполнения функции\n",
    "        print(\"Result:\", result)\n",
    "        # Не забываем вернуть результат, чтобы\n",
    "        # не повлиять на поведение декорируемой функции!\n",
    "        return result\n",
    "    # Внешняя функция возвращает функцию\n",
    "    # decorated_function\n",
    "    return decorated_function"
   ]
  },
  {
   "attachments": {},
   "cell_type": "markdown",
   "metadata": {},
   "source": [
    "> Обратите внимание на общую структуру декоратора: внешняя функция обязательно должна принимать на вход ту функцию, которую она будет изменять (декорировать), а возвращать — декорированную функцию, в которую и будут подставлять аргументы функция.\n",
    "\n",
    "> Чтобы не повлиять декоратором на входные и выходные данные, используется конструкция *args/**kwargs для получения и передачи аргументов. Также результат обязательно сохраняется в переменную и возвращается по окончании работы декорированной функции. "
   ]
  },
  {
   "attachments": {},
   "cell_type": "markdown",
   "metadata": {},
   "source": [
    "- Воспользуемся написанным выше декоратором simple_decorator для функции root, которую мы создавали несколькими юнитами ранее:"
   ]
  },
  {
   "cell_type": "code",
   "execution_count": 3,
   "metadata": {},
   "outputs": [
    {
     "name": "stdout",
     "output_type": "stream",
     "text": [
      "<class 'function'>\n"
     ]
    }
   ],
   "source": [
    "def root(value, n=2):\n",
    "    result = value ** (1/n)\n",
    "    return result\n",
    "# Декорируем функцию root с помощью функции simple_decorator\n",
    "decorated_root = simple_decorator(root)\n",
    "# В decorated_root теперь действительно хранится функция\n",
    "print(type(decorated_root))"
   ]
  },
  {
   "attachments": {},
   "cell_type": "markdown",
   "metadata": {},
   "source": [
    "Теперь в функции decorated_root содержится объект, который по типу является функцией. Эта функция принимает на вход те же данные, что и исходная  функция root, и возвращает те же значения, однако она обладает дополнительным функционалом.\n",
    "\n",
    "Запустим функцию decorated_root:"
   ]
  },
  {
   "cell_type": "code",
   "execution_count": 6,
   "metadata": {},
   "outputs": [
    {
     "name": "stdout",
     "output_type": "stream",
     "text": [
      "Input:\n",
      "Positional: (625, 4)\n",
      "Named: {}\n",
      "Result: 5.0\n",
      "5.0\n"
     ]
    }
   ],
   "source": [
    "print(decorated_root(625, 4))"
   ]
  },
  {
   "attachments": {},
   "cell_type": "markdown",
   "metadata": {},
   "source": [
    "- Как видите, сначала функция напечатала входные и выходные данные, а затем вернула результат (5.0) в исходный код основного скрипта, который мы и напечатали функцией print. \n",
    "- В Python декораторы используются довольно часто. Они позволяют значительно упростить жизнь разработчику. Чтобы применять декораторы было удобнее, используется запись названия декоратора через символ @ прямо над сигнатурой основной функции:"
   ]
  },
  {
   "cell_type": "code",
   "execution_count": 7,
   "metadata": {},
   "outputs": [],
   "source": [
    "@simple_decorator\n",
    "def root(value, n=2):\n",
    "    result = value ** (1/n)\n",
    "    return result"
   ]
  },
  {
   "attachments": {},
   "cell_type": "markdown",
   "metadata": {},
   "source": [
    "- Такая запись говорит интерпретатору о том, что необходимо применить функцию simple_decorator  к функции root. При этом удобным оказывается то, что название самой декорированной функции от применения декоратора не меняется.\n",
    "- Воспользуемся декорированной функцией root:"
   ]
  },
  {
   "cell_type": "code",
   "execution_count": 11,
   "metadata": {},
   "outputs": [
    {
     "name": "stdout",
     "output_type": "stream",
     "text": [
      "Input:\n",
      "Positional: (625,)\n",
      "Named: {}\n",
      "Result: 25.0\n",
      "25.0\n"
     ]
    }
   ],
   "source": [
    "print(root(625))"
   ]
  },
  {
   "attachments": {},
   "cell_type": "markdown",
   "metadata": {},
   "source": [
    "Напишем более практичный декоратор. Он будет печатать время работы функции в секундах с помощью функции time() из модуля time:"
   ]
  },
  {
   "cell_type": "code",
   "execution_count": 27,
   "metadata": {},
   "outputs": [],
   "source": [
    "# Из модуля time импортируем функцию time\n",
    "from time import time\n",
    " \n",
    "def time_decorator(func):\n",
    "    def decorated_func(*args, **kwargs):\n",
    "        # Получаем время на момент начала вычисления\n",
    "        start = time()\n",
    "        result = func(*args, **kwargs)\n",
    "        # Получаем время на момент окончания вычисления\n",
    "        end = time()\n",
    "        # Считаем длительность вычисления\n",
    "        delta = end - start\n",
    "        # Печатаем время работы функции\n",
    "        print(\"Runtime:\", delta)\n",
    "        return result\n",
    "    return decorated_func"
   ]
  },
  {
   "attachments": {},
   "cell_type": "markdown",
   "metadata": {},
   "source": [
    "Применим новый декоратор time_decorator к функции root и несколько раз посчитаем время вычислений:"
   ]
  },
  {
   "cell_type": "code",
   "execution_count": 28,
   "metadata": {},
   "outputs": [
    {
     "name": "stdout",
     "output_type": "stream",
     "text": [
      "Runtime: 0.0\n",
      "9.0\n",
      "Runtime: 0.0\n",
      "9.0\n",
      "Runtime: 0.0\n",
      "9.0\n",
      "Runtime: 0.0\n",
      "9.0\n"
     ]
    }
   ],
   "source": [
    "@time_decorator\n",
    "def root(value, n=2):\n",
    "    result = value ** (1/n)\n",
    "    return result\n",
    " \n",
    "print(root(81))\n",
    "print(root(81))\n",
    "print(root(81))\n",
    "print(root(81))"
   ]
  },
  {
   "attachments": {},
   "cell_type": "markdown",
   "metadata": {},
   "source": [
    "Чтобы оценить среднее время вычисления, необходимо запустить функцию большое число раз и посчитать среднее время одного запуска — тогда стоит ожидать более качественные результаты. \n",
    "\n",
    "Как передать декоратору, сколько раз необходимо запустить функцию перед усреднением?\n",
    "\n",
    "К сожалению, сделать это не совсем просто. Для этого потребуется написать декоратор для декоратора. Вот его полный код:"
   ]
  },
  {
   "cell_type": "code",
   "execution_count": 25,
   "metadata": {},
   "outputs": [],
   "source": [
    "from time import time\n",
    " \n",
    "# Декоратор, который возвращает декоратор. Он принимает число\n",
    "# запусков декорируемой функции для усреднения времени\n",
    "def time_runs(n_runs):\n",
    "    # Декоратор, который уже будет возвращать непосредственно\n",
    "    # декорированную функцию\n",
    "    def time_decorator(func):\n",
    "        # Функция, в которой непосредственно\n",
    "        # происходит запуск основной функции\n",
    "        def decorated_func(*args, **kwargs):\n",
    "            start = time()\n",
    "            # Запускаем основную функцию столько раз,\n",
    "            # сколько передано в n_runs\n",
    "            for i in range(n_runs):\n",
    "                result = func(*args, **kwargs)\n",
    "            end = time()\n",
    "            # Считаем разницу во времени\n",
    "            delta = end - start\n",
    "            # Делим разницу на число запусков, чтобы получить\n",
    "            # среднее время одного запуска\n",
    "            mean_time = delta / n_runs\n",
    "            # Печатаем полученное среднее время\n",
    "            print(\"Mean runtime:\", mean_time)\n",
    "            # Не забываем вернуть сам результат\n",
    "            return result\n",
    "        # Возвращаем функцию, в которой происходит запуск основной функции\n",
    "        return decorated_func\n",
    "    # Возвращаем декоратор, который будет применяться к функции\n",
    "    return time_decorator"
   ]
  },
  {
   "attachments": {},
   "cell_type": "markdown",
   "metadata": {},
   "source": [
    "- Самая внешняя функция принимает на вход число запусков функции.\n",
    "\n",
    "> Важно менять число запусков при использовании декоратора для различных функций, поскольку некоторые функции могут выполняться очень быстро, а другие — очень медленно. Если задать слишком большое число для медленной функции, можно не дождаться результата её выполнения. \n",
    "\n",
    "- Данная внешняя функция возвращает среднюю функцию — ту самую функцию-генератор, которую будет использовать интерпретатор для декорирования основной функции. \n",
    "\n",
    "- Средняя функция возвращает внутреннюю функцию, которая и запускает основную функцию n_runs раз и печатает среднее время для одного запуска.\n",
    "\n",
    "Применим декоратор time_runs с параметром n_runs=1000000 к функции root и посчитаем время:"
   ]
  },
  {
   "cell_type": "code",
   "execution_count": 26,
   "metadata": {},
   "outputs": [
    {
     "name": "stdout",
     "output_type": "stream",
     "text": [
      "Mean runtime: 5.386893749237061e-07\n",
      "9.0\n",
      "Mean runtime: 4.812281131744385e-07\n",
      "9.0\n",
      "Mean runtime: 4.746658802032471e-07\n",
      "9.0\n",
      "Mean runtime: 4.982585906982422e-07\n",
      "9.0\n"
     ]
    }
   ],
   "source": [
    "@time_runs(1000000)\n",
    "def root(value, n=2):\n",
    "    result = value ** (1/n)\n",
    "    return result\n",
    " \n",
    "print(root(81))\n",
    "print(root(81))\n",
    "print(root(81))\n",
    "print(root(81))"
   ]
  }
 ],
 "metadata": {
  "kernelspec": {
   "display_name": "Python 3.8.9 64-bit",
   "language": "python",
   "name": "python3"
  },
  "language_info": {
   "codemirror_mode": {
    "name": "ipython",
    "version": 3
   },
   "file_extension": ".py",
   "mimetype": "text/x-python",
   "name": "python",
   "nbconvert_exporter": "python",
   "pygments_lexer": "ipython3",
   "version": "3.8.9"
  },
  "orig_nbformat": 4,
  "vscode": {
   "interpreter": {
    "hash": "9650cb4e16cdd4a8e8e2d128bf38d875813998db22a3c986335f89e0cb4d7bb2"
   }
  }
 },
 "nbformat": 4,
 "nbformat_minor": 2
}
