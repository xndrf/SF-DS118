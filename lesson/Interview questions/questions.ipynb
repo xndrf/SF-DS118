{
 "cells": [
  {
   "cell_type": "code",
   "execution_count": null,
   "metadata": {},
   "outputs": [],
   "source": []
  },
  {
   "attachments": {},
   "cell_type": "markdown",
   "metadata": {},
   "source": [
    "#### Вопрос 1\n",
    "**Можно ли использовать несколько декораторов для одной функции?**\n",
    "\n",
    "#### Вопрос 2\n",
    "**Можно ли создать декоратор из класса?**\n",
    "\n",
    "#### Вопрос 3\n",
    "**Что такое lambda-функции?**\n",
    "\n",
    "#### Вопрос 4\n",
    "**Что означает *args, **kwargs и как они используются?**\n",
    "\n",
    "#### Вопрос 5\n",
    "**Что такое декоратор?**\n",
    "> Декоратор позволяет добавить новую функциональность к существующей функции. \n",
    "\n",
    "Это делается следующим образом: функция передаётся декоратору, а он выполняет и существующий, и дополнительный код. \n",
    "\n",
    "Напишем декоратор, который записывает в журнал вызовы другой функции. Напишите функцию декоратора. В качестве аргумента он принимает функцию func. Декоратор определяет функцию log_function_called, которая вызывает func() и выполняет некоторый код print(f'{func} called.'). Затем возвращает определенную им функцию: "
   ]
  },
  {
   "cell_type": "code",
   "execution_count": 1,
   "metadata": {},
   "outputs": [],
   "source": [
    "def logging(func):\n",
    " def log_function_called():\n",
    "   print(f'{func} called.')\n",
    "   func()\n",
    " return log_function_called"
   ]
  },
  {
   "attachments": {},
   "cell_type": "markdown",
   "metadata": {},
   "source": [
    "Напишем другие функции, к которым добавим декоратор (потом, не сейчас): "
   ]
  },
  {
   "cell_type": "code",
   "execution_count": 2,
   "metadata": {},
   "outputs": [
    {
     "name": "stdout",
     "output_type": "stream",
     "text": [
      "chris\n",
      "naruto\n"
     ]
    }
   ],
   "source": [
    "def my_name():\n",
    "  print('chris')\n",
    "def friends_name():\n",
    "  print('naruto')\n",
    "my_name()\n",
    "friends_name()"
   ]
  },
  {
   "attachments": {},
   "cell_type": "markdown",
   "metadata": {},
   "source": [
    "Теперь добавим декоратор к ним обоим. "
   ]
  },
  {
   "cell_type": "code",
   "execution_count": 4,
   "metadata": {},
   "outputs": [
    {
     "name": "stdout",
     "output_type": "stream",
     "text": [
      "<function my_name at 0x00000288883EFA60> called.\n",
      "chris\n",
      "<function friends_name at 0x00000288884441F0> called.\n",
      "naruto\n"
     ]
    }
   ],
   "source": [
    "@logging\n",
    "def my_name():\n",
    " print('chris')\n",
    "\n",
    "@logging\n",
    "def friends_name():\n",
    " print('naruto')\n",
    "\n",
    "my_name()\n",
    "friends_name()"
   ]
  },
  {
   "attachments": {},
   "cell_type": "markdown",
   "metadata": {},
   "source": [
    "Теперь легко добавить ведение журнала в любую функцию, которую мы пишем. Достаточно написать перед ней @logging."
   ]
  },
  {
   "attachments": {},
   "cell_type": "markdown",
   "metadata": {},
   "source": [
    "#### Вопрос 6\n",
    "**Объясните, как работает функция filter?**\n",
    "\n",
    "- Функция делает буквально то, о чем говорит её название: она фильтрует элементы в последовательности.\n",
    "\n",
    "- Каждый элемент передается функции, которая включает его в последовательность, если по условию получает True, и отбрасывает в случае False:"
   ]
  },
  {
   "cell_type": "code",
   "execution_count": 5,
   "metadata": {},
   "outputs": [
    {
     "data": {
      "text/plain": [
       "[2, 4, 6, 8]"
      ]
     },
     "execution_count": 5,
     "metadata": {},
     "output_type": "execute_result"
    }
   ],
   "source": [
    "def add_three(x):\n",
    "    if x % 2 == 0:\n",
    "        return True        \n",
    "    else:\n",
    "        return False\n",
    "\n",
    "li = [1,2,3,4,5,6,7,8]\n",
    "\n",
    "[i for i in filter(add_three, li)]"
   ]
  }
 ],
 "metadata": {
  "kernelspec": {
   "display_name": "Python 3",
   "language": "python",
   "name": "python3"
  },
  "language_info": {
   "codemirror_mode": {
    "name": "ipython",
    "version": 3
   },
   "file_extension": ".py",
   "mimetype": "text/x-python",
   "name": "python",
   "nbconvert_exporter": "python",
   "pygments_lexer": "ipython3",
   "version": "3.8.9"
  },
  "orig_nbformat": 4,
  "vscode": {
   "interpreter": {
    "hash": "9650cb4e16cdd4a8e8e2d128bf38d875813998db22a3c986335f89e0cb4d7bb2"
   }
  }
 },
 "nbformat": 4,
 "nbformat_minor": 2
}
