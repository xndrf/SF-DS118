{
 "cells": [
  {
   "cell_type": "markdown",
   "metadata": {},
   "source": [
    "# Освоения возможностей встроенного модуля **Collections**\n",
    "- **Collections** позволяет упростить написание кода при решении некоторых типовых задач, таких как подсчёт числа различных элементов или создание словаря для хранения в нём списков.\n",
    "- **Collections** состоит из 4-х модулей **Counter**, **defaultdict**, **deque**, **OrderedDict**\n",
    "1. **Counter** - счетчик числа различных элементов;\n",
    "2. **defaultdict** - словарь с заданным типом данных по умолчанию;\n",
    "3. **deque** - инструмент для работы с очередями элементов;\n",
    "4. **OrderedDict** - словарь, который гарантирует сохранение порядка добавления ключей в нём."
   ]
  },
  {
   "cell_type": "markdown",
   "metadata": {},
   "source": [
    "# Модуль Counter"
   ]
  },
  {
   "cell_type": "code",
   "execution_count": null,
   "metadata": {},
   "outputs": [],
   "source": [
    "# Для использования счетчика необходимо вначале импортировать объект Counter из модуля collections\n",
    "from collections import Counter\n",
    "# Далее создаем пустой объект Counter\n",
    "c =  Counter()  # теперь в переменной c хранится объект с возможностями Counter"
   ]
  },
  {
   "cell_type": "markdown",
   "metadata": {},
   "source": [
    "#### Пример расчета с использованием Counter"
   ]
  },
  {
   "cell_type": "code",
   "execution_count": 10,
   "metadata": {},
   "outputs": [
    {
     "name": "stdout",
     "output_type": "stream",
     "text": [
      "Counter({'red': 3, 'black': 3, 'blue': 2, 'white': 1})\n"
     ]
    }
   ],
   "source": [
    "cars_spb = ['red', 'blue', 'black', 'black', 'black', 'red', 'blue', 'red', 'white']\n",
    "cars_moscow = ['black', 'black', 'white', 'black', 'black', 'white', 'yellow', 'yellow', 'yellow']\n",
    "counter_moscow = Counter(cars_moscow)  # Получаем счетчики на город\n",
    "counter_spb = Counter(cars_spb)  # Получаем счетчики на город\n",
    "from collections import Counter\n",
    "c =  Counter(cars_spb)\n",
    "print (c)"
   ]
  },
  {
   "cell_type": "markdown",
   "metadata": {},
   "source": [
    "#### Несколько операций с модулем Counter"
   ]
  },
  {
   "cell_type": "code",
   "execution_count": 12,
   "metadata": {},
   "outputs": [
    {
     "name": "stdout",
     "output_type": "stream",
     "text": [
      "3\n",
      "0\n",
      "9\n",
      "dict_values([3, 2, 3, 1])\n",
      "Counter({'black': 7, 'white': 3, 'yellow': 3, 'red': 3, 'blue': 2})\n",
      "Counter({'yellow': 3, 'black': 1, 'white': 1, 'blue': -2, 'red': -3})\n"
     ]
    }
   ],
   "source": [
    "print(c['black'])  # Узнаём, сколько раз встретился конкретный элемент\n",
    "print(c['purple'])  # Обращаемся к счётчику по несуществующему ключу\n",
    "print(sum(c.values()))  # Узнаём сумму всех значений в объекте\n",
    "print(c.values())  # Узнаем число раз, когда встретился ключ\n",
    "print(counter_moscow + counter_spb)  # Складываем счетчики\n",
    "counter_moscow.subtract(counter_spb)  # Узнаем разницу между объектами Counter (Применение функции subtract)\n",
    "print(counter_moscow) # Функция subtract не всегда бывает удобно использовать для вычитания, так как модифицируется исходный счётчик"
   ]
  },
  {
   "cell_type": "markdown",
   "metadata": {},
   "source": [
    "#### ДОПОЛНИТЕЛЬНЫЕ ФУНКЦИИ"
   ]
  },
  {
   "cell_type": "code",
   "execution_count": null,
   "metadata": {},
   "outputs": [],
   "source": [
    "print(*counter_spb.elements())  # Получаем список вссех элементов, которые содержатся в Counter. Эл-ты возвращаются в алфавитном порядке!\n",
    "print(list(counter_spb))  # Получаем список уникальных элементов с помощью list()\n",
    "print(dict(counter_spb))  # С помощью функции dict() превращаем Counter в обычный словарь\n",
    "print(counter_spb.most_common())  # Получаем список из кортежей элементов в порядке убывания их встречаемости\n",
    "print(counter_spb.most_common(2))  # Задаём желаемое число первых наиболее частых элементов, например, 2\n",
    "counter_moscow.clear()  # функция clear() позволяет полностью обнулить счётчик\n",
    "print(counter_moscow)"
   ]
  },
  {
   "cell_type": "markdown",
   "metadata": {},
   "source": [
    "# Модуль defaultdict\n",
    "- defaultdict позволяет задавать тот тип данных, который хранится в словаре по умолчанию (в нашем случае это должен быть список)"
   ]
  },
  {
   "cell_type": "markdown",
   "metadata": {},
   "source": [
    "Создадим defaultdict, в котором при обращении по несуществующему ключу будет автоматически создаваться новый список. Для этого при создании объекта defaultdict в круглых скобках передадим параметр list"
   ]
  },
  {
   "cell_type": "code",
   "execution_count": null,
   "metadata": {},
   "outputs": [],
   "source": [
    "students = [('Ivanov',1),('Smirnov',4),('Petrov',3),('Kuznetsova',1),\n",
    "            ('Nikitina',2),('Markov',3),('Pavlov',2)]\n",
    "\n",
    "from collections import defaultdict\n",
    "groups = defaultdict(list) # также можно было бы применить set, dict\n",
    "for student, group in students:\n",
    "    groups[group].append(student)\n",
    "    \n",
    "print(groups)"
   ]
  }
 ],
 "metadata": {
  "kernelspec": {
   "display_name": "Python 3.8.9 64-bit",
   "language": "python",
   "name": "python3"
  },
  "language_info": {
   "codemirror_mode": {
    "name": "ipython",
    "version": 3
   },
   "file_extension": ".py",
   "mimetype": "text/x-python",
   "name": "python",
   "nbconvert_exporter": "python",
   "pygments_lexer": "ipython3",
   "version": "3.8.9"
  },
  "orig_nbformat": 4,
  "vscode": {
   "interpreter": {
    "hash": "9650cb4e16cdd4a8e8e2d128bf38d875813998db22a3c986335f89e0cb4d7bb2"
   }
  }
 },
 "nbformat": 4,
 "nbformat_minor": 2
}
