{
 "cells": [
  {
   "cell_type": "markdown",
   "metadata": {},
   "source": [
    "## ИСПОЛЬЗОВАНИЕ ЛОГИЧЕСКИХ ОПЕРАТОРОВ И ОПЕРАТОРОВ СРАВНЕНИЯ В УСЛОВНОМ ОПЕРАТОРЕ\n",
    "### ПРИМЕР 1. ИСПОЛЬЗОВАНИЕ ЛОГИЧЕСКИХ ОПЕРАТОРОВ С УСЛОВНЫМ ОПЕРАТОРОМ\n"
   ]
  },
  {
   "cell_type": "markdown",
   "metadata": {},
   "source": [
    "- Условие задачи. Записать условие проверки целого числа А. Является ли оно кратным двум или кратным трём?\n",
    "Итак, число является кратным двум или трём, когда оно делится без остатка на 2 или 3.\n",
    "Делится без остатка — значит, остаток равен нулю, то есть если в результате деления числа А на 2 мы получаем в остатке ноль, то число А кратно 2. Запишем это:"
   ]
  },
  {
   "cell_type": "code",
   "execution_count": 4,
   "metadata": {},
   "outputs": [
    {
     "name": "stdout",
     "output_type": "stream",
     "text": [
      "Number A is divisible by 3\n"
     ]
    }
   ],
   "source": [
    "A = 21\n",
    "if A % 2 == 0:\n",
    "    print('Number A is divisible by 2')\n",
    "if A % 3 == 0:\n",
    "    print('Number A is divisible by 3') # Число А кратно 3"
   ]
  },
  {
   "cell_type": "markdown",
   "metadata": {},
   "source": [
    "Как теперь нам записать это в одно условие?\n",
    "\n",
    "Верно, нужно использовать логический оператор or (ИЛИ). Если вернуться к условию задачи, там есть подсказка, какой оператор нужно использовать.\n",
    "\n",
    "Тогда итоговый код будет выглядеть следующим образом:"
   ]
  },
  {
   "cell_type": "code",
   "execution_count": 5,
   "metadata": {},
   "outputs": [
    {
     "name": "stdout",
     "output_type": "stream",
     "text": [
      "Number A is divisible by 2 or by 3\n"
     ]
    }
   ],
   "source": [
    "A = 80\n",
    "if A % 2 == 0 or A % 3 == 0:\n",
    "    print('Number A is divisible by 2 or by 3') # Число А кратно 2 или 3"
   ]
  },
  {
   "cell_type": "markdown",
   "metadata": {},
   "source": [
    "Для последовательностей (строк, списков, кортежей) используйте тот факт, что пустая последовательность есть False."
   ]
  },
  {
   "cell_type": "code",
   "execution_count": null,
   "metadata": {},
   "outputs": [],
   "source": [
    "# Хорошо\n",
    "if not seq:\n",
    "if seq:\n",
    "\n",
    "# Плохо\n",
    "if len(seq)\n",
    "if not len(seq)\n",
    "\n",
    "# Примеры\n",
    "\n",
    "if pozitive_num:  # нет смысла проверять len(pozitive_num)\n",
    "    # если список непустой, печатаем его\n",
    "    print(\"List of positive numbers: \", pozitive_num) # Список положительных чисел\n",
    "else:\n",
    "    # печатаем, если список оказался пустым\n",
    "    print(\"List of positive numbers is empty\") # Список положительных чисел пустой\n",
    "\n",
    "\n",
    "if not password:  # password строка содержащая пароль, введённый пользователем\n",
    "    print(\"You forgot to enter a password! Please, try again\") # Вы забыли ввести пароль! Повторите попытку ещё раз"
   ]
  },
  {
   "cell_type": "markdown",
   "metadata": {},
   "source": [
    "**Не сравнивайте логические типы с True и False с помощью ==, иначе получается «масло масляное».**"
   ]
  },
  {
   "cell_type": "code",
   "execution_count": null,
   "metadata": {},
   "outputs": [],
   "source": [
    "# Хорошо\n",
    "if greeting:\n",
    "\n",
    "# Плохо\n",
    "if greeting == True:\n",
    "\n",
    "# Совсем неверно\n",
    "if greeting is True:"
   ]
  },
  {
   "cell_type": "markdown",
   "metadata": {},
   "source": [
    "### Задании 5.1\n",
    "\n",
    "У вас есть заготовка — def are_both_odd(A, B):. Давайте разберёмся в ней:\n",
    "\n",
    "инструкция def говорит нам о том, что мы объявляем функцию;\n",
    "are_both_odd — имя функции;\n",
    "A, B — переменные, которые мы передаём в функцию (а она уже с ними что-то делает).\n",
    "Вам нужно написать логику функции, которая будет проверять условия.\n",
    "\n",
    "**Внимание! Совершенно логично, что в конце нужно написать print. Но мы с вами находимся в теле функции, поэтому тут нужно использовать слово return вместо print. Ключевое слово return возвращает значение, которое идёт после него. Но это единственное изменение, не пугайтесь. В следующих модулях мы разберём функции подробнее.**"
   ]
  },
  {
   "cell_type": "code",
   "execution_count": 11,
   "metadata": {},
   "outputs": [
    {
     "data": {
      "text/plain": [
       "True"
      ]
     },
     "execution_count": 11,
     "metadata": {},
     "output_type": "execute_result"
    }
   ],
   "source": [
    "# Задание 5.1\n",
    "def are_both_odd(A, B):\n",
    "    return A % 2 == 1 and B % 2 == 1\n",
    "are_both_odd(3, 3)"
   ]
  },
  {
   "cell_type": "markdown",
   "metadata": {},
   "source": [
    "### ЗАДАНИЕ 5.2 \n",
    "\n",
    "Использование вложенных условий не всегда удобно.\n",
    "\n",
    "Перед вами код начинающего программиста, который не знает логические операторы. Он написал условие проверки принадлежности точки к координатной плоскости.\n",
    "\n",
    "Перепишите код, представленный ниже, с помощью четырёх отдельных условных операторов:\n",
    "\n",
    "![Image of Yaktocat](https://lms.skillfactory.ru/assets/courseware/v1/ed55743a60a8f810b1f38653a08b9b43/asset-v1:SkillFactory+DSPR-2.0+14JULY2021+type@asset+block/dst3-u1-md3_5_1.png)"
   ]
  },
  {
   "cell_type": "code",
   "execution_count": null,
   "metadata": {},
   "outputs": [],
   "source": [
    "# Задание 5.2\n",
    "if x > 0 and y > 0:\n",
    "    print(\"First quarter\") # Первая четверть\n",
    "if x > 0 and y < 0:\n",
    "    print(\"Fourth quarter\") # Четвёртая четверть\n",
    "if x < 0 and y > 0:\n",
    "    print(\"Second quarter\") # Вторая четверть\n",
    "if x < 0 and y < 0:\n",
    "    print(\"Third quarter\") # Третья четверть"
   ]
  },
  {
   "cell_type": "markdown",
   "metadata": {},
   "source": [
    "### Задание 5.3\n",
    "У вас есть заготовка функции — def get_wind_class(speed). Вам нужно вместо ??? написать код, который возвращает из функции класс ветра в зависимости от его характера:\n",
    "\n",
    "от 1 до 4 м/с - \"weak [1]\"\n",
    "\n",
    "от 5-10 м/c - \"moderate [2]\"\n",
    "\n",
    "от 11-18 м/c - \"strong [3]\"\n",
    "\n",
    "от 19 м/c - \"hurricane [4]\""
   ]
  },
  {
   "cell_type": "code",
   "execution_count": 17,
   "metadata": {},
   "outputs": [
    {
     "name": "stdout",
     "output_type": "stream",
     "text": [
      "weak [1]\n"
     ]
    }
   ],
   "source": [
    "# Задание 5.3\n",
    "def get_wind_class(speed): #объявление функции\n",
    "    if 1 <= speed <= 4: #только аргумент\n",
    "        return \"weak [1]\"\n",
    "    elif 5 <= speed <= 10:\n",
    "        return \"moderate [2]\"\n",
    "    elif 11 <= speed <= 18:\n",
    "        return\"strong [3]\"\n",
    "    elif speed >= 19:\n",
    "        return \"hurricane [4]\"\n",
    "print(get_wind_class(3)) #мы просим программу напечатать то, что в скобках"
   ]
  },
  {
   "cell_type": "markdown",
   "metadata": {},
   "source": [
    "### Задание 5.4\n",
    "Вам дан словарь user_database с именами пользователей и их паролями. Допишите функцию check_user так, чтобы она по логину пользователя проверяла, существует он или нет, после чего с помощью вложенного условия проверяла правильность пароля этого пользователя.\n",
    "\n",
    "Функция должна возвращать только True или False.\n",
    "\n",
    "Примечание: чтобы вернуть True, напишите \"return True\"; чтобы вернуть False, напишите \"return False\""
   ]
  },
  {
   "cell_type": "code",
   "execution_count": 16,
   "metadata": {},
   "outputs": [],
   "source": [
    "# Задание 5.4\n",
    "def check_user(username, password):\n",
    "    if username in user_database:\n",
    "        if password == user_database[username]:\n",
    "            return True\n",
    "        else:\n",
    "            return False\n",
    "    else:\n",
    "        return False"
   ]
  },
  {
   "cell_type": "markdown",
   "metadata": {},
   "source": [
    "### Задание 5.5\n",
    "Запишите условие, которое является истинным, когда только одно из чисел А, В и С меньше 45.\n",
    "\n",
    "*Иногда проще записать все условия и не пытаться упростить их."
   ]
  },
  {
   "cell_type": "code",
   "execution_count": null,
   "metadata": {},
   "outputs": [],
   "source": [
    "# Задание 5.5\n",
    "A = int(input('Enter the first number\\n')) # Введите первое число\n",
    "B = int(input('Enter the second number\\n')) # Введите второе число\n",
    "C = int(input('Enter the third number\\n')) # Введите третье число\n",
    "\n",
    "if ((A < 45) and (B >= 45) and (C >=45)) or \\\n",
    "    ((A >= 45) and (B < 45) and (C >=45)) or \\\n",
    "    ((A >= 45) and (B >= 45) and (C < 45)):\n",
    "    print('There is a number less than 45, such a number is the only one') # Есть число меньше 45 и только одно\n",
    "else:\n",
    "    print('There is no number less than 45 or there are a few') # Числа меньше 45 нет или их несколько"
   ]
  },
  {
   "cell_type": "markdown",
   "metadata": {},
   "source": [
    "### Задание 5.6\n",
    "Запишите логическое выражение, которое определяет, что число А не принадлежит интервалу от -10 до -1 или интервалу от 2 до 15."
   ]
  },
  {
   "cell_type": "code",
   "execution_count": null,
   "metadata": {},
   "outputs": [],
   "source": [
    "# Задание 5.6\n",
    "ЗАДАНИЕ 5.6\n",
    "\n",
    "A = int(input('Enter a number\\n')) # Введите число\n",
    "\n",
    "if not (-10 <= A <= -1 or 2 <= A <= 15):\n",
    "    print(\"The number does not belong to the interval\") # Число не принадлежит интервалу\n",
    "else:\n",
    "    print(\"The number belongs to the interval\") # Число принадлежит интервалу"
   ]
  },
  {
   "cell_type": "markdown",
   "metadata": {},
   "source": [
    "### Задание 5.7\n",
    "Дано двузначное число. Определите, входит ли в него цифра 5. Попробуйте решить задачу с использованием целочисленного деления и деления с остатком."
   ]
  },
  {
   "cell_type": "code",
   "execution_count": 13,
   "metadata": {},
   "outputs": [
    {
     "name": "stdout",
     "output_type": "stream",
     "text": [
      "True\n"
     ]
    }
   ],
   "source": [
    "# Задание 5.7\n",
    "n = 15\n",
    "first_digit = n // 10\n",
    "second_digit = n % 10\n",
    "\n",
    "print((first_digit == 5) or (second_digit == 5))"
   ]
  },
  {
   "cell_type": "markdown",
   "metadata": {},
   "source": [
    "### Задание 5.8\n",
    "\n",
    "Проверьте, все ли элементы в списке являются уникальными."
   ]
  },
  {
   "cell_type": "code",
   "execution_count": 14,
   "metadata": {},
   "outputs": [
    {
     "name": "stdout",
     "output_type": "stream",
     "text": [
      "True\n"
     ]
    }
   ],
   "source": [
    "# Задание 5.8\n",
    "list_ = [-5, 2, 4, 8, 12, -7, 5]\n",
    "\n",
    "print(len(list_) == len(set(list_)))"
   ]
  },
  {
   "cell_type": "markdown",
   "metadata": {},
   "source": [
    "### Задание 5.9\n",
    "Дано натуральное восьмизначное число. Выясните, является ли оно палиндромом (читается одинаково слева направо и справа налево).\n",
    "\n",
    "> Подсказка\n",
    "\n",
    "Использовать целочисленное деление и деление с остатком не нужно. Попробуйте преобразовать число к строке, а затем перевернуть эту строку."
   ]
  },
  {
   "cell_type": "code",
   "execution_count": 15,
   "metadata": {},
   "outputs": [
    {
     "name": "stdout",
     "output_type": "stream",
     "text": [
      "False\n"
     ]
    }
   ],
   "source": [
    "# Задание 5.9\n",
    "num = 12345678\n",
    "\n",
    "print(str(num) == str(num)[::-1])"
   ]
  }
 ],
 "metadata": {
  "kernelspec": {
   "display_name": "Python 3.8.9 64-bit",
   "language": "python",
   "name": "python3"
  },
  "language_info": {
   "codemirror_mode": {
    "name": "ipython",
    "version": 3
   },
   "file_extension": ".py",
   "mimetype": "text/x-python",
   "name": "python",
   "nbconvert_exporter": "python",
   "pygments_lexer": "ipython3",
   "version": "3.8.9"
  },
  "orig_nbformat": 4,
  "vscode": {
   "interpreter": {
    "hash": "9650cb4e16cdd4a8e8e2d128bf38d875813998db22a3c986335f89e0cb4d7bb2"
   }
  }
 },
 "nbformat": 4,
 "nbformat_minor": 2
}
