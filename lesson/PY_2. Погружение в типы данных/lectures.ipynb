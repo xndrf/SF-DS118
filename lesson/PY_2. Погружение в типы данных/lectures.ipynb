{
 "cells": [
  {
   "cell_type": "markdown",
   "metadata": {},
   "source": [
    "# Списки и кортежи\n",
    "\n",
    "##### Список в Python — это упорядоченная изменяемая коллекция объектов произвольных типов.\n",
    "- Упорядоченность - каждый элемент в списке имеет свой порядковый номер.\n",
    "- Изменяемость - в процессе исполнения кода можно изменять состав элементов списка и последовательность их расположе\n",
    "- Коллекция - в одном списке может храниться множество объектов (например чисел или строковых величин).\n",
    "- Произвольные типы - в списке могут храниться данные, относящиеся к любым типам из тех, с которыми работает Python. Например, мы можем вставить в один список и целое число, и число с плавающей точкой, и строку, и даже отдельный список (да, в списке можно хранить списки), и любой другой тип.\n",
    "\n"
   ]
  },
  {
   "cell_type": "markdown",
   "metadata": {},
   "source": [
    "#### **Создание пустого списка** - список который готов принимать и хранить элементы, но пока их не содержит\n",
    "\n",
    "- Способ 1\n",
    "\n",
    "С помощью конструктора типа list() для списков.\n",
    "Имя переменной, в которой хранится список, подчиняется тем же законам именования, которые действуют и для уже известных вам типов: числа, строки и т. д. Здесь my_list выбрано в качестве примера. Но вы можете и должны называть переменные более осмысленными именами, чтобы было проще и понятней разбираться в коде.\n",
    "\n",
    "→ Также стоит отметить, что конструкция list() показывает, что переменной my_list в качестве значения присваивается пустой список."
   ]
  },
  {
   "cell_type": "code",
   "execution_count": 10,
   "metadata": {},
   "outputs": [],
   "source": [
    "my_list = list()"
   ]
  },
  {
   "cell_type": "markdown",
   "metadata": {},
   "source": [
    "- Способ 2\n",
    "\n",
    "Квадратные скобки. Это так называемый «синтаксический сахар». Вместо шести символов (list()) пишем только два ([ ])."
   ]
  },
  {
   "cell_type": "code",
   "execution_count": 7,
   "metadata": {},
   "outputs": [],
   "source": [
    "my_list = [ ]"
   ]
  },
  {
   "cell_type": "markdown",
   "metadata": {},
   "source": [
    "#### Создание списка содержащего перечень элементов\n",
    "\n",
    "**Важно!** Элементы в списке отделяются запятыми!\n",
    "\n",
    "Создадим несколько вариаций списков:"
   ]
  },
  {
   "cell_type": "code",
   "execution_count": 23,
   "metadata": {},
   "outputs": [
    {
     "name": "stdout",
     "output_type": "stream",
     "text": [
      "[1, 2, 3, 4, 5, 6, 7]\n",
      "['a', 'b', 'c', 'd', 'e', 'f']\n",
      "['Java', 'C', 'Python', 'C++']\n"
     ]
    }
   ],
   "source": [
    "numbers = [1, 2, 3, 4, 5, 6, 7]\n",
    "vowels = ['a', 'b', 'c', 'd', 'e', 'f']\n",
    "languages = ['Java', 'C', 'Python', 'C++']\n",
    "print(numbers, vowels, languages, sep=\"\\n\") # sep=\"\\n\" - для вывода построчно результатов\n"
   ]
  },
  {
   "cell_type": "markdown",
   "metadata": {},
   "source": [
    "**Важно:** отметить, что в Python есть конструкция — генератор целочисленных списков определённой длины. То есть мы можем задать первый элемент, последний элемент, а также шаг и получить готовый список для работы.\n",
    "\n",
    "**Важно:** числа будут создаваться без включения крайнего элемента. То есть если вы ставите правую границу равной 10, то крайним числом в получившемся списке будет 9."
   ]
  },
  {
   "cell_type": "code",
   "execution_count": 30,
   "metadata": {},
   "outputs": [
    {
     "name": "stdout",
     "output_type": "stream",
     "text": [
      "range(1, 10)\n",
      "range(0, 10)\n",
      "range(1, 10, 2)\n",
      "[0, 20, 40, 60, 80]\n"
     ]
    }
   ],
   "source": [
    "a = range(1, 10)\n",
    "#Генерация будет идти до крайнего элемента, то есть крайний элемент не будет включён в список. Шаг по умолчанию равен 1.\n",
    "print(a)\n",
    "b = range(10)\n",
    "print(b)\n",
    "c = range (1, 10, 2) # 2 это шаг. т.е. range (x, y, z) : x = начало, y = конец, z = шаг\n",
    "print(c)\n",
    "# Пример списка с помощью функции range\n",
    "d =  list(range(0, 100, 20))\n",
    "print (d)"
   ]
  },
  {
   "cell_type": "markdown",
   "metadata": {},
   "source": [
    "# Методы работы со списками"
   ]
  },
  {
   "cell_type": "markdown",
   "metadata": {},
   "source": [
    "Индексы & Срезы\n",
    "- Индекс - это элемент списка. Нумерация индексов начинается с нуля\n",
    "- Срезы - помножество элементов заданного порядка с возможным указанием шага"
   ]
  },
  {
   "cell_type": "code",
   "execution_count": 40,
   "metadata": {},
   "outputs": [
    {
     "name": "stdout",
     "output_type": "stream",
     "text": [
      "b\n",
      "a\n",
      "c\n",
      "['a', 'b']\n",
      "['c', 'd']\n",
      "['a', 'c']\n",
      "['e', 'd', 'c', 'b', 'a']\n"
     ]
    }
   ],
   "source": [
    "# Пример индекса \n",
    "a = ['a', 'b', 'c']\n",
    "print(a[1])\n",
    "print(a[0])\n",
    "print(a[-1])  # когда используется знак *минус* отчет индексов начинается с конца списка\n",
    "# Пример среза\n",
    "a = [\"a\", \"b\", \"c\", \"d\", \"e\"]\n",
    "print(a[:2])\n",
    "print(a[2:4])\n",
    "print(a[0:4:2])\n",
    "b = a[::-1]  # развернуть список\n",
    "print(b)\n"
   ]
  },
  {
   "cell_type": "markdown",
   "metadata": {},
   "source": [
    "# Список методов работы со списками:\n",
    "- split() - получает из строки список\n",
    "- .append() - добавляет элемент в конец списка\n",
    "- .extend() - принимает в качестве параметра итерируемый объекты (списки, кортежи и троки) и добавляет\n",
    "- .count() - считает количество аргументов\n",
    "- .copy() -  копирование списка\n",
    "- .reverse() - разворачивает список слева направо\n",
    "- .sort() - сортируюет список\n",
    "\n",
    "#### Приведем пару примеров с методами:"
   ]
  },
  {
   "cell_type": "code",
   "execution_count": 67,
   "metadata": {},
   "outputs": [
    {
     "name": "stdout",
     "output_type": "stream",
     "text": [
      "['Hello', 'my', 'friend']\n",
      "['Tea', ' Coffe', ' Beer', ' Juice']\n",
      "['Tea, Coffe, Beer, Juice']\n",
      "['Tea', 'Coffe', 'Beer, Juice']\n"
     ]
    }
   ],
   "source": [
    "# split()\n",
    "text = 'Hello my friend'\n",
    "text_2 = 'Tea, Coffe, Beer, Juice'\n",
    "print(text.split()) # Все через запятую\n",
    "print(text_2.split(',')) # Использует запятую для разделения\n",
    "print(text_2.split(', ', 0)) # 0 - сколько раз будет выполнено разделение\n",
    "print(text_2.split(', ', 2)) "
   ]
  },
  {
   "cell_type": "code",
   "execution_count": 86,
   "metadata": {},
   "outputs": [
    {
     "name": "stdout",
     "output_type": "stream",
     "text": [
      "['car', 'top', 'lot', 'row']\n"
     ]
    }
   ],
   "source": [
    "# append()\n",
    "element = ['car', 'top', 'lot']\n",
    "element.append('row')\n",
    "print(element)"
   ]
  },
  {
   "cell_type": "code",
   "execution_count": 91,
   "metadata": {},
   "outputs": [
    {
     "name": "stdout",
     "output_type": "stream",
     "text": [
      "['car', 'top', 'lot', 'row', 'cook', 'look', 'and', 'cook', 'look', 'and', 'cook', 'look', 'and', 'cook', 'look', 'and']\n",
      "['man', 'woomen', 'p', 'e', 'o', 'p', 'l', 'e']\n"
     ]
    }
   ],
   "source": [
    "# extend\n",
    "block = ['cook', 'look', 'and']\n",
    "element.extend(block) # При повторном нажание на принт, элементы ещё раз будут добавлены в списоком\n",
    "print(element)\n",
    "block_2 = ['man', 'woomen']\n",
    "block_test = 'people'\n",
    "block_2.extend(block_test) # строки, которые передаются в extend(), превращаются в списки символов и добавляются посимвольно\n",
    "print(block_2)"
   ]
  },
  {
   "cell_type": "code",
   "execution_count": 93,
   "metadata": {},
   "outputs": [
    {
     "data": {
      "text/plain": [
       "4"
      ]
     },
     "execution_count": 93,
     "metadata": {},
     "output_type": "execute_result"
    }
   ],
   "source": [
    "# count()\n",
    "andd = [\"a\", \"b\", \"c\", \"d\", \"b\", \"b\", \"g\", \"b\", \"r\"]\n",
    "andd.count(\"b\") "
   ]
  },
  {
   "cell_type": "code",
   "execution_count": 95,
   "metadata": {},
   "outputs": [
    {
     "name": "stdout",
     "output_type": "stream",
     "text": [
      "[1, 2, 3]\n",
      "[6, 5, 4]\n"
     ]
    }
   ],
   "source": [
    "# copy()\n",
    "one = [1,2,3]\n",
    "two = one.copy()\n",
    "print(two) \n",
    "#В Python есть синтаксический сахар для данного метода — две квадратные скобки с двоеточием внутри [:]. \n",
    "# Мы как бы говорим: «Сделай мне полный срез исходного списка в другую переменную»\n",
    "list_sugar = [6,5,4]\n",
    "sugar = list_sugar[:]\n",
    "print(sugar)"
   ]
  },
  {
   "cell_type": "code",
   "execution_count": 96,
   "metadata": {},
   "outputs": [
    {
     "name": "stdout",
     "output_type": "stream",
     "text": [
      "[5, 4, 3, 2, 1]\n"
     ]
    }
   ],
   "source": [
    "# reverse()\n",
    "tip_1 = [1,2,3,4,5]\n",
    "tip_1.reverse()\n",
    "print(tip_1) "
   ]
  },
  {
   "cell_type": "code",
   "execution_count": 97,
   "metadata": {},
   "outputs": [
    {
     "name": "stdout",
     "output_type": "stream",
     "text": [
      "[0, 1, 2, 3, 4, 5, 10]\n"
     ]
    }
   ],
   "source": [
    "# sort()\n",
    "\n",
    "list_sort = [3,4,1,5,10,0, 2]\n",
    "list_sort.sort()\n",
    "print(list_sort) "
   ]
  },
  {
   "cell_type": "markdown",
   "metadata": {},
   "source": [
    "# Кортеж\n",
    "- Отличия Кортежа от Списка:\n",
    "1.  Кортеж - это неизменяемая структура данных. Его можно создать один раз и затем использовать без модификации эдементов внутри.\n",
    "2. Кортежи занимают меньший обхем памяти.\n",
    "3. Кортежи - можно использовать в качестве ключей для словарей. \n",
    "- .__sizeof__() - проверить объем занимаемой памяти\n",
    "- Кортеж обрамляется круглыми скобками. \n",
    "\n",
    "Примеры: \n"
   ]
  },
  {
   "cell_type": "code",
   "execution_count": 99,
   "metadata": {},
   "outputs": [
    {
     "name": "stdout",
     "output_type": "stream",
     "text": [
      "80\n",
      "96\n"
     ]
    }
   ],
   "source": [
    "# Создадим кортеж:\n",
    "a =  (1,2,3,4,5,6,7)\n",
    "# Создадим список:\n",
    "b = [1,2,3,4,5,6,7]\n",
    "print(a.__sizeof__())\n",
    "print(b.__sizeof__())"
   ]
  },
  {
   "cell_type": "markdown",
   "metadata": {},
   "source": [
    "#### Создание кортежа\n",
    "1. С помощью конструктора типа tuple()\n",
    "tpl1 = tuple()\n",
    "2. С помощью двух круглых скобок ()\n",
    "tpl2 = ()\n",
    "\n",
    "- Важно! Чтобы создать кортеж с одним числом, нужно поставить после него запятую вот так:\n",
    "tpl3 = ('s', )\n",
    "\n"
   ]
  },
  {
   "cell_type": "markdown",
   "metadata": {},
   "source": [
    "# Словари\n",
    "\n",
    "- Словарь - это неупорядоченные коллекции произвольных объектов с доступом по ключу.Иногда называют их ассоциативными массивами или хеш-таблицами.\n",
    "\n",
    "- Важно! Поиск всегда идёт по ключу. Нельзя использовать значение в качестве ключа.\n",
    "- Важно! Ключи в словаре должны быть уникальными. Если вы вставляете в словарь два одинаковых ключа с разными значениями, то тогда в качестве значения примется последнее значение, которое вы записали для ключ;\n",
    "\n",
    "- Важно! В более ранних версиях Python (до версии 3.7) не гарантируется, что ключи в словаре всегда будут находиться в том порядке, в котором были добавлены, — порядок может меняться. Следует обращать на это внимание, если вы работаете с более ранними версиями языка.\n",
    "\n",
    "- Словарь является неупорядоченной структурой, то есть ключи и их значения в оперативной памяти лежат не по порядку, поэтому сортировка словаря не имеет смысла и у него нет метода .sort().\n",
    "\n",
    "- Однако вы можете отдельно сортировать ключи и значения словаря в виде списка (предварительно применив функцию list()). Чтобы выделить ключи и значения словаря, используются методы .keys() и .values(). "
   ]
  },
  {
   "cell_type": "code",
   "execution_count": 102,
   "metadata": {},
   "outputs": [
    {
     "data": {
      "text/plain": [
       "['Dima', 'Kolya', 'Marina', 'Misha', 'Nina', 'Yana']"
      ]
     },
     "execution_count": 102,
     "metadata": {},
     "output_type": "execute_result"
    }
   ],
   "source": [
    "friends = {\"Kolya\": 180, \"Marina\": 176, \"Misha\": 158, \"Dima\": 201, \"Yana\": 183, \"Nina\": 156}\n",
    "friends_keys = list(friends.keys())\n",
    "friends_keys.sort()\n",
    "friends_keys"
   ]
  },
  {
   "cell_type": "markdown",
   "metadata": {},
   "source": [
    "Чтобы разобраться, в каком порядке выводятся данные при использовании метода .keys, рекомендуем ознакомиться с дополнительными материалами:\n",
    "\n",
    "[статьёй](https://silentsokolov.github.io/python-37-ordered-dict) об упорядочении словарей в Python версии 3.7 и выше;\n",
    "\n",
    "[видео](https://www.youtube.com/watch?v=0UX4MIfOMEs) о хэш-таблицах."
   ]
  },
  {
   "cell_type": "markdown",
   "metadata": {},
   "source": [
    "#### Создание словарей\n",
    "- Способ 1\n",
    "Использование конструктора типа dict()\n",
    "my_dict = dict()\n",
    "- Способ 2\n",
    "Использование фигурных скобок {}\n",
    "my_dict = {}\n",
    "- Способ 3\n",
    "С помощью метода fromkeys\n",
    "my_dict = dict.fromkeys()\n",
    "- С помощью генераторов словарей, которые очень похожи на генераторы списков.\n",
    "my_dict = {a: values for a in range ()}\n",
    "\n",
    "#### Рассмотрим несколько примеров по способам:"
   ]
  },
  {
   "cell_type": "code",
   "execution_count": 103,
   "metadata": {},
   "outputs": [
    {
     "name": "stdout",
     "output_type": "stream",
     "text": [
      "{'short': 'dict', 'long': 'dictionary'}\n",
      "{1: 1, 2: 4}\n",
      "\n",
      "{'dict': 1, 'dictionary': 2}\n",
      "\n",
      "{'a': None, 'b': None}\n",
      "{'a': 100, 'b': 100}\n",
      "\n",
      "{0: 0, 1: 1, 2: 4, 3: 9, 4: 16, 5: 25, 6: 36}\n"
     ]
    }
   ],
   "source": [
    "# Способ 1:\n",
    "my_dict_1 = dict(short='dict', long='dictionary')\n",
    "my_dict_2 = dict([(1, 1), (2, 4)])\n",
    "print(my_dict_1)\n",
    "print(my_dict_2)\n",
    "print()\n",
    "\n",
    "# Способ 2:\n",
    "my_dict_3 = {'dict': 1, 'dictionary': 2}\n",
    "print(my_dict_3)\n",
    "print()\n",
    "\n",
    "# Способ 3:\n",
    "my_dict_4 = dict.fromkeys(['a', 'b'])\n",
    "my_dict_5 = dict.fromkeys(['a', 'b'], 100)\n",
    "print(my_dict_4)\n",
    "print(my_dict_5)\n",
    "print()\n",
    "\n",
    "# Cпособ 4:\n",
    "my_dict_6 = {a: a ** 2 for a in range(7)}\n",
    "print(my_dict_6)"
   ]
  },
  {
   "cell_type": "code",
   "execution_count": 104,
   "metadata": {},
   "outputs": [
    {
     "data": {
      "text/plain": [
       "'Ekaterina Dmitrieva'"
      ]
     },
     "execution_count": 104,
     "metadata": {},
     "output_type": "execute_result"
    }
   ],
   "source": [
    "# Пример обращения к словарю по ключу:\n",
    "phones = {'+79033923029': 'Ivan Ivanov', '+78125849204': 'Kirill Smirnov', '+79053049385': 'Mark Parkhomenko', '+79265748370': 'Ekaterina Dmitrieva', '+79030598495': 'Ruslan Belyi'}\n",
    "phones[\"+79265748370\"]"
   ]
  },
  {
   "cell_type": "code",
   "execution_count": 105,
   "metadata": {},
   "outputs": [
    {
     "data": {
      "text/plain": [
       "'Ekaterina Ershova'"
      ]
     },
     "execution_count": 105,
     "metadata": {},
     "output_type": "execute_result"
    }
   ],
   "source": [
    "# Пример обновлении информации по ключу\n",
    "phones[\"+79265748370\"]  = 'Ekaterina Ershova'\n",
    "phones[\"+79265748370\"] "
   ]
  },
  {
   "cell_type": "code",
   "execution_count": 107,
   "metadata": {},
   "outputs": [
    {
     "data": {
      "text/plain": [
       "{'+79033923029': 'Ivan Ivanov',\n",
       " '+78125849204': 'Kirill Smirnov',\n",
       " '+79053049385': 'Mark Parkhomenko',\n",
       " '+79265748370': 'Ekaterina Ershova',\n",
       " '+79030598495': 'Ruslan Belyi',\n",
       " '+79686581788': 'Artem Pliev'}"
      ]
     },
     "execution_count": 107,
     "metadata": {},
     "output_type": "execute_result"
    }
   ],
   "source": [
    "# Пример внесение нового элемента в словарь:\n",
    "phones[\"+79686581788\"]  = 'Artem Pliev'\n",
    "phones"
   ]
  },
  {
   "cell_type": "markdown",
   "metadata": {},
   "source": [
    "# Методы работы со словарями\n",
    "1. .clear() - возвращения пустого словаря\n",
    "2. .keys() - возвращения ключей словаря\n",
    "3. .values() - возвращения значения ключей\n",
    "4. .get() - умное обращение обращения к словарю.Если отсутствует ключ, то программа вернет None, а не выдаст ошибку\n",
    "5. .update() - для добавления нескольких элементов в словарь\n",
    "6. .pop() - удаляет из структуры данных элементы, но дополнительно возвращает удалённый элемент. Метод изменяет первоначальный словарь, а его результат (удалённый элемент) можно записать в переменную, чтобы в дальнейшем использовать в программе.\n",
    "7. .setdefault() - принимает два параметра: ключ и значение по умолчанию, если этого ключа нет в словаре. Этот метод создаст ключ за вас, если он действительно отсутствует, если ключ имеется, его значение останется неизменным\n",
    "8. .copy() - возвращает копию словаря\n",
    "9. .fromkeys(seq[, value]) - создает словарь с ключами из seq и значением value (по умолчанию None)\n",
    "10. .items() - возвращает пары (ключ, значение).\n",
    "11. .popitem() - удаляет и возвращает пару (ключ, значение). Если словарь пуст, бросает исключение KeyError. Помните, что словари неупорядочены.\n",
    "\n",
    "#### Примеры работы со словарями:\n"
   ]
  },
  {
   "cell_type": "code",
   "execution_count": 108,
   "metadata": {},
   "outputs": [
    {
     "name": "stdout",
     "output_type": "stream",
     "text": [
      "{'Kolya': 180, 'Marina': 176, 'Misha': 158, 'Dima': 201, 'Yana': 183, 'Nina': 156}\n",
      "{}\n"
     ]
    }
   ],
   "source": [
    "# clear\n",
    "friends = {\"Kolya\": 180, \"Marina\": 176, \"Misha\": 158, \"Dima\": 201, \"Yana\": 183, \"Nina\": 156}\n",
    "print(friends)\n",
    "friends.clear()\n",
    "print(friends)"
   ]
  },
  {
   "cell_type": "markdown",
   "metadata": {},
   "source": [
    "- Важно! Если вы выполнили операцию .clear(), данные обратно вернуть нельзя, только если вы предусмотрительно не сохранили копию словаря (с помощью соответствующего метода) в другую переменную перед «стиранием»."
   ]
  },
  {
   "cell_type": "code",
   "execution_count": 111,
   "metadata": {},
   "outputs": [
    {
     "data": {
      "text/plain": [
       "dict_keys(['Kolya', 'Marina', 'Misha', 'Dima', 'Yana', 'Nina'])"
      ]
     },
     "execution_count": 111,
     "metadata": {},
     "output_type": "execute_result"
    }
   ],
   "source": [
    "# keys()\n",
    "friends = {\"Kolya\": 180, \"Marina\": 176, \"Misha\": 158, \"Dima\": 201, \"Yana\": 183, \"Nina\": 156}\n",
    "friends.keys() "
   ]
  },
  {
   "cell_type": "markdown",
   "metadata": {},
   "source": [
    "- Важно отметить, что метод .keys() возвращает не просто список, а структуру типа dict_keys."
   ]
  },
  {
   "cell_type": "code",
   "execution_count": 112,
   "metadata": {},
   "outputs": [
    {
     "data": {
      "text/plain": [
       "dict_values([180, 176, 158, 201, 183, 156])"
      ]
     },
     "execution_count": 112,
     "metadata": {},
     "output_type": "execute_result"
    }
   ],
   "source": [
    "# friends = {\"Kolya\": 180, \"Marina\": 176, \"Misha\": 158, \"Dima\": 201, \"Yana\": 183, \"Nina\": 156}\n",
    "friends.values() "
   ]
  },
  {
   "cell_type": "code",
   "execution_count": 117,
   "metadata": {},
   "outputs": [
    {
     "name": "stdout",
     "output_type": "stream",
     "text": [
      "None\n",
      "201\n"
     ]
    }
   ],
   "source": [
    "# friends = {\"Kolya\": 180, \"Marina\": 176, \"Misha\": 158, \"Dima\": 201, \"Yana\": 183, \"Nina\": 156}\n",
    "print(friends.get(\"Matvey\"))\n",
    "print(friends.get(\"Dima\"))"
   ]
  },
  {
   "cell_type": "code",
   "execution_count": 119,
   "metadata": {},
   "outputs": [
    {
     "data": {
      "text/plain": [
       "{'Kolya': 200,\n",
       " 'Marina': 176,\n",
       " 'Misha': 158,\n",
       " 'Dima': 201,\n",
       " 'Yana': 183,\n",
       " 'Nina': 156,\n",
       " 'Stas': 171,\n",
       " 'Nastya': 163}"
      ]
     },
     "execution_count": 119,
     "metadata": {},
     "output_type": "execute_result"
    }
   ],
   "source": [
    "# friends = {\"Kolya\": 180, \"Marina\": 176, \"Misha\": 158, \"Dima\": 201, \"Yana\": 183, \"Nina\": 156}\n",
    "friends.update({\"Kolya\":200, \"Stas\":171, \"Nastya\": 163})\n",
    "friends "
   ]
  },
  {
   "cell_type": "markdown",
   "metadata": {},
   "source": [
    "- Важно отметить, что .update() также обновляет уже существующие значения по ключам, находящимся в словаре. Обрати внимание на пример выше. Коля был изначально 180, а стал 200"
   ]
  },
  {
   "cell_type": "code",
   "execution_count": 130,
   "metadata": {},
   "outputs": [
    {
     "name": "stdout",
     "output_type": "stream",
     "text": [
      "{'Kolya': 180, 'Marina': 176, 'Dima': 201, 'Yana': 183, 'Nina': 156}\n",
      "158\n"
     ]
    }
   ],
   "source": [
    "friends = {\"Kolya\": 180, \"Marina\": 176, \"Misha\": 158, \"Dima\": 201, \"Yana\": 183, \"Nina\": 156}\n",
    "best_friend_height = friends.pop(\"Misha\")\n",
    "print(friends) \n",
    "print(best_friend_height)"
   ]
  },
  {
   "cell_type": "code",
   "execution_count": 149,
   "metadata": {},
   "outputs": [
    {
     "name": "stdout",
     "output_type": "stream",
     "text": [
      "{'Kolya': 180, 'Marina': 176, 'Dima': 201, 'Yana': 183, 'Nina': 156, 'Stas': 183, 'Nastya': 163}\n",
      "{'Kolya': 180, 'Marina': 176, 'Dima': 201, 'Yana': 183, 'Nina': 156, 'Stas': 183, 'Nastya': 163, 'Alena': 170}\n"
     ]
    }
   ],
   "source": [
    "friends = {\"Kolya\": 180, \"Marina\": 176, \"Dima\": 201, \"Yana\": 183, \"Nina\": 156, \"Stas\":183, \"Nastya\": 163}\n",
    "friends.setdefault(\"Nastya\",100)\n",
    "friends[\"Nastya\"] \n",
    "print(friends)\n",
    "friends.setdefault(\"Alena\", 170)\n",
    "friends[\"Alena\"] \n",
    "print(friends)"
   ]
  },
  {
   "cell_type": "code",
   "execution_count": 155,
   "metadata": {},
   "outputs": [
    {
     "name": "stdout",
     "output_type": "stream",
     "text": [
      "{0: 0, 4: 0, 5: 0, 12: 0, 13: 0, 23: 0}\n",
      "{0: 1, 4: 1, 5: 1, 12: 1, 13: 1, 23: 1}\n"
     ]
    }
   ],
   "source": [
    "# Где можно применить метод dict.fromkeys().\n",
    "# Например есть список с повторяющимися значениями и необходимо узнать сколько раз какой элемент повторяется в этом списке. \n",
    "# Результат получим в виде словаря, где уникальный элемент списка будет ключом, а количество повторений - значением.\n",
    "lst= [0, 12, 13, 4, 23, 5]\n",
    "# Создаем ключи будущего словаря (множество set()) \n",
    "# может иметь только уникальные элементы)\n",
    "key = set(lst)\n",
    "# создаем словарь 'rez' из списка ключей 'key'\n",
    "# со значением по умолчанию = 0\n",
    "rez = dict.fromkeys(key, 0)\n",
    "print(rez)\n",
    "\n",
    "for key in lst:\n",
    "    # увеличиваем счетчик\n",
    "    # соответствующего ключа на 1\n",
    "    rez[key] +=1\n",
    "print(rez) "
   ]
  },
  {
   "cell_type": "code",
   "execution_count": 150,
   "metadata": {},
   "outputs": [
    {
     "data": {
      "text/plain": [
       "dict_items([('Kolya', 180), ('Marina', 176), ('Dima', 201), ('Yana', 183), ('Nina', 156), ('Stas', 183), ('Nastya', 163), ('Alena', 170)])"
      ]
     },
     "execution_count": 150,
     "metadata": {},
     "output_type": "execute_result"
    }
   ],
   "source": [
    "friends.items()"
   ]
  },
  {
   "cell_type": "code",
   "execution_count": 151,
   "metadata": {},
   "outputs": [
    {
     "data": {
      "text/plain": [
       "('Alena', 170)"
      ]
     },
     "execution_count": 151,
     "metadata": {},
     "output_type": "execute_result"
    }
   ],
   "source": [
    "# После каждого применения из словаря удаляется и возвращается следующее значение, идет отчет справа на лево\n",
    "friends.popitem()"
   ]
  },
  {
   "cell_type": "markdown",
   "metadata": {},
   "source": [
    "# Различные структуры данных внутри словаря"
   ]
  },
  {
   "cell_type": "markdown",
   "metadata": {},
   "source": [
    "- Важно! В качестве ключа словаря должен выступать неизменяемый тип данных (числа, строки, кортежи), а в качестве значения может выступать любая структура данных."
   ]
  },
  {
   "cell_type": "code",
   "execution_count": 156,
   "metadata": {},
   "outputs": [
    {
     "data": {
      "text/plain": [
       "{(1, 2): 'hello',\n",
       " 'my name is': 'Curt',\n",
       " 5: (7, 7, 7),\n",
       " 'info': {'name': 'stive', 'age': 15, 'cities': ['Moscow', 'New York']}}"
      ]
     },
     "execution_count": 156,
     "metadata": {},
     "output_type": "execute_result"
    }
   ],
   "source": [
    "d = {(1,2): \"hello\", \"my name is\": \"Curt\", 5: (7,7,7), \"info\": {\"name\": \"stive\", \"age\": 15, \"cities\": [\"Moscow\", \"New York\"]}}\n",
    "d"
   ]
  },
  {
   "cell_type": "markdown",
   "metadata": {},
   "source": [
    " - Разберём пример выше.\n",
    "\n",
    "1. Мы видим, что в качестве первого ключа используется кортеж (1, 2), но значение у этого ключа строковое (напомним — значение может быть любым: число, строка, кортеж и т. д.).\n",
    "\n",
    "2. В качестве следующего ключа выступает строка \"my name is\", а в качестве значения — строка \"Curt\". \n",
    "\n",
    "3. В этот же словарь можно вставить в качестве ключа число (5), а в значение записать кортеж ((7, 7, 7)). \n",
    "\n",
    "4. Далее мы видим, что для строкового ключа \"info\" в качестве значения выступает словарь {name: \"stive\", age: 15, cities: [\"Moscow\", \"New York\"]}. Внутри этого словаря по ключу /\"cities\" также находится список  [\"Moscow\", \"New York\"]. \n",
    "\n",
    "Вложенность может быть очень глубокой и сложной."
   ]
  },
  {
   "cell_type": "markdown",
   "metadata": {},
   "source": [
    "# Множества\n",
    "- Множество — это структура данных, состоящая из уникальных элементов (элементы не могут повторяться). Элементы внутри множества могут быть объектами неизменяемых типов (числа, строки и кортежи). Множества не поддерживают хранение изменяемых типов данных, таких как списки, словари и сами множества. Порядок элементов во множестве не фиксирован, то есть элементы не упорядочены.\n",
    "- С множествами можно делать многие операции из теории множеств: объединение, пересечение, вычитание и т. д. Можно проверять принадлежность элемента к множеству.\n",
    "- Любые неизменяемые типы данных могут быть элементами множества: числа, строки, кортежи.\n",
    "#### ЗАЧЕМ НУЖНЫ МНОЖЕСТВА, ЕСЛИ ЕСТЬ СПИСКИ?\n",
    "- В отличие от списков, где элементы хранятся в виде последовательностей, в множествах порядок хранения элементов не определён. Внутри множества представлены с помощью «хитрых» алгоритмов, которые позволяют выполнять операции типа «проверить принадлежность элемента множеству» быстрее, чем просто перебором всех элементов множества.\n",
    "\n",
    "- На практике множества используются в случаях, когда надо взять только уникальные элементы из списка, а затем посмотреть только те элементы, которые есть либо в двух множествах, либо в каком-то одном из них. \n",
    "\n",
    "*Например, у нас есть статистика по продажам разных товаров. Она хранится в словаре d = {“apple”: 145, “mango”: 31, “banana”: 1, “orange”: 1}.*\n",
    "\n",
    "*Затем нам понадобилось посмотреть, какие значения имеют товары, однако нам не хочется смотреть на повторы. Тогда можно воспользоваться множествами. В итоге получится последовательность из трёх элементов: 145, 31, 1. Порядок элементов в множествах может не соблюдаться.*\n",
    "\n",
    "- пустое множество создается через конструктор типов set()\n"
   ]
  },
  {
   "cell_type": "code",
   "execution_count": 157,
   "metadata": {},
   "outputs": [
    {
     "name": "stdout",
     "output_type": "stream",
     "text": [
      "set()\n",
      "{'h', 'e', 'o', 'l'}\n"
     ]
    }
   ],
   "source": [
    "set_1 = set()\n",
    "print(set_1)\n",
    "s1 = set('hello')\n",
    "print(s1)"
   ]
  },
  {
   "cell_type": "markdown",
   "metadata": {},
   "source": [
    "- Важно! Вы можете создать множество с помощью фигурных скобок, но внутри множества уже должны быть элементы (хотя бы один). Пустые фигурные скобки указывают, что создаётся словарь, а не множество — про это нужно помнить."
   ]
  },
  {
   "cell_type": "code",
   "execution_count": 159,
   "metadata": {},
   "outputs": [
    {
     "name": "stdout",
     "output_type": "stream",
     "text": [
      "<class 'dict'>\n",
      "<class 'set'>\n"
     ]
    }
   ],
   "source": [
    "s1 = {}\n",
    "print(type(s1)) \n",
    "\n",
    "s2 = {1,2,3}\n",
    "print(type(s2))"
   ]
  },
  {
   "cell_type": "markdown",
   "metadata": {},
   "source": [
    "# Методы множеств\n",
    "1. .add() - быстро добавляется новый элемент в множество\n",
    "2. .update() - когда необходимо во множество добавить несколько элементов\n",
    "3. .discard() - позволяет убрать элемент из множества. \n",
    "4. .remove() -  позволяет убрать элемент из множества. Но если элемент отсутствует, то выдаст ошибку\n",
    "- Суть выбора заключается в логике вашего алгоритма. Если вам важно, чтобы удаление элемента было явным, используйте метод .remove().\n",
    "5. .union() - операция из теории множеств. Её суть заключается в том, чтобы отобрать из двух множеств все те элементы, которые есть в первом ИЛИ во втором множестве, то есть хотя бы в одном множестве.\n",
    "6. .intersection() - берутся все элементы, которые есть в обоих множествах.\n",
    "7. .difference() - выбирает все элементы из первого множества, которых нет во втором множестве.\n",
    "8. .issubset() - используется для того, чтобы узнать, все ли элементы из первого множества есть во втором множестве.\n",
    "\n",
    "- Дополнительно о множествах [тут](https://python-scripts.com/sets)\n",
    "\n",
    "#### Рассмотрим примеры работы методов множеств:"
   ]
  },
  {
   "cell_type": "code",
   "execution_count": 160,
   "metadata": {},
   "outputs": [
    {
     "data": {
      "text/plain": [
       "{1, 2, 3, 4, 5}"
      ]
     },
     "execution_count": 160,
     "metadata": {},
     "output_type": "execute_result"
    }
   ],
   "source": [
    "# add()\n",
    "s = {1, 2, 3, 4}\n",
    "s.add(5)\n",
    "s "
   ]
  },
  {
   "cell_type": "code",
   "execution_count": 163,
   "metadata": {},
   "outputs": [
    {
     "ename": "KeyError",
     "evalue": "10",
     "output_type": "error",
     "traceback": [
      "\u001b[1;31m---------------------------------------------------------------------------\u001b[0m",
      "\u001b[1;31mKeyError\u001b[0m                                  Traceback (most recent call last)",
      "Cell \u001b[1;32mIn [163], line 2\u001b[0m\n\u001b[0;32m      1\u001b[0m s1 \u001b[39m=\u001b[39m {\u001b[39m1\u001b[39m,\u001b[39m2\u001b[39m,\u001b[39m3\u001b[39m,\u001b[39m4\u001b[39m,\u001b[39m5\u001b[39m}\n\u001b[1;32m----> 2\u001b[0m s1\u001b[39m.\u001b[39;49mremove(\u001b[39m10\u001b[39;49m)\n",
      "\u001b[1;31mKeyError\u001b[0m: 10"
     ]
    }
   ],
   "source": [
    "# remove()\n",
    "s1 = {1,2,3,4,5}\n",
    "s1.remove(10)"
   ]
  },
  {
   "cell_type": "code",
   "execution_count": 165,
   "metadata": {},
   "outputs": [
    {
     "name": "stdout",
     "output_type": "stream",
     "text": [
      "None\n"
     ]
    }
   ],
   "source": [
    "# discard()\n",
    "print(s1.discard(10))"
   ]
  },
  {
   "cell_type": "code",
   "execution_count": 166,
   "metadata": {},
   "outputs": [
    {
     "data": {
      "text/plain": [
       "{'item1', 'item2', 'item3', 'item4', 'item5', 'item7'}"
      ]
     },
     "execution_count": 166,
     "metadata": {},
     "output_type": "execute_result"
    }
   ],
   "source": [
    "# union()\n",
    "cluster1 = {\"item1\", \"item2\", \"item3\", \"item4\"}\n",
    "cluster2 = {\"item2\", \"item3\", \"item5\", \"item7\"}\n",
    "cluster1.union(cluster2) "
   ]
  },
  {
   "cell_type": "code",
   "execution_count": 167,
   "metadata": {},
   "outputs": [
    {
     "data": {
      "text/plain": [
       "{'item2', 'item3'}"
      ]
     },
     "execution_count": 167,
     "metadata": {},
     "output_type": "execute_result"
    }
   ],
   "source": [
    "# intersection()\n",
    "cluster1 = {\"item1\", \"item2\", \"item3\", \"item4\"}\n",
    "cluster2 = {\"item2\", \"item3\", \"item5\", \"item7\"}\n",
    "cluster1.intersection(cluster2) "
   ]
  },
  {
   "cell_type": "code",
   "execution_count": 168,
   "metadata": {},
   "outputs": [
    {
     "data": {
      "text/plain": [
       "{'item1', 'item2'}"
      ]
     },
     "execution_count": 168,
     "metadata": {},
     "output_type": "execute_result"
    }
   ],
   "source": [
    "# difference()\n",
    "cluster1 = {\"item1\", \"item2\", \"item3\", \"item4\", \"item5\"}\n",
    "cluster2 = {\"item3\", \"item4\", \"item5\", \"item6\"}\n",
    "cluster1.difference(cluster2) "
   ]
  },
  {
   "cell_type": "code",
   "execution_count": 170,
   "metadata": {},
   "outputs": [
    {
     "data": {
      "text/plain": [
       "False"
      ]
     },
     "execution_count": 170,
     "metadata": {},
     "output_type": "execute_result"
    }
   ],
   "source": [
    "# issubcset()\n",
    "cluster1 = {\"item1\", \"item2\", \"item3\"}\n",
    "cluster2 = {\"item2\", \"item3\", \"item4\", \"item5\", \"item6\"}\n",
    "cluster1.issubset(cluster2) "
   ]
  },
  {
   "cell_type": "markdown",
   "metadata": {},
   "source": [
    "# Приведение чисел\n"
   ]
  },
  {
   "cell_type": "markdown",
   "metadata": {},
   "source": [
    "### Преобразование чисел между собой\n",
    "- Для того чтобы получить число с плавающей точкой из целого числа, нужно обернуть либо число, либо переменную в функцию float().\n"
   ]
  },
  {
   "cell_type": "code",
   "execution_count": 171,
   "metadata": {},
   "outputs": [
    {
     "data": {
      "text/plain": [
       "10.0"
      ]
     },
     "execution_count": 171,
     "metadata": {},
     "output_type": "execute_result"
    }
   ],
   "source": [
    "int_var = 10\n",
    "# присвоим переменной int_var целое число — 10.\n",
    "float_var = float(10)\n",
    "# запишем в переменную float_var преобразованное в вещественное целое число 10.\n",
    "int_var \n",
    "# 10\n",
    "float_var "
   ]
  },
  {
   "cell_type": "markdown",
   "metadata": {},
   "source": [
    "- Мы явно преобразовали один тип в другой. Теперь его можно использовать, чтобы, например, сложить два числа с плавающей точкой."
   ]
  },
  {
   "cell_type": "code",
   "execution_count": 172,
   "metadata": {},
   "outputs": [
    {
     "data": {
      "text/plain": [
       "15.2"
      ]
     },
     "execution_count": 172,
     "metadata": {},
     "output_type": "execute_result"
    }
   ],
   "source": [
    "float_var1 = 10.2\n",
    "# запишем в переменную float_var1 вещественное число\n",
    "float_var2 = float(5)\n",
    "# запишем в переменную float_var2 преобразованное в вещественное число 5\n",
    "\n",
    "float_var1 + float_var2 \n",
    "# сложим два числа и получим 15.2"
   ]
  },
  {
   "cell_type": "markdown",
   "metadata": {},
   "source": [
    "- На самом деле Python делает неявное преобразование каждый раз, когда вы производите операции с числами разного типа. Поэтому явное преобразование зачастую ненужно. Это экономит время. Но нужно понимать, что происходит на самом деле."
   ]
  },
  {
   "cell_type": "markdown",
   "metadata": {},
   "source": [
    "### Числа с плавающей точкой в целые числа\n",
    "Иногда хочется иметь целое число, а приходит число с плавающей точкой. Тогда нужно сделать приведение числа с плавающей точкой в целочисленный вид.\n",
    "\n",
    "Например, мы хотим взять средний элемент в списке из 15 элементов. Чтобы найти середину, нам нужно поделить 15 на 2. Получается 7.5. В списке индексы — целые числа. Значит, мы должны получить именно такое число. Если мы применим функцию int() к числу 7.5, то получим именно целое число (в данном случае 7)."
   ]
  },
  {
   "cell_type": "code",
   "execution_count": 173,
   "metadata": {},
   "outputs": [
    {
     "data": {
      "text/plain": [
       "7"
      ]
     },
     "execution_count": 173,
     "metadata": {},
     "output_type": "execute_result"
    }
   ],
   "source": [
    "float_var = 7.5\n",
    "# запишем в переменную float_var вещественное число\n",
    "int_var = int(7.5)\n",
    "# запишем в переменную int_var преобразованное в целое число число 7.5\n",
    "int_var \n",
    "# 7"
   ]
  },
  {
   "cell_type": "markdown",
   "metadata": {},
   "source": [
    "- Напомним, что функция int() не округляет, а «обрубает» вещественную часть. То есть после применения функции int() на числах 7.4, 7.6 на выходе получится одно и тоже число (7)."
   ]
  },
  {
   "cell_type": "markdown",
   "metadata": {},
   "source": [
    "### Преобразование чисел в строки\n",
    "С помощью функции str() можно преобразовать числа в строковое представление."
   ]
  },
  {
   "cell_type": "code",
   "execution_count": 174,
   "metadata": {},
   "outputs": [
    {
     "data": {
      "text/plain": [
       "'5'"
      ]
     },
     "execution_count": 174,
     "metadata": {},
     "output_type": "execute_result"
    }
   ],
   "source": [
    "int_var = 5\n",
    "str_var = str(int_var)\n",
    "str_var # ‘5’"
   ]
  },
  {
   "cell_type": "markdown",
   "metadata": {},
   "source": [
    "- Если вы хотите создать строку, которая будет содержать и строку, и числа, нужно сделать преобразование:"
   ]
  },
  {
   "cell_type": "code",
   "execution_count": 175,
   "metadata": {},
   "outputs": [],
   "source": [
    "str_var1 = \"I am\"\n",
    "# создали строковую переменную str_var1\n",
    "int_var = 10\n",
    "# затем переменную int_var с целым числом в значении\n",
    "str_var2 = \"years old\"\n",
    "# ещё одна строковая переменная str_var2"
   ]
  },
  {
   "cell_type": "markdown",
   "metadata": {},
   "source": [
    "- Если сложить три переменные (строку, число, строку) str_var1 + int_var + str_var2, получим ошибку TypeError: can only concatenate str (not \"int\") to str."
   ]
  },
  {
   "cell_type": "markdown",
   "metadata": {},
   "source": [
    "Для корректной работы необходимо сделать преобразование целого числа в строку"
   ]
  },
  {
   "cell_type": "code",
   "execution_count": 176,
   "metadata": {},
   "outputs": [
    {
     "data": {
      "text/plain": [
       "'I am10years old'"
      ]
     },
     "execution_count": 176,
     "metadata": {},
     "output_type": "execute_result"
    }
   ],
   "source": [
    "str_var1 + str(int_var) + str_var2 \n",
    "# Теперь всё работает, и мы получаем строку \"I’m 10 years old\" (без учёта создания пробелов при конкатенации)"
   ]
  },
  {
   "cell_type": "markdown",
   "metadata": {},
   "source": [
    "### Преобразование строк в числа\n",
    " Представим, что вам пришли два числа в строковом виде. Такое бывает, когда в форме на html-странице вы заполняете свои личные данные. Хотя в полях ввода вы пишете числа (год рождения или возраст, например), введённая вами информация отправляется на сервер в виде строки. А вам нужно работать с числами, а не со строками."
   ]
  },
  {
   "cell_type": "markdown",
   "metadata": {},
   "source": [
    "Пусть для социологического вопроса вы заполняете форму, в которой указываете год своего рождения, а рядом (в другом поле) — год рождения своей матери. Система хочет понять, сколько лет было вашей маме, когда она родила вас. Если делать это без приведения типов, результат может вас удивить:"
   ]
  },
  {
   "cell_type": "code",
   "execution_count": 178,
   "metadata": {},
   "outputs": [
    {
     "ename": "TypeError",
     "evalue": "unsupported operand type(s) for -: 'str' and 'str'",
     "output_type": "error",
     "traceback": [
      "\u001b[1;31m---------------------------------------------------------------------------\u001b[0m",
      "\u001b[1;31mTypeError\u001b[0m                                 Traceback (most recent call last)",
      "Cell \u001b[1;32mIn [178], line 3\u001b[0m\n\u001b[0;32m      1\u001b[0m my_date \u001b[39m=\u001b[39m \u001b[39m\"\u001b[39m\u001b[39m1990\u001b[39m\u001b[39m\"\u001b[39m\n\u001b[0;32m      2\u001b[0m mom_date \u001b[39m=\u001b[39m \u001b[39m\"\u001b[39m\u001b[39m1957\u001b[39m\u001b[39m\"\u001b[39m\n\u001b[1;32m----> 3\u001b[0m mom_date \u001b[39m-\u001b[39;49m my_date \u001b[39m# \u001b[39;00m\n",
      "\u001b[1;31mTypeError\u001b[0m: unsupported operand type(s) for -: 'str' and 'str'"
     ]
    }
   ],
   "source": [
    "my_date = \"1990\"\n",
    "mom_date = \"1957\"\n",
    "mom_date - my_date # "
   ]
  },
  {
   "cell_type": "markdown",
   "metadata": {},
   "source": [
    "Вместо целого числа вводим вещественное в строковом виде и сделаем преобразование"
   ]
  },
  {
   "cell_type": "code",
   "execution_count": 179,
   "metadata": {},
   "outputs": [
    {
     "data": {
      "text/plain": [
       "33.0"
      ]
     },
     "execution_count": 179,
     "metadata": {},
     "output_type": "execute_result"
    }
   ],
   "source": [
    "my_date = \"1990.0\"\n",
    "int_mom_date = int(mom_date)\n",
    "float_my_date =  float(my_date)\n",
    "float_my_date - int_mom_date \n",
    "# Получим уже число, а не ошибку. И число это будет равно 33.0."
   ]
  },
  {
   "cell_type": "markdown",
   "metadata": {},
   "source": [
    "-  Важно! int() делает внутри себя проверку на соответствие строки целому представлению. Если это не так, то выбрасывается ошибка (например, ошибка выше). Будьте внимательны."
   ]
  },
  {
   "cell_type": "markdown",
   "metadata": {},
   "source": [
    "### Преобразвание кортежи в списки\n",
    "Можно использовать две функции (tuple() и list()) для преобразования структур в кортежи и списки.\n",
    "\n",
    "Например, помните, что метод .keys() возвращает некий объект dict_keys? Он похож на список, но у него нет нужных методов. Кроме того, выкидывается ошибка, если начать соединять список и этот тип. Нам же нужно преобразовать всё в список и работать дальше, не думая о возможных проблемах."
   ]
  },
  {
   "cell_type": "code",
   "execution_count": 181,
   "metadata": {},
   "outputs": [
    {
     "data": {
      "text/plain": [
       "dict_keys(['Anne', 'Sam', 'Marie'])"
      ]
     },
     "execution_count": 181,
     "metadata": {},
     "output_type": "execute_result"
    }
   ],
   "source": [
    "dictionary = {\"Anne\": 15, \"Sam\": 30, \"Marie\": 22} \n",
    "only_keys = dictionary.keys()\n",
    "only_keys \n",
    "# dict_keys([\"Anne\", \"Sam\", \"Marie\"])"
   ]
  },
  {
   "cell_type": "code",
   "execution_count": 182,
   "metadata": {},
   "outputs": [
    {
     "ename": "TypeError",
     "evalue": "unsupported operand type(s) for +: 'dict_keys' and 'list'",
     "output_type": "error",
     "traceback": [
      "\u001b[1;31m---------------------------------------------------------------------------\u001b[0m",
      "\u001b[1;31mTypeError\u001b[0m                                 Traceback (most recent call last)",
      "Cell \u001b[1;32mIn [182], line 1\u001b[0m\n\u001b[1;32m----> 1\u001b[0m only_keys \u001b[39m=\u001b[39m only_keys \u001b[39m+\u001b[39;49m [\u001b[39m\"\u001b[39;49m\u001b[39mTom\u001b[39;49m\u001b[39m\"\u001b[39;49m, \u001b[39m\"\u001b[39;49m\u001b[39mCurt\u001b[39;49m\u001b[39m\"\u001b[39;49m] \n\u001b[0;32m      2\u001b[0m \u001b[39m# TypeError: unsupported operand type(s) for +: 'dict_keys' and 'list'\u001b[39;00m\n",
      "\u001b[1;31mTypeError\u001b[0m: unsupported operand type(s) for +: 'dict_keys' and 'list'"
     ]
    }
   ],
   "source": [
    "\n",
    "only_keys = only_keys + [\"Tom\", \"Curt\"] \n",
    "# TypeError: unsupported operand type(s) for +: 'dict_keys' and 'list'"
   ]
  },
  {
   "cell_type": "markdown",
   "metadata": {},
   "source": [
    "- Нужно преобразование:"
   ]
  },
  {
   "cell_type": "code",
   "execution_count": 183,
   "metadata": {},
   "outputs": [
    {
     "name": "stdout",
     "output_type": "stream",
     "text": [
      "['Anne', 'Sam', 'Marie', 'Tom', 'Curt']\n"
     ]
    }
   ],
   "source": [
    "only_keys = list(only_keys)\n",
    "only_keys = only_keys + [\"Tom\", \"Curt\"]  \n",
    "print(only_keys)\n",
    "# \"Anne\", \"Sam\", \"Marie\", \"Tom\", \"Curt\"]"
   ]
  },
  {
   "cell_type": "markdown",
   "metadata": {},
   "source": [
    "А что насчёт кортежей? Помните, мы обсуждали, что списки не могут выступать в качестве ключей словаря, а вот кортежи — могут? Представим, что мы получили список на вход, но очень хотим использовать его в качестве ключа."
   ]
  },
  {
   "cell_type": "code",
   "execution_count": 185,
   "metadata": {},
   "outputs": [
    {
     "data": {
      "text/plain": [
       "{('Amanda', 22, 'NY'): '3rd place'}"
      ]
     },
     "execution_count": 185,
     "metadata": {},
     "output_type": "execute_result"
    }
   ],
   "source": [
    "d = {(\"Amanda\", 22, \"NY\"): \"3rd place\"}\n",
    "d"
   ]
  },
  {
   "cell_type": "markdown",
   "metadata": {},
   "source": [
    "У нас есть исходный словарь, ключами в котором выступают кортежи с тремя значениями: имя (строка), возраст (число), город проживания (строка). Значением выступает строка, поясняющая место в таблице результатов на соревновании."
   ]
  },
  {
   "cell_type": "code",
   "execution_count": 186,
   "metadata": {},
   "outputs": [],
   "source": [
    "input_list = [\"Collin\", 23, \"LA\"]\n",
    "# создаём новый ключ для словаря. Но пока этот ключ в виде списка.\n",
    "input_place = \"2nd place\"\n",
    "# также определяем значение для нового ключа."
   ]
  },
  {
   "cell_type": "code",
   "execution_count": 187,
   "metadata": {},
   "outputs": [
    {
     "ename": "TypeError",
     "evalue": "unhashable type: 'list'",
     "output_type": "error",
     "traceback": [
      "\u001b[1;31m---------------------------------------------------------------------------\u001b[0m",
      "\u001b[1;31mTypeError\u001b[0m                                 Traceback (most recent call last)",
      "Cell \u001b[1;32mIn [187], line 1\u001b[0m\n\u001b[1;32m----> 1\u001b[0m d[input_list] \u001b[39m=\u001b[39m input_place \n\u001b[0;32m      2\u001b[0m \u001b[39m# TypeError: unhashable type: 'list'\u001b[39;00m\n",
      "\u001b[1;31mTypeError\u001b[0m: unhashable type: 'list'"
     ]
    }
   ],
   "source": [
    "d[input_list] = input_place \n",
    "# TypeError: unhashable type: 'list'"
   ]
  },
  {
   "cell_type": "markdown",
   "metadata": {},
   "source": [
    "- Возникает ошибка, так как список не может быть ключом для словаря — нужно преобразовать список в кортеж:"
   ]
  },
  {
   "cell_type": "code",
   "execution_count": 188,
   "metadata": {},
   "outputs": [
    {
     "data": {
      "text/plain": [
       "{('Amanda', 22, 'NY'): '3rd place', ('Collin', 23, 'LA'): '2nd place'}"
      ]
     },
     "execution_count": 188,
     "metadata": {},
     "output_type": "execute_result"
    }
   ],
   "source": [
    "input_list_as_tuple = tuple(input_list)\n",
    "# преобразуем список в кортеж через конструктор типов tuple()\n",
    "\n",
    "d[input_list_as_tuple] = input_place\n",
    "# добавляем новый ключ и значение в словарь и выводим результат\n",
    "d \n",
    "# {(\"Amanda\", 22, \"NY\"): \"3rd place\", (\"Collin\", 23, \"LA\"): \"2nd place\"}"
   ]
  },
  {
   "cell_type": "markdown",
   "metadata": {},
   "source": [
    "- Понимание того, как происходит преобразование типов, является существенным в Python. Это знание позволяет экономить время на поиске неочевидных ошибок: всегда лучше за 5-10 минут найти ошибку, а потом продолжить писать крутые программы, чем 1-2 дня потратить на то, что просто не знали или не выучили."
   ]
  }
 ],
 "metadata": {
  "kernelspec": {
   "display_name": "Python 3.8.9 64-bit",
   "language": "python",
   "name": "python3"
  },
  "language_info": {
   "codemirror_mode": {
    "name": "ipython",
    "version": 3
   },
   "file_extension": ".py",
   "mimetype": "text/x-python",
   "name": "python",
   "nbconvert_exporter": "python",
   "pygments_lexer": "ipython3",
   "version": "3.8.9 (tags/v3.8.9:a743f81, Apr  6 2021, 14:02:34) [MSC v.1928 64 bit (AMD64)]"
  },
  "orig_nbformat": 4,
  "vscode": {
   "interpreter": {
    "hash": "9650cb4e16cdd4a8e8e2d128bf38d875813998db22a3c986335f89e0cb4d7bb2"
   }
  }
 },
 "nbformat": 4,
 "nbformat_minor": 2
}
