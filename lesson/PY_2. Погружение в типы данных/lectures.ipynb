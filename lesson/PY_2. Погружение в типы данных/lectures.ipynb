{
 "cells": [
  {
   "cell_type": "markdown",
   "metadata": {},
   "source": [
    "# Списки и кортежи\n",
    "\n",
    "##### Список в Python — это упорядоченная изменяемая коллекция объектов произвольных типов.\n",
    "- Упорядоченность - каждый элемент в списке имеет свой порядковый номер.\n",
    "- Изменяемость - в процессе исполнения кода можно изменять состав элементов списка и последовательность их расположе\n",
    "- Коллекция - в одном списке может храниться множество объектов (например чисел или строковых величин).\n",
    "- Произвольные типы - в списке могут храниться данные, относящиеся к любым типам из тех, с которыми работает Python. Например, мы можем вставить в один список и целое число, и число с плавающей точкой, и строку, и даже отдельный список (да, в списке можно хранить списки), и любой другой тип.\n",
    "\n"
   ]
  },
  {
   "cell_type": "markdown",
   "metadata": {},
   "source": [
    "#### **Создание пустого списка** - список который готов принимать и хранить элементы, но пока их не содержит\n",
    "\n",
    "- Способ 1\n",
    "\n",
    "С помощью конструктора типа list() для списков.\n",
    "Имя переменной, в которой хранится список, подчиняется тем же законам именования, которые действуют и для уже известных вам типов: числа, строки и т. д. Здесь my_list выбрано в качестве примера. Но вы можете и должны называть переменные более осмысленными именами, чтобы было проще и понятней разбираться в коде.\n",
    "\n",
    "→ Также стоит отметить, что конструкция list() показывает, что переменной my_list в качестве значения присваивается пустой список."
   ]
  },
  {
   "cell_type": "code",
   "execution_count": 10,
   "metadata": {},
   "outputs": [],
   "source": [
    "my_list = list()"
   ]
  },
  {
   "cell_type": "markdown",
   "metadata": {},
   "source": [
    "- Способ 2\n",
    "\n",
    "Квадратные скобки. Это так называемый «синтаксический сахар». Вместо шести символов (list()) пишем только два ([ ])."
   ]
  },
  {
   "cell_type": "code",
   "execution_count": 7,
   "metadata": {},
   "outputs": [],
   "source": [
    "my_list = [ ]"
   ]
  },
  {
   "cell_type": "markdown",
   "metadata": {},
   "source": [
    "#### Создание списка содержащего перечень элементов\n",
    "\n",
    "**Важно!** Элементы в списке отделяются запятыми!\n",
    "\n",
    "Создадим несколько вариаций списков:"
   ]
  },
  {
   "cell_type": "code",
   "execution_count": 23,
   "metadata": {},
   "outputs": [
    {
     "name": "stdout",
     "output_type": "stream",
     "text": [
      "[1, 2, 3, 4, 5, 6, 7]\n",
      "['a', 'b', 'c', 'd', 'e', 'f']\n",
      "['Java', 'C', 'Python', 'C++']\n"
     ]
    }
   ],
   "source": [
    "numbers = [1, 2, 3, 4, 5, 6, 7]\n",
    "vowels = ['a', 'b', 'c', 'd', 'e', 'f']\n",
    "languages = ['Java', 'C', 'Python', 'C++']\n",
    "print(numbers, vowels, languages, sep=\"\\n\") # sep=\"\\n\" - для вывода построчно результатов\n"
   ]
  },
  {
   "cell_type": "markdown",
   "metadata": {},
   "source": [
    "**Важно:** отметить, что в Python есть конструкция — генератор целочисленных списков определённой длины. То есть мы можем задать первый элемент, последний элемент, а также шаг и получить готовый список для работы.\n",
    "\n",
    "**Важно:** числа будут создаваться без включения крайнего элемента. То есть если вы ставите правую границу равной 10, то крайним числом в получившемся списке будет 9."
   ]
  },
  {
   "cell_type": "code",
   "execution_count": 30,
   "metadata": {},
   "outputs": [
    {
     "name": "stdout",
     "output_type": "stream",
     "text": [
      "range(1, 10)\n",
      "range(0, 10)\n",
      "range(1, 10, 2)\n",
      "[0, 20, 40, 60, 80]\n"
     ]
    }
   ],
   "source": [
    "a = range(1, 10)\n",
    "#Генерация будет идти до крайнего элемента, то есть крайний элемент не будет включён в список. Шаг по умолчанию равен 1.\n",
    "print(a)\n",
    "b = range(10)\n",
    "print(b)\n",
    "c = range (1, 10, 2) # 2 это шаг. т.е. range (x, y, z) : x = начало, y = конец, z = шаг\n",
    "print(c)\n",
    "# Пример списка с помощью функции range\n",
    "d =  list(range(0, 100, 20))\n",
    "print (d)"
   ]
  },
  {
   "cell_type": "markdown",
   "metadata": {},
   "source": [
    "# Методы работы со списками"
   ]
  },
  {
   "cell_type": "markdown",
   "metadata": {},
   "source": [
    "Индексы & Срезы\n",
    "- Индекс - это элемент списка. Нумерация индексов начинается с нуля\n",
    "- Срезы - помножество элементов заданного порядка с возможным указанием шага"
   ]
  },
  {
   "cell_type": "code",
   "execution_count": 40,
   "metadata": {},
   "outputs": [
    {
     "name": "stdout",
     "output_type": "stream",
     "text": [
      "b\n",
      "a\n",
      "c\n",
      "['a', 'b']\n",
      "['c', 'd']\n",
      "['a', 'c']\n",
      "['e', 'd', 'c', 'b', 'a']\n"
     ]
    }
   ],
   "source": [
    "# Пример индекса \n",
    "a = ['a', 'b', 'c']\n",
    "print(a[1])\n",
    "print(a[0])\n",
    "print(a[-1])  # когда используется знак *минус* отчет индексов начинается с конца списка\n",
    "# Пример среза\n",
    "a = [\"a\", \"b\", \"c\", \"d\", \"e\"]\n",
    "print(a[:2])\n",
    "print(a[2:4])\n",
    "print(a[0:4:2])\n",
    "b = a[::-1]  # развернуть список\n",
    "print(b)\n"
   ]
  },
  {
   "cell_type": "markdown",
   "metadata": {},
   "source": [
    "# Список методов работы со списками:\n",
    "- split() - получает из строки список\n",
    "- .append() - добавляет элемент в конец списка\n",
    "- .extend() - принимает в качестве параметра итерируемый объекты (списки, кортежи и троки) и добавляет\n",
    "- .count() - считает количество аргументов\n",
    "- .copy() -  копирование списка\n",
    "- .reverse() - разворачивает список слева направо\n",
    "- .sort() - сортируюет список\n",
    "\n",
    "#### Приведем пару примеров с методами:"
   ]
  },
  {
   "cell_type": "code",
   "execution_count": 67,
   "metadata": {},
   "outputs": [
    {
     "name": "stdout",
     "output_type": "stream",
     "text": [
      "['Hello', 'my', 'friend']\n",
      "['Tea', ' Coffe', ' Beer', ' Juice']\n",
      "['Tea, Coffe, Beer, Juice']\n",
      "['Tea', 'Coffe', 'Beer, Juice']\n"
     ]
    }
   ],
   "source": [
    "# split()\n",
    "text = 'Hello my friend'\n",
    "text_2 = 'Tea, Coffe, Beer, Juice'\n",
    "print(text.split()) # Все через запятую\n",
    "print(text_2.split(',')) # Использует запятую для разделения\n",
    "print(text_2.split(', ', 0)) # 0 - сколько раз будет выполнено разделение\n",
    "print(text_2.split(', ', 2)) "
   ]
  },
  {
   "cell_type": "code",
   "execution_count": 86,
   "metadata": {},
   "outputs": [
    {
     "name": "stdout",
     "output_type": "stream",
     "text": [
      "['car', 'top', 'lot', 'row']\n"
     ]
    }
   ],
   "source": [
    "# append()\n",
    "element = ['car', 'top', 'lot']\n",
    "element.append('row')\n",
    "print(element)"
   ]
  },
  {
   "cell_type": "code",
   "execution_count": 91,
   "metadata": {},
   "outputs": [
    {
     "name": "stdout",
     "output_type": "stream",
     "text": [
      "['car', 'top', 'lot', 'row', 'cook', 'look', 'and', 'cook', 'look', 'and', 'cook', 'look', 'and', 'cook', 'look', 'and']\n",
      "['man', 'woomen', 'p', 'e', 'o', 'p', 'l', 'e']\n"
     ]
    }
   ],
   "source": [
    "# extend\n",
    "block = ['cook', 'look', 'and']\n",
    "element.extend(block) # При повторном нажание на принт, элементы ещё раз будут добавлены в списоком\n",
    "print(element)\n",
    "block_2 = ['man', 'woomen']\n",
    "block_test = 'people'\n",
    "block_2.extend(block_test) # строки, которые передаются в extend(), превращаются в списки символов и добавляются посимвольно\n",
    "print(block_2)"
   ]
  },
  {
   "cell_type": "code",
   "execution_count": 93,
   "metadata": {},
   "outputs": [
    {
     "data": {
      "text/plain": [
       "4"
      ]
     },
     "execution_count": 93,
     "metadata": {},
     "output_type": "execute_result"
    }
   ],
   "source": [
    "# count()\n",
    "andd = [\"a\", \"b\", \"c\", \"d\", \"b\", \"b\", \"g\", \"b\", \"r\"]\n",
    "andd.count(\"b\") "
   ]
  },
  {
   "cell_type": "code",
   "execution_count": 95,
   "metadata": {},
   "outputs": [
    {
     "name": "stdout",
     "output_type": "stream",
     "text": [
      "[1, 2, 3]\n",
      "[6, 5, 4]\n"
     ]
    }
   ],
   "source": [
    "# copy()\n",
    "one = [1,2,3]\n",
    "two = one.copy()\n",
    "print(two) \n",
    "#В Python есть синтаксический сахар для данного метода — две квадратные скобки с двоеточием внутри [:]. \n",
    "# Мы как бы говорим: «Сделай мне полный срез исходного списка в другую переменную»\n",
    "list_sugar = [6,5,4]\n",
    "sugar = list_sugar[:]\n",
    "print(sugar)"
   ]
  },
  {
   "cell_type": "code",
   "execution_count": 96,
   "metadata": {},
   "outputs": [
    {
     "name": "stdout",
     "output_type": "stream",
     "text": [
      "[5, 4, 3, 2, 1]\n"
     ]
    }
   ],
   "source": [
    "# reverse()\n",
    "tip_1 = [1,2,3,4,5]\n",
    "tip_1.reverse()\n",
    "print(tip_1) "
   ]
  },
  {
   "cell_type": "code",
   "execution_count": 97,
   "metadata": {},
   "outputs": [
    {
     "name": "stdout",
     "output_type": "stream",
     "text": [
      "[0, 1, 2, 3, 4, 5, 10]\n"
     ]
    }
   ],
   "source": [
    "# sort()\n",
    "\n",
    "list_sort = [3,4,1,5,10,0, 2]\n",
    "list_sort.sort()\n",
    "print(list_sort) "
   ]
  },
  {
   "cell_type": "markdown",
   "metadata": {},
   "source": [
    "# Кортеж\n",
    "- Отличия Кортежа от Списка:\n",
    "1.  Кортеж - это неизменяемая структура данных. Его можно создать один раз и затем использовать без модификации эдементов внутри.\n",
    "2. Кортежи занимают меньший обхем памяти.\n",
    "3. Кортежи - можно использовать в качестве ключей для словарей. \n",
    "- .__sizeof__() - проверить объем занимаемой памяти\n",
    "- Кортеж обрамляется круглыми скобками. \n",
    "\n",
    "Примеры: \n"
   ]
  },
  {
   "cell_type": "code",
   "execution_count": 99,
   "metadata": {},
   "outputs": [
    {
     "name": "stdout",
     "output_type": "stream",
     "text": [
      "80\n",
      "96\n"
     ]
    }
   ],
   "source": [
    "# Создадим кортеж:\n",
    "a =  (1,2,3,4,5,6,7)\n",
    "# Создадим список:\n",
    "b = [1,2,3,4,5,6,7]\n",
    "print(a.__sizeof__())\n",
    "print(b.__sizeof__())"
   ]
  },
  {
   "cell_type": "markdown",
   "metadata": {},
   "source": [
    "#### Создание кортежа\n",
    "1. С помощью конструктора типа tuple()\n",
    "tpl1 = tuple()\n",
    "2. С помощью двух круглых скобок ()\n",
    "tpl2 = ()\n",
    "\n",
    "- Важно! Чтобы создать кортеж с одним числом, нужно поставить после него запятую вот так:\n",
    "tpl3 = ('s', )\n",
    "\n"
   ]
  },
  {
   "cell_type": "markdown",
   "metadata": {},
   "source": [
    "# Словари\n",
    "\n",
    "- Словарь - это неупорядоченные коллекции произвольных объектов с доступом по ключу.Иногда называют их ассоциативными массивами или хеш-таблицами.\n",
    "\n",
    "- Важно! Поиск всегда идёт по ключу. Нельзя использовать значение в качестве ключа.\n",
    "- Важно! Ключи в словаре должны быть уникальными. Если вы вставляете в словарь два одинаковых ключа с разными значениями, то тогда в качестве значения примется последнее значение, которое вы записали для ключ;\n",
    "\n",
    "- Важно! В более ранних версиях Python (до версии 3.7) не гарантируется, что ключи в словаре всегда будут находиться в том порядке, в котором были добавлены, — порядок может меняться. Следует обращать на это внимание, если вы работаете с более ранними версиями языка.\n",
    "\n",
    "- Словарь является неупорядоченной структурой, то есть ключи и их значения в оперативной памяти лежат не по порядку, поэтому сортировка словаря не имеет смысла и у него нет метода .sort().\n",
    "\n",
    "- Однако вы можете отдельно сортировать ключи и значения словаря в виде списка (предварительно применив функцию list()). Чтобы выделить ключи и значения словаря, используются методы .keys() и .values(). "
   ]
  },
  {
   "cell_type": "code",
   "execution_count": 102,
   "metadata": {},
   "outputs": [
    {
     "data": {
      "text/plain": [
       "['Dima', 'Kolya', 'Marina', 'Misha', 'Nina', 'Yana']"
      ]
     },
     "execution_count": 102,
     "metadata": {},
     "output_type": "execute_result"
    }
   ],
   "source": [
    "friends = {\"Kolya\": 180, \"Marina\": 176, \"Misha\": 158, \"Dima\": 201, \"Yana\": 183, \"Nina\": 156}\n",
    "friends_keys = list(friends.keys())\n",
    "friends_keys.sort()\n",
    "friends_keys"
   ]
  },
  {
   "cell_type": "markdown",
   "metadata": {},
   "source": [
    "Чтобы разобраться, в каком порядке выводятся данные при использовании метода .keys, рекомендуем ознакомиться с дополнительными материалами:\n",
    "\n",
    "[статьёй](https://silentsokolov.github.io/python-37-ordered-dict) об упорядочении словарей в Python версии 3.7 и выше;\n",
    "\n",
    "[видео](https://www.youtube.com/watch?v=0UX4MIfOMEs) о хэш-таблицах."
   ]
  },
  {
   "cell_type": "markdown",
   "metadata": {},
   "source": [
    "#### Создание словарей\n",
    "- Способ 1\n",
    "Использование конструктора типа dict()\n",
    "my_dict = dict()\n",
    "- Способ 2\n",
    "Использование фигурных скобок {}\n",
    "my_dict = {}\n",
    "- Способ 3\n",
    "С помощью метода fromkeys\n",
    "my_dict = dict.fromkeys()\n",
    "- С помощью генераторов словарей, которые очень похожи на генераторы списков.\n",
    "my_dict = {a: values for a in range ()}\n",
    "\n",
    "#### Рассмотрим несколько примеров по способам:"
   ]
  },
  {
   "cell_type": "code",
   "execution_count": 103,
   "metadata": {},
   "outputs": [
    {
     "name": "stdout",
     "output_type": "stream",
     "text": [
      "{'short': 'dict', 'long': 'dictionary'}\n",
      "{1: 1, 2: 4}\n",
      "\n",
      "{'dict': 1, 'dictionary': 2}\n",
      "\n",
      "{'a': None, 'b': None}\n",
      "{'a': 100, 'b': 100}\n",
      "\n",
      "{0: 0, 1: 1, 2: 4, 3: 9, 4: 16, 5: 25, 6: 36}\n"
     ]
    }
   ],
   "source": [
    "# Способ 1:\n",
    "my_dict_1 = dict(short='dict', long='dictionary')\n",
    "my_dict_2 = dict([(1, 1), (2, 4)])\n",
    "print(my_dict_1)\n",
    "print(my_dict_2)\n",
    "print()\n",
    "\n",
    "# Способ 2:\n",
    "my_dict_3 = {'dict': 1, 'dictionary': 2}\n",
    "print(my_dict_3)\n",
    "print()\n",
    "\n",
    "# Способ 3:\n",
    "my_dict_4 = dict.fromkeys(['a', 'b'])\n",
    "my_dict_5 = dict.fromkeys(['a', 'b'], 100)\n",
    "print(my_dict_4)\n",
    "print(my_dict_5)\n",
    "print()\n",
    "\n",
    "# Cпособ 4:\n",
    "my_dict_6 = {a: a ** 2 for a in range(7)}\n",
    "print(my_dict_6)"
   ]
  },
  {
   "cell_type": "code",
   "execution_count": 104,
   "metadata": {},
   "outputs": [
    {
     "data": {
      "text/plain": [
       "'Ekaterina Dmitrieva'"
      ]
     },
     "execution_count": 104,
     "metadata": {},
     "output_type": "execute_result"
    }
   ],
   "source": [
    "# Пример обращения к словарю по ключу:\n",
    "phones = {'+79033923029': 'Ivan Ivanov', '+78125849204': 'Kirill Smirnov', '+79053049385': 'Mark Parkhomenko', '+79265748370': 'Ekaterina Dmitrieva', '+79030598495': 'Ruslan Belyi'}\n",
    "phones[\"+79265748370\"]"
   ]
  },
  {
   "cell_type": "code",
   "execution_count": 105,
   "metadata": {},
   "outputs": [
    {
     "data": {
      "text/plain": [
       "'Ekaterina Ershova'"
      ]
     },
     "execution_count": 105,
     "metadata": {},
     "output_type": "execute_result"
    }
   ],
   "source": [
    "# Пример обновлении информации по ключу\n",
    "phones[\"+79265748370\"]  = 'Ekaterina Ershova'\n",
    "phones[\"+79265748370\"] "
   ]
  },
  {
   "cell_type": "code",
   "execution_count": 107,
   "metadata": {},
   "outputs": [
    {
     "data": {
      "text/plain": [
       "{'+79033923029': 'Ivan Ivanov',\n",
       " '+78125849204': 'Kirill Smirnov',\n",
       " '+79053049385': 'Mark Parkhomenko',\n",
       " '+79265748370': 'Ekaterina Ershova',\n",
       " '+79030598495': 'Ruslan Belyi',\n",
       " '+79686581788': 'Artem Pliev'}"
      ]
     },
     "execution_count": 107,
     "metadata": {},
     "output_type": "execute_result"
    }
   ],
   "source": [
    "# Пример внесение нового элемента в словарь:\n",
    "phones[\"+79686581788\"]  = 'Artem Pliev'\n",
    "phones"
   ]
  },
  {
   "cell_type": "markdown",
   "metadata": {},
   "source": [
    "# Методы работы со словарями\n",
    "1. .clear() - возвращения пустого словаря\n",
    "2. .keys() - возвращения ключей словаря\n",
    "3. .values() - возвращения значения ключей\n",
    "4. .get() - умное обращение обращения к словарю.Если отсутствует ключ, то программа вернет None, а не выдаст ошибку\n",
    "5. .update() - для добавления нескольких элементов в словарь\n",
    "6. .pop() - удаляет из структуры данных элементы, но дополнительно возвращает удалённый элемент. Метод изменяет первоначальный словарь, а его результат (удалённый элемент) можно записать в переменную, чтобы в дальнейшем использовать в программе.\n",
    "7. .setdefault() - принимает два параметра: ключ и значение по умолчанию, если этого ключа нет в словаре. Этот метод создаст ключ за вас, если он действительно отсутствует, если ключ имеется, его значение останется неизменным\n",
    "8. .copy() - возвращает копию словаря\n",
    "9. .fromkeys(seq[, value]) - создает словарь с ключами из seq и значением value (по умолчанию None)\n",
    "10. .items() - возвращает пары (ключ, значение).\n",
    "11. .popitem() - удаляет и возвращает пару (ключ, значение). Если словарь пуст, бросает исключение KeyError. Помните, что словари неупорядочены.\n",
    "\n",
    "#### Примеры работы со словарями:\n"
   ]
  },
  {
   "cell_type": "code",
   "execution_count": 108,
   "metadata": {},
   "outputs": [
    {
     "name": "stdout",
     "output_type": "stream",
     "text": [
      "{'Kolya': 180, 'Marina': 176, 'Misha': 158, 'Dima': 201, 'Yana': 183, 'Nina': 156}\n",
      "{}\n"
     ]
    }
   ],
   "source": [
    "# clear\n",
    "friends = {\"Kolya\": 180, \"Marina\": 176, \"Misha\": 158, \"Dima\": 201, \"Yana\": 183, \"Nina\": 156}\n",
    "print(friends)\n",
    "friends.clear()\n",
    "print(friends)"
   ]
  },
  {
   "cell_type": "markdown",
   "metadata": {},
   "source": [
    "- Важно! Если вы выполнили операцию .clear(), данные обратно вернуть нельзя, только если вы предусмотрительно не сохранили копию словаря (с помощью соответствующего метода) в другую переменную перед «стиранием»."
   ]
  },
  {
   "cell_type": "code",
   "execution_count": 111,
   "metadata": {},
   "outputs": [
    {
     "data": {
      "text/plain": [
       "dict_keys(['Kolya', 'Marina', 'Misha', 'Dima', 'Yana', 'Nina'])"
      ]
     },
     "execution_count": 111,
     "metadata": {},
     "output_type": "execute_result"
    }
   ],
   "source": [
    "# keys()\n",
    "friends = {\"Kolya\": 180, \"Marina\": 176, \"Misha\": 158, \"Dima\": 201, \"Yana\": 183, \"Nina\": 156}\n",
    "friends.keys() "
   ]
  },
  {
   "cell_type": "markdown",
   "metadata": {},
   "source": [
    "- Важно отметить, что метод .keys() возвращает не просто список, а структуру типа dict_keys."
   ]
  },
  {
   "cell_type": "code",
   "execution_count": 112,
   "metadata": {},
   "outputs": [
    {
     "data": {
      "text/plain": [
       "dict_values([180, 176, 158, 201, 183, 156])"
      ]
     },
     "execution_count": 112,
     "metadata": {},
     "output_type": "execute_result"
    }
   ],
   "source": [
    "# friends = {\"Kolya\": 180, \"Marina\": 176, \"Misha\": 158, \"Dima\": 201, \"Yana\": 183, \"Nina\": 156}\n",
    "friends.values() "
   ]
  },
  {
   "cell_type": "code",
   "execution_count": 117,
   "metadata": {},
   "outputs": [
    {
     "name": "stdout",
     "output_type": "stream",
     "text": [
      "None\n",
      "201\n"
     ]
    }
   ],
   "source": [
    "# friends = {\"Kolya\": 180, \"Marina\": 176, \"Misha\": 158, \"Dima\": 201, \"Yana\": 183, \"Nina\": 156}\n",
    "print(friends.get(\"Matvey\"))\n",
    "print(friends.get(\"Dima\"))"
   ]
  },
  {
   "cell_type": "code",
   "execution_count": 119,
   "metadata": {},
   "outputs": [
    {
     "data": {
      "text/plain": [
       "{'Kolya': 200,\n",
       " 'Marina': 176,\n",
       " 'Misha': 158,\n",
       " 'Dima': 201,\n",
       " 'Yana': 183,\n",
       " 'Nina': 156,\n",
       " 'Stas': 171,\n",
       " 'Nastya': 163}"
      ]
     },
     "execution_count": 119,
     "metadata": {},
     "output_type": "execute_result"
    }
   ],
   "source": [
    "# friends = {\"Kolya\": 180, \"Marina\": 176, \"Misha\": 158, \"Dima\": 201, \"Yana\": 183, \"Nina\": 156}\n",
    "friends.update({\"Kolya\":200, \"Stas\":171, \"Nastya\": 163})\n",
    "friends "
   ]
  },
  {
   "cell_type": "markdown",
   "metadata": {},
   "source": [
    "- Важно отметить, что .update() также обновляет уже существующие значения по ключам, находящимся в словаре. Обрати внимание на пример выше. Коля был изначально 180, а стал 200"
   ]
  },
  {
   "cell_type": "code",
   "execution_count": 130,
   "metadata": {},
   "outputs": [
    {
     "name": "stdout",
     "output_type": "stream",
     "text": [
      "{'Kolya': 180, 'Marina': 176, 'Dima': 201, 'Yana': 183, 'Nina': 156}\n",
      "158\n"
     ]
    }
   ],
   "source": [
    "friends = {\"Kolya\": 180, \"Marina\": 176, \"Misha\": 158, \"Dima\": 201, \"Yana\": 183, \"Nina\": 156}\n",
    "best_friend_height = friends.pop(\"Misha\")\n",
    "print(friends) \n",
    "print(best_friend_height)"
   ]
  },
  {
   "cell_type": "code",
   "execution_count": 149,
   "metadata": {},
   "outputs": [
    {
     "name": "stdout",
     "output_type": "stream",
     "text": [
      "{'Kolya': 180, 'Marina': 176, 'Dima': 201, 'Yana': 183, 'Nina': 156, 'Stas': 183, 'Nastya': 163}\n",
      "{'Kolya': 180, 'Marina': 176, 'Dima': 201, 'Yana': 183, 'Nina': 156, 'Stas': 183, 'Nastya': 163, 'Alena': 170}\n"
     ]
    }
   ],
   "source": [
    "friends = {\"Kolya\": 180, \"Marina\": 176, \"Dima\": 201, \"Yana\": 183, \"Nina\": 156, \"Stas\":183, \"Nastya\": 163}\n",
    "friends.setdefault(\"Nastya\",100)\n",
    "friends[\"Nastya\"] \n",
    "print(friends)\n",
    "friends.setdefault(\"Alena\", 170)\n",
    "friends[\"Alena\"] \n",
    "print(friends)"
   ]
  },
  {
   "cell_type": "code",
   "execution_count": 155,
   "metadata": {},
   "outputs": [
    {
     "name": "stdout",
     "output_type": "stream",
     "text": [
      "{0: 0, 4: 0, 5: 0, 12: 0, 13: 0, 23: 0}\n",
      "{0: 1, 4: 1, 5: 1, 12: 1, 13: 1, 23: 1}\n"
     ]
    }
   ],
   "source": [
    "# Где можно применить метод dict.fromkeys().\n",
    "# Например есть список с повторяющимися значениями и необходимо узнать сколько раз какой элемент повторяется в этом списке. \n",
    "# Результат получим в виде словаря, где уникальный элемент списка будет ключом, а количество повторений - значением.\n",
    "lst= [0, 12, 13, 4, 23, 5]\n",
    "# Создаем ключи будущего словаря (множество set()) \n",
    "# может иметь только уникальные элементы)\n",
    "key = set(lst)\n",
    "# создаем словарь 'rez' из списка ключей 'key'\n",
    "# со значением по умолчанию = 0\n",
    "rez = dict.fromkeys(key, 0)\n",
    "print(rez)\n",
    "\n",
    "for key in lst:\n",
    "    # увеличиваем счетчик\n",
    "    # соответствующего ключа на 1\n",
    "    rez[key] +=1\n",
    "print(rez) "
   ]
  },
  {
   "cell_type": "code",
   "execution_count": 150,
   "metadata": {},
   "outputs": [
    {
     "data": {
      "text/plain": [
       "dict_items([('Kolya', 180), ('Marina', 176), ('Dima', 201), ('Yana', 183), ('Nina', 156), ('Stas', 183), ('Nastya', 163), ('Alena', 170)])"
      ]
     },
     "execution_count": 150,
     "metadata": {},
     "output_type": "execute_result"
    }
   ],
   "source": [
    "friends.items()"
   ]
  },
  {
   "cell_type": "code",
   "execution_count": 151,
   "metadata": {},
   "outputs": [
    {
     "data": {
      "text/plain": [
       "('Alena', 170)"
      ]
     },
     "execution_count": 151,
     "metadata": {},
     "output_type": "execute_result"
    }
   ],
   "source": [
    "# После каждого применения из словаря удаляется и возвращается следующее значение, идет отчет справа на лево\n",
    "friends.popitem()"
   ]
  },
  {
   "cell_type": "markdown",
   "metadata": {},
   "source": [
    "# Различные структуры данных внутри словаря"
   ]
  },
  {
   "cell_type": "markdown",
   "metadata": {},
   "source": [
    "- Важно! В качестве ключа словаря должен выступать неизменяемый тип данных (числа, строки, кортежи), а в качестве значения может выступать любая структура данных."
   ]
  },
  {
   "cell_type": "code",
   "execution_count": 156,
   "metadata": {},
   "outputs": [
    {
     "data": {
      "text/plain": [
       "{(1, 2): 'hello',\n",
       " 'my name is': 'Curt',\n",
       " 5: (7, 7, 7),\n",
       " 'info': {'name': 'stive', 'age': 15, 'cities': ['Moscow', 'New York']}}"
      ]
     },
     "execution_count": 156,
     "metadata": {},
     "output_type": "execute_result"
    }
   ],
   "source": [
    "d = {(1,2): \"hello\", \"my name is\": \"Curt\", 5: (7,7,7), \"info\": {\"name\": \"stive\", \"age\": 15, \"cities\": [\"Moscow\", \"New York\"]}}\n",
    "d"
   ]
  },
  {
   "cell_type": "markdown",
   "metadata": {},
   "source": [
    " - Разберём пример выше.\n",
    "\n",
    "1. Мы видим, что в качестве первого ключа используется кортеж (1, 2), но значение у этого ключа строковое (напомним — значение может быть любым: число, строка, кортеж и т. д.).\n",
    "\n",
    "2. В качестве следующего ключа выступает строка \"my name is\", а в качестве значения — строка \"Curt\". \n",
    "\n",
    "3. В этот же словарь можно вставить в качестве ключа число (5), а в значение записать кортеж ((7, 7, 7)). \n",
    "\n",
    "4. Далее мы видим, что для строкового ключа \"info\" в качестве значения выступает словарь {name: \"stive\", age: 15, cities: [\"Moscow\", \"New York\"]}. Внутри этого словаря по ключу /\"cities\" также находится список  [\"Moscow\", \"New York\"]. \n",
    "\n",
    "Вложенность может быть очень глубокой и сложной."
   ]
  }
 ],
 "metadata": {
  "kernelspec": {
   "display_name": "Python 3.8.9 64-bit",
   "language": "python",
   "name": "python3"
  },
  "language_info": {
   "codemirror_mode": {
    "name": "ipython",
    "version": 3
   },
   "file_extension": ".py",
   "mimetype": "text/x-python",
   "name": "python",
   "nbconvert_exporter": "python",
   "pygments_lexer": "ipython3",
   "version": "3.8.9"
  },
  "orig_nbformat": 4,
  "vscode": {
   "interpreter": {
    "hash": "9650cb4e16cdd4a8e8e2d128bf38d875813998db22a3c986335f89e0cb4d7bb2"
   }
  }
 },
 "nbformat": 4,
 "nbformat_minor": 2
}
