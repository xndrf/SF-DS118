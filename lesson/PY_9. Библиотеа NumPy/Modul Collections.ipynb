{
 "cells": [
  {
   "cell_type": "markdown",
   "metadata": {},
   "source": [
    "# Освоения возможностей встроенного модуля **Collections**\n",
    "- **Collections** позволяет упростить написание кода при решении некоторых типовых задач, таких как подсчёт числа различных элементов или создание словаря для хранения в нём списков.\n",
    "- **Collections** состоит из 4-х модулей **Counter**, **defaultdict**, **deque**, **OrderedDict**\n",
    "1. **Counter** - счетчик числа различных элементов;\n",
    "2. **defaultdict** - словарь с заданным типом данных по умолчанию;\n",
    "3. **deque** - инструмент для работы с очередями элементов;\n",
    "4. **OrderedDict** - словарь, который гарантирует сохранение порядка добавления ключей в нём."
   ]
  },
  {
   "cell_type": "markdown",
   "metadata": {},
   "source": [
    "# Модуль Counter"
   ]
  },
  {
   "cell_type": "code",
   "execution_count": 1,
   "metadata": {},
   "outputs": [],
   "source": [
    "# Для использования счетчика необходимо вначале импортировать объект Counter из модуля collections\n",
    "from collections import Counter\n",
    "# Далее создаем пустой объект Counter\n",
    "c =  Counter()  # теперь в переменной c хранится объект с возможностями Counter"
   ]
  },
  {
   "cell_type": "markdown",
   "metadata": {},
   "source": [
    "#### Пример расчета с использованием Counter"
   ]
  },
  {
   "cell_type": "code",
   "execution_count": 2,
   "metadata": {},
   "outputs": [
    {
     "name": "stdout",
     "output_type": "stream",
     "text": [
      "Counter({'red': 3, 'black': 3, 'blue': 2, 'white': 1})\n"
     ]
    }
   ],
   "source": [
    "cars_spb = ['red', 'blue', 'black', 'black', 'black', 'red', 'blue', 'red', 'white']\n",
    "cars_moscow = ['black', 'black', 'white', 'black', 'black', 'white', 'yellow', 'yellow', 'yellow']\n",
    "counter_moscow = Counter(cars_moscow)  # Получаем счетчики на город\n",
    "counter_spb = Counter(cars_spb)  # Получаем счетчики на город\n",
    "from collections import Counter\n",
    "c =  Counter(cars_spb)\n",
    "print (c)"
   ]
  },
  {
   "cell_type": "markdown",
   "metadata": {},
   "source": [
    "#### Несколько операций с модулем Counter"
   ]
  },
  {
   "cell_type": "code",
   "execution_count": 3,
   "metadata": {},
   "outputs": [
    {
     "name": "stdout",
     "output_type": "stream",
     "text": [
      "3\n",
      "0\n",
      "9\n",
      "dict_values([3, 2, 3, 1])\n",
      "Counter({'black': 7, 'white': 3, 'yellow': 3, 'red': 3, 'blue': 2})\n",
      "Counter({'yellow': 3, 'black': 1, 'white': 1, 'blue': -2, 'red': -3})\n"
     ]
    }
   ],
   "source": [
    "print(c['black'])  # Узнаём, сколько раз встретился конкретный элемент\n",
    "print(c['purple'])  # Обращаемся к счётчику по несуществующему ключу\n",
    "print(sum(c.values()))  # Узнаём сумму всех значений в объекте\n",
    "print(c.values())  # Узнаем число раз, когда встретился ключ\n",
    "print(counter_moscow + counter_spb)  # Складываем счетчики\n",
    "counter_moscow.subtract(counter_spb)  # Узнаем разницу между объектами Counter (Применение функции subtract)\n",
    "print(counter_moscow) # Функция subtract не всегда бывает удобно использовать для вычитания, так как модифицируется исходный счётчик"
   ]
  },
  {
   "cell_type": "markdown",
   "metadata": {},
   "source": [
    "#### ДОПОЛНИТЕЛЬНЫЕ ФУНКЦИИ"
   ]
  },
  {
   "cell_type": "code",
   "execution_count": 4,
   "metadata": {},
   "outputs": [
    {
     "name": "stdout",
     "output_type": "stream",
     "text": [
      "red red red blue blue black black black white\n",
      "['red', 'blue', 'black', 'white']\n",
      "{'red': 3, 'blue': 2, 'black': 3, 'white': 1}\n",
      "[('red', 3), ('black', 3), ('blue', 2), ('white', 1)]\n",
      "[('red', 3), ('black', 3)]\n",
      "Counter()\n"
     ]
    }
   ],
   "source": [
    "print(*counter_spb.elements())  # Получаем список вссех элементов, которые содержатся в Counter. Эл-ты возвращаются в алфавитном порядке!\n",
    "print(list(counter_spb))  # Получаем список уникальных элементов с помощью list()\n",
    "print(dict(counter_spb))  # С помощью функции dict() превращаем Counter в обычный словарь\n",
    "print(counter_spb.most_common())  # Получаем список из кортежей элементов в порядке убывания их встречаемости\n",
    "print(counter_spb.most_common(2))  # Задаём желаемое число первых наиболее частых элементов, например, 2\n",
    "counter_moscow.clear()  # функция clear() позволяет полностью обнулить счётчик\n",
    "print(counter_moscow)"
   ]
  },
  {
   "cell_type": "markdown",
   "metadata": {},
   "source": [
    "# Модуль defaultdict\n",
    "- defaultdict позволяет задавать тот тип данных, который хранится в словаре по умолчанию (в нашем случае это должен быть список)"
   ]
  },
  {
   "cell_type": "markdown",
   "metadata": {},
   "source": [
    "Создадим defaultdict, в котором при обращении по несуществующему ключу будет автоматически создаваться новый список. Для этого при создании объекта defaultdict в круглых скобках передадим параметр list"
   ]
  },
  {
   "cell_type": "code",
   "execution_count": 1,
   "metadata": {},
   "outputs": [
    {
     "name": "stdout",
     "output_type": "stream",
     "text": [
      "defaultdict(<class 'list'>, {1: ['Ivanov', 'Kuznetsova'], 4: ['Smirnov'], 3: ['Petrov', 'Markov'], 2: ['Nikitina', 'Pavlov']})\n"
     ]
    }
   ],
   "source": [
    "students = [('Ivanov',1),('Smirnov',4),('Petrov',3),('Kuznetsova',1),\n",
    "            ('Nikitina',2),('Markov',3),('Pavlov',2)]\n",
    "\n",
    "from collections import defaultdict\n",
    "groups = defaultdict(list) # также можно было бы применить set, dict\n",
    "for student, group in students:\n",
    "    groups[group].append(student)\n",
    "    \n",
    "print(groups)"
   ]
  },
  {
   "cell_type": "markdown",
   "metadata": {},
   "source": [
    "#### Несколько операций с модулем defaultdict"
   ]
  },
  {
   "cell_type": "code",
   "execution_count": 2,
   "metadata": {},
   "outputs": [
    {
     "name": "stdout",
     "output_type": "stream",
     "text": [
      "['Petrov', 'Markov']\n",
      "[]\n"
     ]
    }
   ],
   "source": [
    "print(groups[3])  # получаем элемент по ключу\n",
    "print(groups[2021])  # если запрашиваемого ключа нет в словаре, KeyError не возникнет, но он добавится при последующем запросе"
   ]
  },
  {
   "cell_type": "markdown",
   "metadata": {},
   "source": [
    "* Отличие dict от defaultdict: В dict нельзя указать хранимый в нём по умолчанию объект верно"
   ]
  },
  {
   "cell_type": "markdown",
   "metadata": {},
   "source": [
    "#### Приведем несколько примеров модуля defayltdict"
   ]
  },
  {
   "cell_type": "code",
   "execution_count": 10,
   "metadata": {},
   "outputs": [
    {
     "data": {
      "text/plain": [
       "[('blue', [2, 4]), ('red', [1]), ('yellow', [1, 3])]"
      ]
     },
     "execution_count": 10,
     "metadata": {},
     "output_type": "execute_result"
    }
   ],
   "source": [
    "# Используя list в качестве default_factory, легко сгруппировать последовательность пар ключ-значение в словарь списков\n",
    "s = [('yellow', 1), ('blue', 2), ('yellow', 3), ('blue', 4), ('red', 1)]\n",
    "d = defaultdict(list)\n",
    "for k, v in s:\n",
    "    d[k].append(v)\n",
    "\n",
    "sorted(d.items())"
   ]
  },
  {
   "cell_type": "code",
   "execution_count": 11,
   "metadata": {},
   "outputs": [
    {
     "data": {
      "text/plain": [
       "[('blue', [2, 4]), ('red', [1]), ('yellow', [1, 3])]"
      ]
     },
     "execution_count": 11,
     "metadata": {},
     "output_type": "execute_result"
    }
   ],
   "source": [
    "# При повторном обнаружении ключей поиск выполняется нормально (возвращая список для этого ключа), а операция list.append() \n",
    "# добавляет к списку еще одно значение. Этот метод проще и быстрее, чем эквивалентный метод с использованием dict.setdefault():\n",
    "d = {}\n",
    "for k, v in s:\n",
    "    d.setdefault(k, []).append(v)\n",
    "\n",
    "sorted(d.items())"
   ]
  },
  {
   "cell_type": "code",
   "execution_count": 8,
   "metadata": {},
   "outputs": [
    {
     "data": {
      "text/plain": [
       "[('i', 4), ('m', 1), ('p', 2), ('s', 4)]"
      ]
     },
     "execution_count": 8,
     "metadata": {},
     "output_type": "execute_result"
    }
   ],
   "source": [
    "# Установка default_factory int делает defaultdict полезным для подсчета\n",
    "s = 'mississippi'\n",
    "d = defaultdict(int)\n",
    "for k in s:\n",
    "    d[k] += 1\n",
    "\n",
    "sorted(d.items())"
   ]
  },
  {
   "cell_type": "code",
   "execution_count": 12,
   "metadata": {},
   "outputs": [
    {
     "data": {
      "text/plain": [
       "'John ran to <missing>'"
      ]
     },
     "execution_count": 12,
     "metadata": {},
     "output_type": "execute_result"
    }
   ],
   "source": [
    "# Более быстрым и гибким способом создания константных функций является использование лямбда-функции, \n",
    "# которая может предоставить любое постоянное значение (а не только ноль)\n",
    "def constant_factory(value):\n",
    "    return lambda: value\n",
    "d = defaultdict(constant_factory('<missing>'))\n",
    "d.update(name='John', action='ran')\n",
    "'%(name)s %(action)s to %(object)s' % d"
   ]
  },
  {
   "cell_type": "code",
   "execution_count": 13,
   "metadata": {},
   "outputs": [
    {
     "data": {
      "text/plain": [
       "[('blue', {2, 4}), ('red', {1, 3})]"
      ]
     },
     "execution_count": 13,
     "metadata": {},
     "output_type": "execute_result"
    }
   ],
   "source": [
    "# Установка default_factory setделает defaultdict полезным для построения словаря множеств\n",
    "s = [('red', 1), ('blue', 2), ('red', 3), ('blue', 4), ('red', 1), ('blue', 4)]\n",
    "d = defaultdict(set)\n",
    "for k, v in s:\n",
    "    d[k].add(v)\n",
    "\n",
    "sorted(d.items())"
   ]
  },
  {
   "cell_type": "markdown",
   "metadata": {},
   "source": [
    "# Модуль OrderedDict\n",
    "Специальный словарь, который гарантирует сохранение ключей в порядке их добавления, называется OrderedDict"
   ]
  },
  {
   "cell_type": "code",
   "execution_count": 14,
   "metadata": {},
   "outputs": [
    {
     "name": "stdout",
     "output_type": "stream",
     "text": [
      "OrderedDict([('Ivan', 19), ('Mark', 25), ('Andrey', 23), ('Maria', 20)])\n"
     ]
    }
   ],
   "source": [
    "from collections import OrderedDict\n",
    "data = [('Ivan', 19),('Mark', 25),('Andrey', 23),('Maria', 20)]\n",
    "ordered_client_ages = OrderedDict(data)\n",
    "print(ordered_client_ages)"
   ]
  },
  {
   "cell_type": "markdown",
   "metadata": {},
   "source": [
    "#### Несколько операций с модулем OrderedDict"
   ]
  },
  {
   "cell_type": "code",
   "execution_count": 17,
   "metadata": {},
   "outputs": [
    {
     "name": "stdout",
     "output_type": "stream",
     "text": [
      "OrderedDict([('Ivan', 19), ('Maria', 20), ('Andrey', 23), ('Mark', 25)])\n",
      "OrderedDict([('Ivan', 19), ('Maria', 20), ('Andrey', 23), ('Mark', 25), ('Nikita', 18)])\n",
      "OrderedDict([('Ivan', 19), ('Maria', 20), ('Mark', 25), ('Nikita', 18)])\n",
      "OrderedDict([('Ivan', 19), ('Maria', 20), ('Mark', 25), ('Nikita', 18), ('Andrey', 23)])\n"
     ]
    }
   ],
   "source": [
    "# Сортируем по второму значению из кортежа, то есть по возрасту\n",
    "ordered_client_ages = OrderedDict(sorted(data, key=lambda x: x[1]))\n",
    "print(ordered_client_ages)\n",
    "# Если теперь добавить нового человека в словарь\n",
    "ordered_client_ages['Nikita'] = 18\n",
    "print(ordered_client_ages)\n",
    "# Если удалить элемент, а затем добавить его снова, он также окажется в конце\n",
    "del ordered_client_ages['Andrey']\n",
    "print(ordered_client_ages)\n",
    "ordered_client_ages['Andrey'] = 23\n",
    "print(ordered_client_ages)"
   ]
  },
  {
   "cell_type": "markdown",
   "metadata": {},
   "source": [
    "# Модуль Deque"
   ]
  },
  {
   "cell_type": "markdown",
   "metadata": {},
   "source": [
    "- Deque (double-ended queue — двухконцевая очередь) - инструмент для работы с упорядоченными структурами данных **очереди** и **рюкзаки (стеки)** совместно."
   ]
  },
  {
   "cell_type": "markdown",
   "metadata": {},
   "source": [
    "- Очередь — это упорядоченный тип данных, который обладает двумя ключевыми функциями: добавление элемента в конец очереди и извлечение самого первого элемента из очереди. FIFO (First In — First Out, «первым пришёл — первым ушёл»).\n",
    "\n",
    "- Стек (stack — стопка) — это упорядоченный тип данных, который обладает двумя основными функциями: добавление элемента в конец стека и извлечение элемента из конца стека. LIFO (Last In — First Out, «последним пришёл — первым ушёл»)."
   ]
  },
  {
   "cell_type": "code",
   "execution_count": 2,
   "metadata": {},
   "outputs": [
    {
     "name": "stdout",
     "output_type": "stream",
     "text": [
      "deque([])\n"
     ]
    }
   ],
   "source": [
    "# Для создания пустого дэка(deque), необходимо импортировать его из библиотеи collections:\n",
    "from collections import deque\n",
    "dq = deque() # задаем название пустого дэка\n",
    "print(dq) "
   ]
  },
  {
   "cell_type": "markdown",
   "metadata": {},
   "source": [
    "#### Ключевые функции модуля **deque**"
   ]
  },
  {
   "cell_type": "code",
   "execution_count": 7,
   "metadata": {},
   "outputs": [
    {
     "name": "stdout",
     "output_type": "stream",
     "text": [
      "deque(['first element', 12, 11, 10, 9, 8, 'last element', 'first element', 1, 2, 3, 4, 5, 6, 7, 'last element'])\n",
      "12\n",
      "deque([14, 13, 12, 11, 10, 9, 8, 'first element', 12, 11, 10, 9, 8, 'last element', 'first element', 1, 2, 3, 4, 5, 6, 7, 'last element', 1, 2, 3, 4, 5, 6, 7])\n",
      "14\n",
      "deque([12, 11, 10, 9, 8, 'first element', 12, 11, 10, 9, 8, 'last element', 'first element', 1, 2, 3, 4, 5, 6, 7, 'last element', 1, 2, 3, 4, 5, 6, 7])\n"
     ]
    }
   ],
   "source": [
    "# append  - добавление элемента в конец дэка\n",
    "# appendleft - добавление элемента в начало дэка\n",
    "dq.append('last element')\n",
    "dq.appendleft('first element')\n",
    "print(dq)\n",
    "# Объект deque поддерживает индексацию элементов\n",
    "print(dq[1])\n",
    "# exted - добавить несколько элементов из итерируемого объекта в конец дэка\n",
    "# extedleft - добавить несколько элементов из итерируемого объекта в начало дэка\n",
    "dq.extend([1, 2, 3, 4, 5, 6, 7])\n",
    "dq.extendleft([8, 9, 10, 11, 12, 13, 14])\n",
    "print(dq)\n",
    "# pop - удалить и вернуть элемент из конца дэка\n",
    "# popleft - удалить и вернуть элемент из начала дэка\n",
    "del_first = dq.popleft()\n",
    "print(del_first)\n",
    "# del - удалить конкретный элемент по индексу\n",
    "del dq[0]\n",
    "print(dq)"
   ]
  },
  {
   "cell_type": "markdown",
   "metadata": {},
   "source": [
    "#### Дополнительные фукции модуля deque"
   ]
  },
  {
   "cell_type": "code",
   "execution_count": 12,
   "metadata": {},
   "outputs": [
    {
     "name": "stdout",
     "output_type": "stream",
     "text": [
      "deque([], maxlen=3)\n",
      "deque([5, 6, 7], maxlen=3)\n",
      "deque([6, 7, 8], maxlen=3)\n",
      "deque(['t', 'r', 'e', 'w', 'q'])\n",
      "deque(['w', 'q', 't', 'r', 'e'])\n",
      "deque(['t', 'r', 'e', 'w', 'q'])\n",
      "2\n",
      "1\n",
      "deque([])\n"
     ]
    }
   ],
   "source": [
    "# Необходимость создания очереди с ограниченной максимальной длинной \n",
    "dq_new = deque(maxlen=3)\n",
    "print(dq_new)\n",
    "dq_new_limited = deque([1, 2, 3, 4, 5, 6, 7], maxlen=3)\n",
    "print(dq_new_limited)\n",
    "dq_new_limited.append(8)\n",
    "# Отметка 1: в очередях с ограниченной длиной сохраняются только последние элементы, а первые исчезают из памяти.\n",
    "print(dq_new_limited)\n",
    "# Отметка 2: удаляемый элемент не возвращается, а просто исчезает\n",
    "# меняем порядок элементов в очереди на обратный\n",
    "dq_two = deque(['q', 'w', 'e', 'r', 't'])\n",
    "dq_two.reverse()\n",
    "print(dq_two)\n",
    "# переносим n заданных элементов из конца очереди в начало\n",
    "dq_two.rotate(2)\n",
    "print(dq_two)\n",
    "# или из начала в конец\n",
    "dq_two.rotate(-2)\n",
    "print(dq_two)\n",
    "print (dq_two.index('e'))  # поиск первого идекса искомого элемента\n",
    "print (dq_two.count('r'))  # посчитать сколько раз элемент встретился в очереди\n",
    "dq_two.clear()  # очистить очередь\n",
    "print(dq_two)\n"
   ]
  },
  {
   "cell_type": "markdown",
   "metadata": {},
   "source": [
    "- Пример использования функции maxlen в модуле deque:"
   ]
  },
  {
   "cell_type": "code",
   "execution_count": 6,
   "metadata": {},
   "outputs": [
    {
     "name": "stdout",
     "output_type": "stream",
     "text": [
      "20.77; 21.27; 22.16; 23.3; 24.44; 24.94; 25.56; 26.2; 25.97; 25.94; 25.57; 25.1; 24.81; 24.21; 23.23; 22.57; 21.41; 20.4; 19.6; 19.1; 19.04; 18.96; 19.44; 20.01; 20.67; \n"
     ]
    }
   ],
   "source": [
    "# Посчитаем динамику средней температуры с усреднением за каждые последние 7 дней для каждого рассматриваемого дня.\n",
    "\n",
    "temps = [20.6, 19.4, 19.0, 19.0, 22.1,\n",
    "        22.5, 22.8, 24.1, 25.6, 27.0,\n",
    "        27.0, 25.6, 26.8, 27.3, 22.5,\n",
    "        25.4, 24.4, 23.7, 23.6, 22.6,\n",
    "        20.4, 17.9, 17.3, 17.3, 18.1,\n",
    "        20.1, 22.2, 19.8, 21.3, 21.3,\n",
    "        21.9]\n",
    "days = deque(maxlen=7)\n",
    " \n",
    "# Для этого воспользуемся очередью с параметром maxlen=7\n",
    "\n",
    "for temp in temps:\n",
    "    # Добавляем температуру в очередь\n",
    "    days.append(temp)\n",
    "    # Если длина очереди оказалась равной максимальной длине очереди (7),\n",
    "    # печатаем среднюю температуру за последние 7 дней\n",
    "    if len(days) == days.maxlen:\n",
    "        print(round(sum(days) / len(days), 2), end='; ')\n",
    "# Напечатаем пустую строку, чтобы завершить действие параметра\n",
    "# end. Иначе следующая строка окажется напечатанной на предыдущей\n",
    "print(\"\")\n",
    "# Результат:\n",
    "# 20.77; 21.27; 22.16; 23.3; 24.44; 24.94; 25.56; 26.2; 25.97;\n",
    "# 25.94; 25.57; 25.1; 24.81; 24.21; 23.23; 22.57; 21.41; 20.4;\n",
    "# 19.6; 19.1; 19.04; 18.96; 19.44; 20.01; 20.67;"
   ]
  },
  {
   "cell_type": "markdown",
   "metadata": {},
   "source": []
  }
 ],
 "metadata": {
  "kernelspec": {
   "display_name": "Python 3.8.9 64-bit",
   "language": "python",
   "name": "python3"
  },
  "language_info": {
   "codemirror_mode": {
    "name": "ipython",
    "version": 3
   },
   "file_extension": ".py",
   "mimetype": "text/x-python",
   "name": "python",
   "nbconvert_exporter": "python",
   "pygments_lexer": "ipython3",
   "version": "3.8.9 (tags/v3.8.9:a743f81, Apr  6 2021, 14:02:34) [MSC v.1928 64 bit (AMD64)]"
  },
  "orig_nbformat": 4,
  "vscode": {
   "interpreter": {
    "hash": "9650cb4e16cdd4a8e8e2d128bf38d875813998db22a3c986335f89e0cb4d7bb2"
   }
  }
 },
 "nbformat": 4,
 "nbformat_minor": 2
}
